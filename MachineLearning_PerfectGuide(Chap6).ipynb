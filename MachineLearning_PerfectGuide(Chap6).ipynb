{
 "cells": [
  {
   "cell_type": "markdown",
   "metadata": {
    "id": "0Tc81GKxXqkR"
   },
   "source": [
    "# PCA"
   ]
  },
  {
   "cell_type": "code",
   "execution_count": null,
   "metadata": {
    "colab": {
     "base_uri": "https://localhost:8080/",
     "height": 142
    },
    "executionInfo": {
     "elapsed": 2051,
     "status": "ok",
     "timestamp": 1619244709984,
     "user": {
      "displayName": "작은빗방울",
      "photoUrl": "",
      "userId": "04277491561705901693"
     },
     "user_tz": -540
    },
    "id": "vbOgU0D8XnY_",
    "outputId": "0a8a4ae8-5e9a-4445-a27d-1411f940611a"
   },
   "outputs": [
    {
     "data": {
      "text/html": [
       "<div>\n",
       "<style scoped>\n",
       "    .dataframe tbody tr th:only-of-type {\n",
       "        vertical-align: middle;\n",
       "    }\n",
       "\n",
       "    .dataframe tbody tr th {\n",
       "        vertical-align: top;\n",
       "    }\n",
       "\n",
       "    .dataframe thead th {\n",
       "        text-align: right;\n",
       "    }\n",
       "</style>\n",
       "<table border=\"1\" class=\"dataframe\">\n",
       "  <thead>\n",
       "    <tr style=\"text-align: right;\">\n",
       "      <th></th>\n",
       "      <th>sepal_length</th>\n",
       "      <th>sepal_width</th>\n",
       "      <th>petal_length</th>\n",
       "      <th>petal_width</th>\n",
       "      <th>target</th>\n",
       "    </tr>\n",
       "  </thead>\n",
       "  <tbody>\n",
       "    <tr>\n",
       "      <th>0</th>\n",
       "      <td>5.1</td>\n",
       "      <td>3.5</td>\n",
       "      <td>1.4</td>\n",
       "      <td>0.2</td>\n",
       "      <td>0</td>\n",
       "    </tr>\n",
       "    <tr>\n",
       "      <th>1</th>\n",
       "      <td>4.9</td>\n",
       "      <td>3.0</td>\n",
       "      <td>1.4</td>\n",
       "      <td>0.2</td>\n",
       "      <td>0</td>\n",
       "    </tr>\n",
       "    <tr>\n",
       "      <th>2</th>\n",
       "      <td>4.7</td>\n",
       "      <td>3.2</td>\n",
       "      <td>1.3</td>\n",
       "      <td>0.2</td>\n",
       "      <td>0</td>\n",
       "    </tr>\n",
       "  </tbody>\n",
       "</table>\n",
       "</div>"
      ],
      "text/plain": [
       "   sepal_length  sepal_width  petal_length  petal_width  target\n",
       "0           5.1          3.5           1.4          0.2       0\n",
       "1           4.9          3.0           1.4          0.2       0\n",
       "2           4.7          3.2           1.3          0.2       0"
      ]
     },
     "execution_count": 2,
     "metadata": {
      "tags": []
     },
     "output_type": "execute_result"
    }
   ],
   "source": [
    "# PCA 개요\n",
    "from sklearn.datasets import load_iris\n",
    "import pandas as pd\n",
    "import matplotlib.pyplot as plt\n",
    "\n",
    "iris=load_iris()\n",
    "\n",
    "columns=['sepal_length','sepal_width','petal_length','petal_width']\n",
    "irisDF=pd.DataFrame(iris.data,columns=columns)\n",
    "irisDF['target']=iris.target\n",
    "irisDF.head(3)"
   ]
  },
  {
   "cell_type": "code",
   "execution_count": null,
   "metadata": {
    "colab": {
     "base_uri": "https://localhost:8080/",
     "height": 282
    },
    "executionInfo": {
     "elapsed": 3242,
     "status": "ok",
     "timestamp": 1619244711325,
     "user": {
      "displayName": "작은빗방울",
      "photoUrl": "",
      "userId": "04277491561705901693"
     },
     "user_tz": -540
    },
    "id": "bp5w7gj0Ycpt",
    "outputId": "019cae19-4672-45f8-d219-9acc8f78cc6b"
   },
   "outputs": [
    {
     "data": {
      "image/png": "[encoded data removed]",
      "text/plain": [
       "<Figure size 432x288 with 1 Axes>"
      ]
     },
     "metadata": {
      "needs_background": "light",
      "tags": []
     },
     "output_type": "display_data"
    }
   ],
   "source": [
    "markers=['^','s','o']\n",
    "\n",
    "for i,marker in enumerate(markers):\n",
    "  x_axis_data=irisDF[irisDF['target']==i]['sepal_length']\n",
    "  y_axis_data=irisDF[irisDF['target']==i]['sepal_width']\n",
    "  plt.scatter(x_axis_data,y_axis_data,marker=marker,label=iris.target_names[i])\n",
    "\n",
    "plt.legend()\n",
    "plt.xlabel('sepal length')\n",
    "plt.ylabel('sepal width')\n",
    "plt.show()"
   ]
  },
  {
   "cell_type": "code",
   "execution_count": null,
   "metadata": {
    "colab": {
     "base_uri": "https://localhost:8080/"
    },
    "executionInfo": {
     "elapsed": 3076,
     "status": "ok",
     "timestamp": 1619244711328,
     "user": {
      "displayName": "작은빗방울",
      "photoUrl": "",
      "userId": "04277491561705901693"
     },
     "user_tz": -540
    },
    "id": "YUlup2TqZPgo",
    "outputId": "754673b6-af72-4add-fd71-6fc40811f019"
   },
   "outputs": [
    {
     "data": {
      "text/plain": [
       "(150, 4)"
      ]
     },
     "execution_count": 4,
     "metadata": {
      "tags": []
     },
     "output_type": "execute_result"
    }
   ],
   "source": [
    "# 평균 0, 분산 1인 정규분포로 원본데이터 변환\n",
    "from sklearn.preprocessing import StandardScaler\n",
    "\n",
    "# 타겟값 제외하고 표준정규분포로 변환\n",
    "iris_scaled=StandardScaler().fit_transform(irisDF.iloc[:,:-1])\n",
    "iris_scaled.shape"
   ]
  },
  {
   "cell_type": "code",
   "execution_count": null,
   "metadata": {
    "colab": {
     "base_uri": "https://localhost:8080/"
    },
    "executionInfo": {
     "elapsed": 2876,
     "status": "ok",
     "timestamp": 1619244711329,
     "user": {
      "displayName": "작은빗방울",
      "photoUrl": "",
      "userId": "04277491561705901693"
     },
     "user_tz": -540
    },
    "id": "pksmYVidZ9jo",
    "outputId": "274dbdc5-7447-4b73-f012-8c08e6ad0081"
   },
   "outputs": [
    {
     "name": "stdout",
     "output_type": "stream",
     "text": [
      "(150, 3)\n"
     ]
    }
   ],
   "source": [
    "# 사이킷런 PCA 사용\n",
    "from sklearn.decomposition import PCA\n",
    "pca=PCA(n_components=3)\n",
    "pca.fit(iris_scaled)\n",
    "iris_pca=pca.transform(iris_scaled)\n",
    "print(iris_pca.shape)"
   ]
  },
  {
   "cell_type": "code",
   "execution_count": null,
   "metadata": {
    "colab": {
     "base_uri": "https://localhost:8080/",
     "height": 142
    },
    "executionInfo": {
     "elapsed": 2707,
     "status": "ok",
     "timestamp": 1619244711331,
     "user": {
      "displayName": "작은빗방울",
      "photoUrl": "",
      "userId": "04277491561705901693"
     },
     "user_tz": -540
    },
    "id": "ny11tPm0a0hy",
    "outputId": "3a934f1d-f4e9-4033-f6c1-b2b0c14b0d13"
   },
   "outputs": [
    {
     "data": {
      "text/html": [
       "<div>\n",
       "<style scoped>\n",
       "    .dataframe tbody tr th:only-of-type {\n",
       "        vertical-align: middle;\n",
       "    }\n",
       "\n",
       "    .dataframe tbody tr th {\n",
       "        vertical-align: top;\n",
       "    }\n",
       "\n",
       "    .dataframe thead th {\n",
       "        text-align: right;\n",
       "    }\n",
       "</style>\n",
       "<table border=\"1\" class=\"dataframe\">\n",
       "  <thead>\n",
       "    <tr style=\"text-align: right;\">\n",
       "      <th></th>\n",
       "      <th>pca_component_1</th>\n",
       "      <th>pca_component_2</th>\n",
       "      <th>3</th>\n",
       "      <th>target</th>\n",
       "    </tr>\n",
       "  </thead>\n",
       "  <tbody>\n",
       "    <tr>\n",
       "      <th>0</th>\n",
       "      <td>-2.264703</td>\n",
       "      <td>0.480027</td>\n",
       "      <td>-0.127706</td>\n",
       "      <td>0</td>\n",
       "    </tr>\n",
       "    <tr>\n",
       "      <th>1</th>\n",
       "      <td>-2.080961</td>\n",
       "      <td>-0.674134</td>\n",
       "      <td>-0.234609</td>\n",
       "      <td>0</td>\n",
       "    </tr>\n",
       "    <tr>\n",
       "      <th>2</th>\n",
       "      <td>-2.364229</td>\n",
       "      <td>-0.341908</td>\n",
       "      <td>0.044201</td>\n",
       "      <td>0</td>\n",
       "    </tr>\n",
       "  </tbody>\n",
       "</table>\n",
       "</div>"
      ],
      "text/plain": [
       "   pca_component_1  pca_component_2         3  target\n",
       "0        -2.264703         0.480027 -0.127706       0\n",
       "1        -2.080961        -0.674134 -0.234609       0\n",
       "2        -2.364229        -0.341908  0.044201       0"
      ]
     },
     "execution_count": 6,
     "metadata": {
      "tags": []
     },
     "output_type": "execute_result"
    }
   ],
   "source": [
    "pca_columns=['pca_component_1','pca_component_2','3']\n",
    "irisDF_pca=pd.DataFrame(iris_pca,columns=pca_columns)\n",
    "irisDF_pca['target']=iris.target\n",
    "irisDF_pca.head(3)"
   ]
  },
  {
   "cell_type": "code",
   "execution_count": null,
   "metadata": {
    "colab": {
     "base_uri": "https://localhost:8080/",
     "height": 279
    },
    "executionInfo": {
     "elapsed": 2510,
     "status": "ok",
     "timestamp": 1619244711333,
     "user": {
      "displayName": "작은빗방울",
      "photoUrl": "",
      "userId": "04277491561705901693"
     },
     "user_tz": -540
    },
    "id": "2_Z1xnrpbrrx",
    "outputId": "eaedcd4d-10ad-4a3e-ebdf-644877817938"
   },
   "outputs": [
    {
     "data": {
      "image/png": "[encoded data removed]",
      "text/plain": [
       "<Figure size 432x288 with 1 Axes>"
      ]
     },
     "metadata": {
      "needs_background": "light",
      "tags": []
     },
     "output_type": "display_data"
    }
   ],
   "source": [
    "# PCA로 차원축소된 피처로 데이터 산포도 시각화\n",
    "markers=['^','s','o']\n",
    "for i,marker in enumerate(markers):\n",
    "  x_axis_data=irisDF_pca[irisDF_pca['target']==i]['pca_component_1']\n",
    "  y_axis_data=irisDF_pca[irisDF_pca['target']==i]['pca_component_2']\n",
    "  plt.scatter(x_axis_data,y_axis_data,marker=marker,label=iris.target_names[i])\n",
    "\n",
    "plt.legend()\n",
    "plt.xlabel('pca component 1')\n",
    "plt.ylabel('pca component 2')\n",
    "plt.show()"
   ]
  },
  {
   "cell_type": "code",
   "execution_count": null,
   "metadata": {
    "colab": {
     "base_uri": "https://localhost:8080/"
    },
    "executionInfo": {
     "elapsed": 2345,
     "status": "ok",
     "timestamp": 1619244711334,
     "user": {
      "displayName": "작은빗방울",
      "photoUrl": "",
      "userId": "04277491561705901693"
     },
     "user_tz": -540
    },
    "id": "dM6eFHjic-8R",
    "outputId": "1124e072-c4cd-48d7-e3c0-9a9bd747d622"
   },
   "outputs": [
    {
     "name": "stdout",
     "output_type": "stream",
     "text": [
      "[0.72962445 0.22850762 0.03668922]\n"
     ]
    }
   ],
   "source": [
    "# 각 PCA Component별 변동성 비율\n",
    "print(pca.explained_variance_ratio_)"
   ]
  },
  {
   "cell_type": "code",
   "execution_count": null,
   "metadata": {
    "colab": {
     "base_uri": "https://localhost:8080/"
    },
    "executionInfo": {
     "elapsed": 2864,
     "status": "ok",
     "timestamp": 1619244712064,
     "user": {
      "displayName": "작은빗방울",
      "photoUrl": "",
      "userId": "04277491561705901693"
     },
     "user_tz": -540
    },
    "id": "YEfAu16HdKRA",
    "outputId": "13abe174-eef1-4c58-861b-f9404312e37d"
   },
   "outputs": [
    {
     "name": "stdout",
     "output_type": "stream",
     "text": [
      "[0.98 0.94 0.96]\n",
      "0.96\n"
     ]
    }
   ],
   "source": [
    "# 원본 데이터 와 PCA 변환된 데이터 기반에서 예측 성능 비교\n",
    "from sklearn.ensemble import RandomForestClassifier\n",
    "from sklearn.model_selection import cross_val_score\n",
    "import numpy as np\n",
    "\n",
    "rcf=RandomForestClassifier(random_state=156)\n",
    "scores=cross_val_score(rcf,iris.data,iris.target,scoring='accuracy',cv=3)\n",
    "print(scores)\n",
    "print(np.mean(scores))"
   ]
  },
  {
   "cell_type": "code",
   "execution_count": null,
   "metadata": {
    "colab": {
     "base_uri": "https://localhost:8080/"
    },
    "executionInfo": {
     "elapsed": 2694,
     "status": "ok",
     "timestamp": 1619244712066,
     "user": {
      "displayName": "작은빗방울",
      "photoUrl": "",
      "userId": "04277491561705901693"
     },
     "user_tz": -540
    },
    "id": "QIEdUvwOd6dq",
    "outputId": "e67297dc-e534-42e5-c77c-f742a553d106"
   },
   "outputs": [
    {
     "name": "stdout",
     "output_type": "stream",
     "text": [
      "[0.92 0.92 0.94]\n",
      "0.9266666666666667\n"
     ]
    }
   ],
   "source": [
    "pca_X=irisDF_pca[['pca_component_1','pca_component_2','3']]\n",
    "scores_pca=cross_val_score(rcf,pca_X,iris.target,scoring='accuracy',cv=3)\n",
    "print(scores_pca)\n",
    "print(np.mean(scores_pca))"
   ]
  },
  {
   "cell_type": "code",
   "execution_count": null,
   "metadata": {
    "colab": {
     "base_uri": "https://localhost:8080/"
    },
    "executionInfo": {
     "elapsed": 2509,
     "status": "ok",
     "timestamp": 1619244712067,
     "user": {
      "displayName": "작은빗방울",
      "photoUrl": "",
      "userId": "04277491561705901693"
     },
     "user_tz": -540
    },
    "id": "eO_AJ4C3e5Vn",
    "outputId": "3836a19e-4bcc-4dbc-ccc8-e2bf968474c0"
   },
   "outputs": [
    {
     "name": "stdout",
     "output_type": "stream",
     "text": [
      "[ 2.92623975e+00 -1.32245560e-16  7.40426913e-01] \n",
      "\n",
      "[[-0.14904071 -0.78446454  0.60199855]\n",
      " [-0.48580909  0.58834841  0.64640211]\n",
      " [ 0.86126442  0.19611614  0.46878786]] \n",
      "\n",
      "[0.60199855 0.64640211 0.46878786]\n"
     ]
    }
   ],
   "source": [
    "# np.cov와 np.linalg.eig()의 성질 파악\n",
    "import numpy as np\n",
    "X=np.array([[2,2,7],[3,4,5],[2,3,4]])\n",
    "X=X-np.mean(X)/np.std(X)\n",
    "cov=np.cov(X.T)\n",
    "eigenvalues,eigenvectors=np.linalg.eig(cov)\n",
    "print(eigenvalues,'\\n')\n",
    "print(eigenvectors,'\\n')\n",
    "print(eigenvectors[:,2])"
   ]
  },
  {
   "cell_type": "code",
   "execution_count": null,
   "metadata": {
    "id": "JTNkWD1aiB4X"
   },
   "outputs": [],
   "source": [
    "# python engineer 유튜브: PCA편\n",
    "# PCA 클래스 직접 만들어보기!!\n",
    "import numpy as np\n",
    "class PCA:\n",
    "  def __init__(self,n_components):\n",
    "    self.n_components=n_components\n",
    "    self.components=None\n",
    "    self.mean=None\n",
    "    self.std=None\n",
    "\n",
    "  def fit(self,X):\n",
    "    # Mean Centering 작업\n",
    "    self.mean=np.mean(X,axis=0)\n",
    "    self.std=np.std(X,axis=0)\n",
    "    X=X-self.mean/self.std\n",
    "\n",
    "    # 공분산 행렬 계산\n",
    "    ## X.T를 사용하는 이유는 np.cov()는 각 행이름을 변수로 받아들이는데\n",
    "    ## 보통 데이터의 변수는 열이름이기 때문에!\n",
    "    ## X.T아니면 np.cov(X,rowvar=False)로 rowvar옵션을 거짓으로 설정해주기!!\n",
    "    cov=np.cov(X.T)\n",
    "\n",
    "    # 공분산 행렬에서 고유값,고유벡터 계산\n",
    "    ## np.linalg.eig()의 고유벡터 리턴값은 각 열이 각 고유값에 해당하는 고유벡터임!!\n",
    "    ## 즉, eigenvectors[:,i]가 i번째 고유벡터임!** \n",
    "    eigenvalues,eigenvectors=np.linalg.eig(cov)\n",
    "\n",
    "    # 고유벡터 전치하고 고유값을 내림차순으로 정렬\n",
    "    idxs=np.argsort(eigenvalues)[::-1]\n",
    "    eigenvalues=eigenvalues[idxs]\n",
    "    eigenvectors=eigenvectors[:,idxs]\n",
    "\n",
    "    # 주성분 축의 개수 설정!\n",
    "    self.components=eigenvectors[:,0:self.n_components]\n",
    "\n",
    "  def transform(self,X):\n",
    "    # mean centering 이후 고유벡터와 X를 선형변환!\n",
    "    X=X-self.mean/self.std\n",
    "    return np.dot(X,self.components)"
   ]
  },
  {
   "cell_type": "code",
   "execution_count": null,
   "metadata": {
    "colab": {
     "base_uri": "https://localhost:8080/",
     "height": 317
    },
    "executionInfo": {
     "elapsed": 3253,
     "status": "ok",
     "timestamp": 1619244713152,
     "user": {
      "displayName": "작은빗방울",
      "photoUrl": "",
      "userId": "04277491561705901693"
     },
     "user_tz": -540
    },
    "id": "9R5AEOb8vUpI",
    "outputId": "9bcc1dfd-1f31-4817-cade-6cbb0ec07c58"
   },
   "outputs": [
    {
     "name": "stdout",
     "output_type": "stream",
     "text": [
      "(150, 4)\n",
      "(150, 2)\n"
     ]
    },
    {
     "data": {
      "image/png": "[encoded data removed]",
      "text/plain": [
       "<Figure size 432x288 with 2 Axes>"
      ]
     },
     "metadata": {
      "needs_background": "light",
      "tags": []
     },
     "output_type": "display_data"
    }
   ],
   "source": [
    "from sklearn import datasets\n",
    "import matplotlib.pyplot as plt\n",
    "import numpy as np\n",
    "\n",
    "data=datasets.load_iris()\n",
    "X=data.data\n",
    "y=data.target\n",
    "\n",
    "pca=PCA(2)\n",
    "pca.fit(X)\n",
    "X_projected=pca.transform(X)\n",
    "\n",
    "print(X.shape)\n",
    "print(X_projected.shape)\n",
    "\n",
    "z1=X_projected[:,0]\n",
    "z2=X_projected[:,1]\n",
    "\n",
    "plt.scatter(z1,z2,c=y,edgecolor='none',alpha=0.8,\n",
    "            cmap=plt.cm.get_cmap('viridis',3))\n",
    "\n",
    "plt.xlabel('Pricipal Component 1')\n",
    "plt.ylabel('Pricipal Component 2')\n",
    "plt.colorbar()\n",
    "plt.show()"
   ]
  },
  {
   "cell_type": "markdown",
   "metadata": {
    "id": "-e_qMUJffUTR"
   },
   "source": [
    "## 신용카드 데이터 세트 PCA변환"
   ]
  },
  {
   "cell_type": "code",
   "execution_count": 1,
   "metadata": {
    "colab": {
     "base_uri": "https://localhost:8080/",
     "height": 230
    },
    "executionInfo": {
     "elapsed": 4577,
     "status": "ok",
     "timestamp": 1621064654499,
     "user": {
      "displayName": "작은빗방울",
      "photoUrl": "",
      "userId": "04277491561705901693"
     },
     "user_tz": -540
    },
    "id": "wsqWO3C1wrrl",
    "outputId": "66afe76c-04f2-4c8d-955d-c9ed8e372957"
   },
   "outputs": [
    {
     "name": "stdout",
     "output_type": "stream",
     "text": [
      "(30000, 25)\n"
     ]
    },
    {
     "data": {
      "text/html": [
       "<div>\n",
       "<style scoped>\n",
       "    .dataframe tbody tr th:only-of-type {\n",
       "        vertical-align: middle;\n",
       "    }\n",
       "\n",
       "    .dataframe tbody tr th {\n",
       "        vertical-align: top;\n",
       "    }\n",
       "\n",
       "    .dataframe thead th {\n",
       "        text-align: right;\n",
       "    }\n",
       "</style>\n",
       "<table border=\"1\" class=\"dataframe\">\n",
       "  <thead>\n",
       "    <tr style=\"text-align: right;\">\n",
       "      <th></th>\n",
       "      <th>ID</th>\n",
       "      <th>LIMIT_BAL</th>\n",
       "      <th>SEX</th>\n",
       "      <th>EDUCATION</th>\n",
       "      <th>MARRIAGE</th>\n",
       "      <th>AGE</th>\n",
       "      <th>PAY_0</th>\n",
       "      <th>PAY_2</th>\n",
       "      <th>PAY_3</th>\n",
       "      <th>PAY_4</th>\n",
       "      <th>PAY_5</th>\n",
       "      <th>PAY_6</th>\n",
       "      <th>BILL_AMT1</th>\n",
       "      <th>BILL_AMT2</th>\n",
       "      <th>BILL_AMT3</th>\n",
       "      <th>BILL_AMT4</th>\n",
       "      <th>BILL_AMT5</th>\n",
       "      <th>BILL_AMT6</th>\n",
       "      <th>PAY_AMT1</th>\n",
       "      <th>PAY_AMT2</th>\n",
       "      <th>PAY_AMT3</th>\n",
       "      <th>PAY_AMT4</th>\n",
       "      <th>PAY_AMT5</th>\n",
       "      <th>PAY_AMT6</th>\n",
       "      <th>default payment next month</th>\n",
       "    </tr>\n",
       "  </thead>\n",
       "  <tbody>\n",
       "    <tr>\n",
       "      <th>0</th>\n",
       "      <td>1</td>\n",
       "      <td>20000</td>\n",
       "      <td>2</td>\n",
       "      <td>2</td>\n",
       "      <td>1</td>\n",
       "      <td>24</td>\n",
       "      <td>2</td>\n",
       "      <td>2</td>\n",
       "      <td>-1</td>\n",
       "      <td>-1</td>\n",
       "      <td>-2</td>\n",
       "      <td>-2</td>\n",
       "      <td>3913</td>\n",
       "      <td>3102</td>\n",
       "      <td>689</td>\n",
       "      <td>0</td>\n",
       "      <td>0</td>\n",
       "      <td>0</td>\n",
       "      <td>0</td>\n",
       "      <td>689</td>\n",
       "      <td>0</td>\n",
       "      <td>0</td>\n",
       "      <td>0</td>\n",
       "      <td>0</td>\n",
       "      <td>1</td>\n",
       "    </tr>\n",
       "    <tr>\n",
       "      <th>1</th>\n",
       "      <td>2</td>\n",
       "      <td>120000</td>\n",
       "      <td>2</td>\n",
       "      <td>2</td>\n",
       "      <td>2</td>\n",
       "      <td>26</td>\n",
       "      <td>-1</td>\n",
       "      <td>2</td>\n",
       "      <td>0</td>\n",
       "      <td>0</td>\n",
       "      <td>0</td>\n",
       "      <td>2</td>\n",
       "      <td>2682</td>\n",
       "      <td>1725</td>\n",
       "      <td>2682</td>\n",
       "      <td>3272</td>\n",
       "      <td>3455</td>\n",
       "      <td>3261</td>\n",
       "      <td>0</td>\n",
       "      <td>1000</td>\n",
       "      <td>1000</td>\n",
       "      <td>1000</td>\n",
       "      <td>0</td>\n",
       "      <td>2000</td>\n",
       "      <td>1</td>\n",
       "    </tr>\n",
       "    <tr>\n",
       "      <th>2</th>\n",
       "      <td>3</td>\n",
       "      <td>90000</td>\n",
       "      <td>2</td>\n",
       "      <td>2</td>\n",
       "      <td>2</td>\n",
       "      <td>34</td>\n",
       "      <td>0</td>\n",
       "      <td>0</td>\n",
       "      <td>0</td>\n",
       "      <td>0</td>\n",
       "      <td>0</td>\n",
       "      <td>0</td>\n",
       "      <td>29239</td>\n",
       "      <td>14027</td>\n",
       "      <td>13559</td>\n",
       "      <td>14331</td>\n",
       "      <td>14948</td>\n",
       "      <td>15549</td>\n",
       "      <td>1518</td>\n",
       "      <td>1500</td>\n",
       "      <td>1000</td>\n",
       "      <td>1000</td>\n",
       "      <td>1000</td>\n",
       "      <td>5000</td>\n",
       "      <td>0</td>\n",
       "    </tr>\n",
       "  </tbody>\n",
       "</table>\n",
       "</div>"
      ],
      "text/plain": [
       "   ID  LIMIT_BAL  SEX  ...  PAY_AMT5  PAY_AMT6  default payment next month\n",
       "0   1      20000    2  ...         0         0                           1\n",
       "1   2     120000    2  ...         0      2000                           1\n",
       "2   3      90000    2  ...      1000      5000                           0\n",
       "\n",
       "[3 rows x 25 columns]"
      ]
     },
     "execution_count": 1,
     "metadata": {
      "tags": []
     },
     "output_type": "execute_result"
    }
   ],
   "source": [
    "# 데이터 로드 및 컬럼명 변환\n",
    "import pandas as pd\n",
    "df=pd.read_excel('/content/drive/MyDrive/credit_card.xls',sheet_name='Data',\n",
    "                 header=1)\n",
    "print(df.shape)\n",
    "df.head(3)"
   ]
  },
  {
   "cell_type": "code",
   "execution_count": 2,
   "metadata": {
    "executionInfo": {
     "elapsed": 1813,
     "status": "ok",
     "timestamp": 1621064691105,
     "user": {
      "displayName": "작은빗방울",
      "photoUrl": "",
      "userId": "04277491561705901693"
     },
     "user_tz": -540
    },
    "id": "JBIYPJalhkMv"
   },
   "outputs": [],
   "source": [
    "df.rename(columns={'PAY_0':'PAY_1','default payment next month':'default'},\n",
    "          inplace=True)\n",
    "y_target=df['default']\n",
    "X_features=df.drop(['ID','default'],axis=1)"
   ]
  },
  {
   "cell_type": "code",
   "execution_count": 3,
   "metadata": {
    "colab": {
     "base_uri": "https://localhost:8080/"
    },
    "executionInfo": {
     "elapsed": 1123,
     "status": "ok",
     "timestamp": 1621064691107,
     "user": {
      "displayName": "작은빗방울",
      "photoUrl": "",
      "userId": "04277491561705901693"
     },
     "user_tz": -540
    },
    "id": "GE2yNC5ih8_A",
    "outputId": "9a062827-c5a4-406d-82ba-6d91557c5da8"
   },
   "outputs": [
    {
     "data": {
      "text/plain": [
       "0    23364\n",
       "1     6636\n",
       "Name: default, dtype: int64"
      ]
     },
     "execution_count": 3,
     "metadata": {
      "tags": []
     },
     "output_type": "execute_result"
    }
   ],
   "source": [
    "y_target.value_counts()"
   ]
  },
  {
   "cell_type": "code",
   "execution_count": 4,
   "metadata": {
    "colab": {
     "base_uri": "https://localhost:8080/"
    },
    "executionInfo": {
     "elapsed": 1112,
     "status": "ok",
     "timestamp": 1621064692021,
     "user": {
      "displayName": "작은빗방울",
      "photoUrl": "",
      "userId": "04277491561705901693"
     },
     "user_tz": -540
    },
    "id": "JGhpU3ngiG3C",
    "outputId": "501da1e6-e8c4-4904-cff4-ef7873ab1d21"
   },
   "outputs": [
    {
     "name": "stdout",
     "output_type": "stream",
     "text": [
      "<class 'pandas.core.frame.DataFrame'>\n",
      "RangeIndex: 30000 entries, 0 to 29999\n",
      "Data columns (total 23 columns):\n",
      " #   Column     Non-Null Count  Dtype\n",
      "---  ------     --------------  -----\n",
      " 0   LIMIT_BAL  30000 non-null  int64\n",
      " 1   SEX        30000 non-null  int64\n",
      " 2   EDUCATION  30000 non-null  int64\n",
      " 3   MARRIAGE   30000 non-null  int64\n",
      " 4   AGE        30000 non-null  int64\n",
      " 5   PAY_1      30000 non-null  int64\n",
      " 6   PAY_2      30000 non-null  int64\n",
      " 7   PAY_3      30000 non-null  int64\n",
      " 8   PAY_4      30000 non-null  int64\n",
      " 9   PAY_5      30000 non-null  int64\n",
      " 10  PAY_6      30000 non-null  int64\n",
      " 11  BILL_AMT1  30000 non-null  int64\n",
      " 12  BILL_AMT2  30000 non-null  int64\n",
      " 13  BILL_AMT3  30000 non-null  int64\n",
      " 14  BILL_AMT4  30000 non-null  int64\n",
      " 15  BILL_AMT5  30000 non-null  int64\n",
      " 16  BILL_AMT6  30000 non-null  int64\n",
      " 17  PAY_AMT1   30000 non-null  int64\n",
      " 18  PAY_AMT2   30000 non-null  int64\n",
      " 19  PAY_AMT3   30000 non-null  int64\n",
      " 20  PAY_AMT4   30000 non-null  int64\n",
      " 21  PAY_AMT5   30000 non-null  int64\n",
      " 22  PAY_AMT6   30000 non-null  int64\n",
      "dtypes: int64(23)\n",
      "memory usage: 5.3 MB\n"
     ]
    }
   ],
   "source": [
    "X_features.info()"
   ]
  },
  {
   "cell_type": "code",
   "execution_count": null,
   "metadata": {
    "colab": {
     "base_uri": "https://localhost:8080/",
     "height": 878
    },
    "executionInfo": {
     "elapsed": 9618,
     "status": "ok",
     "timestamp": 1619244720606,
     "user": {
      "displayName": "작은빗방울",
      "photoUrl": "",
      "userId": "04277491561705901693"
     },
     "user_tz": -540
    },
    "id": "BoqAtUQ8i6he",
    "outputId": "95ba1035-034b-4e57-ab57-9f69778dde53"
   },
   "outputs": [
    {
     "data": {
      "text/plain": [
       "<matplotlib.axes._subplots.AxesSubplot at 0x7fa0320f1d10>"
      ]
     },
     "execution_count": 18,
     "metadata": {
      "tags": []
     },
     "output_type": "execute_result"
    },
    {
     "data": {
      "image/png": "[encoded data removed]",
      "text/plain": [
       "<Figure size 1008x1008 with 2 Axes>"
      ]
     },
     "metadata": {
      "needs_background": "light",
      "tags": []
     },
     "output_type": "display_data"
    }
   ],
   "source": [
    "# 피처 간 상관도 시각화\n",
    "import seaborn as sns\n",
    "import matplotlib.pyplot as plt\n",
    "\n",
    "corr=X_features.corr()\n",
    "plt.figure(figsize=(14,14))\n",
    "sns.heatmap(corr,annot=True,fmt='.1g')"
   ]
  },
  {
   "cell_type": "code",
   "execution_count": 5,
   "metadata": {
    "colab": {
     "base_uri": "https://localhost:8080/",
     "height": 436
    },
    "executionInfo": {
     "elapsed": 1994,
     "status": "ok",
     "timestamp": 1621064729853,
     "user": {
      "displayName": "작은빗방울",
      "photoUrl": "",
      "userId": "04277491561705901693"
     },
     "user_tz": -540
    },
    "id": "cpBDWcDLj5oa",
    "outputId": "17b31796-dbc1-4a2b-a28c-fb803f3fd5a0"
   },
   "outputs": [
    {
     "name": "stdout",
     "output_type": "stream",
     "text": [
      "[0.52922611 0.28199562 0.0593879  0.03453087 0.02405356]\n"
     ]
    },
    {
     "data": {
      "text/html": [
       "<div>\n",
       "<style scoped>\n",
       "    .dataframe tbody tr th:only-of-type {\n",
       "        vertical-align: middle;\n",
       "    }\n",
       "\n",
       "    .dataframe tbody tr th {\n",
       "        vertical-align: top;\n",
       "    }\n",
       "\n",
       "    .dataframe thead th {\n",
       "        text-align: right;\n",
       "    }\n",
       "</style>\n",
       "<table border=\"1\" class=\"dataframe\">\n",
       "  <thead>\n",
       "    <tr style=\"text-align: right;\">\n",
       "      <th></th>\n",
       "      <th>1</th>\n",
       "      <th>2</th>\n",
       "      <th>3</th>\n",
       "      <th>4</th>\n",
       "      <th>5</th>\n",
       "    </tr>\n",
       "  </thead>\n",
       "  <tbody>\n",
       "    <tr>\n",
       "      <th>0</th>\n",
       "      <td>-1.630103</td>\n",
       "      <td>-0.532144</td>\n",
       "      <td>-3.154740</td>\n",
       "      <td>-0.335395</td>\n",
       "      <td>0.531123</td>\n",
       "    </tr>\n",
       "    <tr>\n",
       "      <th>1</th>\n",
       "      <td>-0.452585</td>\n",
       "      <td>-2.046905</td>\n",
       "      <td>0.871128</td>\n",
       "      <td>0.347304</td>\n",
       "      <td>0.743847</td>\n",
       "    </tr>\n",
       "    <tr>\n",
       "      <th>2</th>\n",
       "      <td>-0.641046</td>\n",
       "      <td>-0.899025</td>\n",
       "      <td>0.182847</td>\n",
       "      <td>-0.001305</td>\n",
       "      <td>-0.028092</td>\n",
       "    </tr>\n",
       "    <tr>\n",
       "      <th>3</th>\n",
       "      <td>0.011118</td>\n",
       "      <td>-0.461344</td>\n",
       "      <td>0.147701</td>\n",
       "      <td>0.050269</td>\n",
       "      <td>-0.174367</td>\n",
       "    </tr>\n",
       "    <tr>\n",
       "      <th>4</th>\n",
       "      <td>-0.946130</td>\n",
       "      <td>-0.300605</td>\n",
       "      <td>0.888318</td>\n",
       "      <td>0.041123</td>\n",
       "      <td>0.140147</td>\n",
       "    </tr>\n",
       "    <tr>\n",
       "      <th>...</th>\n",
       "      <td>...</td>\n",
       "      <td>...</td>\n",
       "      <td>...</td>\n",
       "      <td>...</td>\n",
       "      <td>...</td>\n",
       "    </tr>\n",
       "    <tr>\n",
       "      <th>29995</th>\n",
       "      <td>2.378411</td>\n",
       "      <td>1.158589</td>\n",
       "      <td>-0.256467</td>\n",
       "      <td>0.641893</td>\n",
       "      <td>-2.175799</td>\n",
       "    </tr>\n",
       "    <tr>\n",
       "      <th>29996</th>\n",
       "      <td>-1.797407</td>\n",
       "      <td>-0.010481</td>\n",
       "      <td>1.017355</td>\n",
       "      <td>-0.333853</td>\n",
       "      <td>-0.040310</td>\n",
       "    </tr>\n",
       "    <tr>\n",
       "      <th>29997</th>\n",
       "      <td>0.652373</td>\n",
       "      <td>-3.198417</td>\n",
       "      <td>-3.384774</td>\n",
       "      <td>-0.836413</td>\n",
       "      <td>1.039036</td>\n",
       "    </tr>\n",
       "    <tr>\n",
       "      <th>29998</th>\n",
       "      <td>-0.007297</td>\n",
       "      <td>-0.034953</td>\n",
       "      <td>-0.417300</td>\n",
       "      <td>-0.426551</td>\n",
       "      <td>-0.418422</td>\n",
       "    </tr>\n",
       "    <tr>\n",
       "      <th>29999</th>\n",
       "      <td>0.004414</td>\n",
       "      <td>-0.464400</td>\n",
       "      <td>0.137329</td>\n",
       "      <td>0.072038</td>\n",
       "      <td>-0.261723</td>\n",
       "    </tr>\n",
       "  </tbody>\n",
       "</table>\n",
       "<p>30000 rows × 5 columns</p>\n",
       "</div>"
      ],
      "text/plain": [
       "              1         2         3         4         5\n",
       "0     -1.630103 -0.532144 -3.154740 -0.335395  0.531123\n",
       "1     -0.452585 -2.046905  0.871128  0.347304  0.743847\n",
       "2     -0.641046 -0.899025  0.182847 -0.001305 -0.028092\n",
       "3      0.011118 -0.461344  0.147701  0.050269 -0.174367\n",
       "4     -0.946130 -0.300605  0.888318  0.041123  0.140147\n",
       "...         ...       ...       ...       ...       ...\n",
       "29995  2.378411  1.158589 -0.256467  0.641893 -2.175799\n",
       "29996 -1.797407 -0.010481  1.017355 -0.333853 -0.040310\n",
       "29997  0.652373 -3.198417 -3.384774 -0.836413  1.039036\n",
       "29998 -0.007297 -0.034953 -0.417300 -0.426551 -0.418422\n",
       "29999  0.004414 -0.464400  0.137329  0.072038 -0.261723\n",
       "\n",
       "[30000 rows x 5 columns]"
      ]
     },
     "execution_count": 5,
     "metadata": {
      "tags": []
     },
     "output_type": "execute_result"
    }
   ],
   "source": [
    "# 상관도가 높은 피처들의 PCA 변환 후 변동성 확인\n",
    "from sklearn.decomposition import PCA\n",
    "from sklearn.preprocessing import StandardScaler\n",
    "\n",
    "bill_cols=['BILL_AMT'+str(i) for i in range(1,7)]\n",
    "pay_cols=['PAY_'+str(i) for i in range(1,7)]\n",
    "cols=set(pay_cols)\n",
    "cols.update(bill_cols)\n",
    "\n",
    "scaler=StandardScaler()\n",
    "df_cols_scaled=scaler.fit_transform(X_features[cols])\n",
    "pca=PCA(n_components=5)\n",
    "col_pca=pca.fit_transform(df_cols_scaled)\n",
    "\n",
    "print(pca.explained_variance_ratio_)\n",
    "bill_pay=pd.DataFrame(data=col_pca,columns=['1','2','3','4','5'])\n",
    "bill_pay"
   ]
  },
  {
   "cell_type": "code",
   "execution_count": 6,
   "metadata": {
    "colab": {
     "base_uri": "https://localhost:8080/",
     "height": 436
    },
    "executionInfo": {
     "elapsed": 759,
     "status": "ok",
     "timestamp": 1621064731911,
     "user": {
      "displayName": "작은빗방울",
      "photoUrl": "",
      "userId": "04277491561705901693"
     },
     "user_tz": -540
    },
    "id": "4OLZoSaGk3f_",
    "outputId": "dd38ed76-4600-45a0-ffac-b044309acec8"
   },
   "outputs": [
    {
     "name": "stdout",
     "output_type": "stream",
     "text": [
      "[0.90555253 0.0509867 ]\n"
     ]
    },
    {
     "data": {
      "text/html": [
       "<div>\n",
       "<style scoped>\n",
       "    .dataframe tbody tr th:only-of-type {\n",
       "        vertical-align: middle;\n",
       "    }\n",
       "\n",
       "    .dataframe tbody tr th {\n",
       "        vertical-align: top;\n",
       "    }\n",
       "\n",
       "    .dataframe thead th {\n",
       "        text-align: right;\n",
       "    }\n",
       "</style>\n",
       "<table border=\"1\" class=\"dataframe\">\n",
       "  <thead>\n",
       "    <tr style=\"text-align: right;\">\n",
       "      <th></th>\n",
       "      <th>bill_pca_1</th>\n",
       "      <th>bill_pca_2</th>\n",
       "    </tr>\n",
       "  </thead>\n",
       "  <tbody>\n",
       "    <tr>\n",
       "      <th>0</th>\n",
       "      <td>-1.611148</td>\n",
       "      <td>0.012479</td>\n",
       "    </tr>\n",
       "    <tr>\n",
       "      <th>1</th>\n",
       "      <td>-1.547595</td>\n",
       "      <td>-0.062344</td>\n",
       "    </tr>\n",
       "    <tr>\n",
       "      <th>2</th>\n",
       "      <td>-1.035874</td>\n",
       "      <td>0.011256</td>\n",
       "    </tr>\n",
       "    <tr>\n",
       "      <th>3</th>\n",
       "      <td>-0.250712</td>\n",
       "      <td>0.174374</td>\n",
       "    </tr>\n",
       "    <tr>\n",
       "      <th>4</th>\n",
       "      <td>-0.968951</td>\n",
       "      <td>-0.213032</td>\n",
       "    </tr>\n",
       "    <tr>\n",
       "      <th>...</th>\n",
       "      <td>...</td>\n",
       "      <td>...</td>\n",
       "    </tr>\n",
       "    <tr>\n",
       "      <th>29995</th>\n",
       "      <td>2.610194</td>\n",
       "      <td>2.419078</td>\n",
       "    </tr>\n",
       "    <tr>\n",
       "      <th>29996</th>\n",
       "      <td>-1.521009</td>\n",
       "      <td>-0.066271</td>\n",
       "    </tr>\n",
       "    <tr>\n",
       "      <th>29997</th>\n",
       "      <td>-1.195519</td>\n",
       "      <td>-0.359507</td>\n",
       "    </tr>\n",
       "    <tr>\n",
       "      <th>29998</th>\n",
       "      <td>-0.008293</td>\n",
       "      <td>-0.049958</td>\n",
       "    </tr>\n",
       "    <tr>\n",
       "      <th>29999</th>\n",
       "      <td>-0.258286</td>\n",
       "      <td>0.265252</td>\n",
       "    </tr>\n",
       "  </tbody>\n",
       "</table>\n",
       "<p>30000 rows × 2 columns</p>\n",
       "</div>"
      ],
      "text/plain": [
       "       bill_pca_1  bill_pca_2\n",
       "0       -1.611148    0.012479\n",
       "1       -1.547595   -0.062344\n",
       "2       -1.035874    0.011256\n",
       "3       -0.250712    0.174374\n",
       "4       -0.968951   -0.213032\n",
       "...           ...         ...\n",
       "29995    2.610194    2.419078\n",
       "29996   -1.521009   -0.066271\n",
       "29997   -1.195519   -0.359507\n",
       "29998   -0.008293   -0.049958\n",
       "29999   -0.258286    0.265252\n",
       "\n",
       "[30000 rows x 2 columns]"
      ]
     },
     "execution_count": 6,
     "metadata": {
      "tags": []
     },
     "output_type": "execute_result"
    }
   ],
   "source": [
    "bill_cols=['BILL_AMT'+str(i) for i in range(1,7)]\n",
    "\n",
    "scaler=StandardScaler()\n",
    "df_cols_scaled=scaler.fit_transform(X_features[bill_cols])\n",
    "pca1=PCA(n_components=2)\n",
    "col_pca1=pca1.fit_transform(df_cols_scaled)\n",
    "\n",
    "bill=pd.DataFrame(data=col_pca1,columns=['bill_pca_1','bill_pca_2'])\n",
    "print(pca1.explained_variance_ratio_)\n",
    "bill"
   ]
  },
  {
   "cell_type": "code",
   "execution_count": 7,
   "metadata": {
    "colab": {
     "base_uri": "https://localhost:8080/",
     "height": 436
    },
    "executionInfo": {
     "elapsed": 799,
     "status": "ok",
     "timestamp": 1621064732619,
     "user": {
      "displayName": "작은빗방울",
      "photoUrl": "",
      "userId": "04277491561705901693"
     },
     "user_tz": -540
    },
    "id": "GT2hNR_Rn6MM",
    "outputId": "d20fbf80-4250-4927-c140-b258a25425ec"
   },
   "outputs": [
    {
     "name": "stdout",
     "output_type": "stream",
     "text": [
      "[0.71645838 0.11674569 0.06767707]\n"
     ]
    },
    {
     "data": {
      "text/html": [
       "<div>\n",
       "<style scoped>\n",
       "    .dataframe tbody tr th:only-of-type {\n",
       "        vertical-align: middle;\n",
       "    }\n",
       "\n",
       "    .dataframe tbody tr th {\n",
       "        vertical-align: top;\n",
       "    }\n",
       "\n",
       "    .dataframe thead th {\n",
       "        text-align: right;\n",
       "    }\n",
       "</style>\n",
       "<table border=\"1\" class=\"dataframe\">\n",
       "  <thead>\n",
       "    <tr style=\"text-align: right;\">\n",
       "      <th></th>\n",
       "      <th>pay_pca_1</th>\n",
       "      <th>pay_pca_2</th>\n",
       "      <th>pay_pca_3</th>\n",
       "    </tr>\n",
       "  </thead>\n",
       "  <tbody>\n",
       "    <tr>\n",
       "      <th>0</th>\n",
       "      <td>-0.477471</td>\n",
       "      <td>-3.224644</td>\n",
       "      <td>-0.145043</td>\n",
       "    </tr>\n",
       "    <tr>\n",
       "      <th>1</th>\n",
       "      <td>1.461637</td>\n",
       "      <td>0.853881</td>\n",
       "      <td>0.360869</td>\n",
       "    </tr>\n",
       "    <tr>\n",
       "      <th>2</th>\n",
       "      <td>0.393314</td>\n",
       "      <td>0.175558</td>\n",
       "      <td>-0.004886</td>\n",
       "    </tr>\n",
       "    <tr>\n",
       "      <th>3</th>\n",
       "      <td>0.393314</td>\n",
       "      <td>0.175558</td>\n",
       "      <td>-0.004886</td>\n",
       "    </tr>\n",
       "    <tr>\n",
       "      <th>4</th>\n",
       "      <td>-0.273290</td>\n",
       "      <td>0.847431</td>\n",
       "      <td>0.045820</td>\n",
       "    </tr>\n",
       "    <tr>\n",
       "      <th>...</th>\n",
       "      <td>...</td>\n",
       "      <td>...</td>\n",
       "      <td>...</td>\n",
       "    </tr>\n",
       "    <tr>\n",
       "      <th>29995</th>\n",
       "      <td>0.393314</td>\n",
       "      <td>0.175558</td>\n",
       "      <td>-0.004886</td>\n",
       "    </tr>\n",
       "    <tr>\n",
       "      <th>29996</th>\n",
       "      <td>-0.983642</td>\n",
       "      <td>0.994121</td>\n",
       "      <td>-0.373963</td>\n",
       "    </tr>\n",
       "    <tr>\n",
       "      <th>29997</th>\n",
       "      <td>3.003066</td>\n",
       "      <td>-3.537165</td>\n",
       "      <td>-0.536190</td>\n",
       "    </tr>\n",
       "    <tr>\n",
       "      <th>29998</th>\n",
       "      <td>0.015424</td>\n",
       "      <td>-0.457090</td>\n",
       "      <td>-0.451258</td>\n",
       "    </tr>\n",
       "    <tr>\n",
       "      <th>29999</th>\n",
       "      <td>0.393314</td>\n",
       "      <td>0.175558</td>\n",
       "      <td>-0.004886</td>\n",
       "    </tr>\n",
       "  </tbody>\n",
       "</table>\n",
       "<p>30000 rows × 3 columns</p>\n",
       "</div>"
      ],
      "text/plain": [
       "       pay_pca_1  pay_pca_2  pay_pca_3\n",
       "0      -0.477471  -3.224644  -0.145043\n",
       "1       1.461637   0.853881   0.360869\n",
       "2       0.393314   0.175558  -0.004886\n",
       "3       0.393314   0.175558  -0.004886\n",
       "4      -0.273290   0.847431   0.045820\n",
       "...          ...        ...        ...\n",
       "29995   0.393314   0.175558  -0.004886\n",
       "29996  -0.983642   0.994121  -0.373963\n",
       "29997   3.003066  -3.537165  -0.536190\n",
       "29998   0.015424  -0.457090  -0.451258\n",
       "29999   0.393314   0.175558  -0.004886\n",
       "\n",
       "[30000 rows x 3 columns]"
      ]
     },
     "execution_count": 7,
     "metadata": {
      "tags": []
     },
     "output_type": "execute_result"
    }
   ],
   "source": [
    "pay_cols=['PAY_'+str(i) for i in range(1,7)]\n",
    "\n",
    "scaler=StandardScaler()\n",
    "df_cols_scaled=scaler.fit_transform(X_features[pay_cols])\n",
    "pca2=PCA(n_components=3)\n",
    "col_pca2=pca2.fit_transform(df_cols_scaled)\n",
    "\n",
    "pay=pd.DataFrame(data=col_pca2,columns=['pay_pca_1','pay_pca_2','pay_pca_3'])\n",
    "print(pca2.explained_variance_ratio_)\n",
    "pay"
   ]
  },
  {
   "cell_type": "code",
   "execution_count": 8,
   "metadata": {
    "colab": {
     "base_uri": "https://localhost:8080/"
    },
    "executionInfo": {
     "elapsed": 59962,
     "status": "ok",
     "timestamp": 1621064796389,
     "user": {
      "displayName": "작은빗방울",
      "photoUrl": "",
      "userId": "04277491561705901693"
     },
     "user_tz": -540
    },
    "id": "JeRlCe68oK8-",
    "outputId": "54ce624e-a002-4bce-ca5b-54ffe452f852"
   },
   "outputs": [
    {
     "name": "stdout",
     "output_type": "stream",
     "text": [
      "cv=3의 개별 폴드 정확도: [0.8083 0.8196 0.8232]\n",
      "평균 정확도: 0.8170333333333333\n"
     ]
    }
   ],
   "source": [
    "# 차원축소 없이 교차검증 3세트를 통해 구한 정확도\n",
    "import numpy as np\n",
    "from sklearn.ensemble import RandomForestClassifier\n",
    "from sklearn.model_selection import cross_val_score\n",
    " \n",
    "rf=RandomForestClassifier(n_estimators=300,random_state=156)\n",
    "scores=cross_val_score(rf,X_features,y_target,scoring='accuracy',cv=3)\n",
    " \n",
    "print('cv=3의 개별 폴드 정확도:',scores)\n",
    "print('평균 정확도:',np.mean(scores))"
   ]
  },
  {
   "cell_type": "code",
   "execution_count": 10,
   "metadata": {
    "colab": {
     "base_uri": "https://localhost:8080/"
    },
    "executionInfo": {
     "elapsed": 136977,
     "status": "ok",
     "timestamp": 1621065050346,
     "user": {
      "displayName": "작은빗방울",
      "photoUrl": "",
      "userId": "04277491561705901693"
     },
     "user_tz": -540
    },
    "id": "KLxrAEkNppXW",
    "outputId": "d182b086-44f7-4cbc-d942-6882d17b1fd8"
   },
   "outputs": [
    {
     "name": "stdout",
     "output_type": "stream",
     "text": [
      "(30000, 16)\n",
      "(30000,)\n",
      "cv=3의 개별 폴드 정확도: [0.8005     0.80716667 0.816      0.8265     0.81866667]\n",
      "평균 정확도: 0.8138\n"
     ]
    }
   ],
   "source": [
    "# id와 default 피처 삭제 후, 11+(12개->5개)=>16개의 피처로 부분 차원축소하여 정확도 도출 \n",
    "df0=df.copy()\n",
    "pca_df0=pd.concat([df0,bill_pay],axis=1)\n",
    "cols=list(cols)\n",
    "pca_df0.drop(cols,axis=1,inplace=True)\n",
    "\n",
    "X_features0=pca_df0.drop(['default','ID'],axis=1)\n",
    "y_target=df['default']\n",
    "print(X_features0.shape)\n",
    "print(y_target.shape)\n",
    "\n",
    "scaler=StandardScaler()\n",
    "df_scaled0=scaler.fit_transform(X_features0)\n",
    "scores=cross_val_score(rf,df_scaled0,y_target,scoring='accuracy',cv=5)\n",
    "\n",
    "print('cv=3의 개별 폴드 정확도:',scores)\n",
    "print('평균 정확도:',np.round(np.mean(scores),4))"
   ]
  },
  {
   "cell_type": "code",
   "execution_count": 11,
   "metadata": {
    "colab": {
     "base_uri": "https://localhost:8080/"
    },
    "executionInfo": {
     "elapsed": 114420,
     "status": "ok",
     "timestamp": 1621065212897,
     "user": {
      "displayName": "작은빗방울",
      "photoUrl": "",
      "userId": "04277491561705901693"
     },
     "user_tz": -540
    },
    "id": "i08eesCSsNjE",
    "outputId": "fb95e5ff-0f3c-4024-9d87-53252507a1c8"
   },
   "outputs": [
    {
     "name": "stdout",
     "output_type": "stream",
     "text": [
      "(30000, 16)\n",
      "cv=3의 개별 폴드 정확도: [0.805      0.8095     0.8175     0.828      0.82066667]\n",
      "평균 정확도: 0.8161\n"
     ]
    }
   ],
   "source": [
    "# cv세트 3에서 5로 늘리니 예측 성능 확 좋아짐!\n",
    "# id와 default 피처 삭제 후, 11+(6개->2개,6개->3개)=> 16개의 피처로 부분 차원축소하여 정확도 도출 \n",
    "df0=df.copy()\n",
    "pca_df1=pd.concat([df0,bill,pay],axis=1)\n",
    " \n",
    "pca_df1.drop(bill_cols,axis=1,inplace=True)\n",
    "pca_df1.drop(pay_cols,axis=1,inplace=True)\n",
    "\n",
    "X_features1=pca_df1.drop(['default','ID'],axis=1)\n",
    "y_target=df['default']\n",
    "print(X_features1.shape) \n",
    "\n",
    "scores=cross_val_score(rf,X_features1,y_target,scoring='accuracy',cv=5)\n",
    " \n",
    "print('cv=3의 개별 폴드 정확도:',scores)\n",
    "print('평균 정확도:',np.round(np.mean(scores),4))"
   ]
  },
  {
   "cell_type": "code",
   "execution_count": null,
   "metadata": {
    "colab": {
     "base_uri": "https://localhost:8080/"
    },
    "executionInfo": {
     "elapsed": 77463,
     "status": "ok",
     "timestamp": 1619182042100,
     "user": {
      "displayName": "작은빗방울",
      "photoUrl": "",
      "userId": "04277491561705901693"
     },
     "user_tz": -540
    },
    "id": "6Qe9RUYQwCDR",
    "outputId": "d2118db9-f64c-446c-e988-a8d94e51f25b"
   },
   "outputs": [
    {
     "name": "stdout",
     "output_type": "stream",
     "text": [
      "cv=3의 개별 폴드 정확도: [0.798  0.7997 0.806 ]\n",
      "평균 정확도: 0.8012\n"
     ]
    }
   ],
   "source": [
    "# 23개->10개로 차원축소 후, 정확도 도출\n",
    "from sklearn.decomposition import PCA\n",
    "from sklearn.preprocessing import StandardScaler\n",
    "\n",
    "scaler=StandardScaler()\n",
    "df_scaled=scaler.fit_transform(X_features)\n",
    "\n",
    "pca=PCA(n_components=10)\n",
    "df_pca=pca.fit_transform(df_scaled)\n",
    "scores_pca=cross_val_score(rf,df_pca,y_target,scoring='accuracy',cv=3)\n",
    "\n",
    "print('cv=3의 개별 폴드 정확도:',scores_pca)\n",
    "print('평균 정확도:',np.round(np.mean(scores_pca),4))"
   ]
  },
  {
   "cell_type": "code",
   "execution_count": null,
   "metadata": {
    "colab": {
     "base_uri": "https://localhost:8080/"
    },
    "executionInfo": {
     "elapsed": 104586,
     "status": "ok",
     "timestamp": 1619353144682,
     "user": {
      "displayName": "작은빗방울",
      "photoUrl": "",
      "userId": "04277491561705901693"
     },
     "user_tz": -540
    },
    "id": "wnTwA25XP4Gl",
    "outputId": "69b8df07-9067-40b3-e5b5-305f272c58e9"
   },
   "outputs": [
    {
     "name": "stdout",
     "output_type": "stream",
     "text": [
      "평균 정확도: 0.8179\n"
     ]
    }
   ],
   "source": [
    "# 인프런 질문에 복사한 코드 (6개->2개로 차원축소해서 나머지 열과 concat하여 정확도 도출, 피처 총 19개)\n",
    "## 부분적으로 차원축소를 해도 성과 나쁘지 않음! PAY관련 변수는 축소 안하고 BILL관련 피처만 부분축소하는 것이 성능 더 좋음. 참고!\n",
    "import pandas as pd\n",
    "import numpy as np\n",
    "from sklearn.decomposition import PCA\n",
    "from sklearn.preprocessing import StandardScaler\n",
    "from sklearn.ensemble import RandomForestClassifier\n",
    "from sklearn.model_selection import cross_val_score\n",
    "\n",
    "df=pd.read_excel('/content/drive/MyDrive/credit_card.xls',sheet_name='Data',header=1)\n",
    "df.rename(columns={'PAY_0':'PAY_1','default payment next month':'default'},inplace=True)\n",
    "\n",
    "X_features=df.drop(['ID', 'default'],axis=1)\n",
    "y_target=df['default']\n",
    "\n",
    "bill_cols=['BILL_AMT'+str(i) for i in range(1,7)]\n",
    "\n",
    "scaler=StandardScaler()\n",
    "df_cols_scaled=scaler.fit_transform(X_features[bill_cols])\n",
    "pca=PCA(n_components=2)\n",
    "col_pca=pca.fit_transform(df_cols_scaled)\n",
    "\n",
    "bill=pd.DataFrame(data=col_pca, columns=['bill_pca_1','bill_pca_2'])\n",
    "\n",
    "df0=df.copy()\n",
    "pca_df=pd.concat([df0,bill],axis=1)\n",
    "pca_df.drop(bill_cols,axis=1,inplace=True)\n",
    "\n",
    "X_features1=pca_df.drop('default',axis=1)\n",
    "y_target=pca_df['default']\n",
    "\n",
    "rf=RandomForestClassifier(n_estimators=300, random_state=156)\n",
    "scores=cross_val_score(rf, X_features1, y_target,scoring='accuracy', cv=5)\n",
    "print('평균 정확도:', np.round(np.mean(scores),4))"
   ]
  },
  {
   "cell_type": "markdown",
   "metadata": {
    "id": "vu_9xw0jxDZo"
   },
   "source": [
    "# LDA"
   ]
  },
  {
   "cell_type": "code",
   "execution_count": null,
   "metadata": {
    "id": "n-nLKYmHxFCH"
   },
   "outputs": [],
   "source": [
    "# python engineer 유튜브: LDA편\n",
    "import numpy as np\n",
    "class LDA:\n",
    "  def __init__(self,n_components):\n",
    "    self.n_components=n_components\n",
    "    self.linear_discriminants=None\n",
    "\n",
    "  def fit(self,X,y):\n",
    "    n_features=X.shape[1]\n",
    "    class_labels=np.unique(y)\n",
    "\n",
    "    # S_W, S_B\n",
    "    mean_overall=np.mean(X,axis=0)\n",
    "    S_W=np.zeros((n_features,n_features))\n",
    "    S_B=np.zeros((n_features,n_features))\n",
    "    for c in class_labels:\n",
    "      X_c=X[y==c]\n",
    "      mean_c=np.mean(X_c,axis=0)\n",
    "      # 클래스 내부 분산 구하기\n",
    "      # (4,n_c) * (n_c,4) = (4,4)\n",
    "      S_W+=(X_c-mean_c).T.dot(X_c-mean_c)\n",
    "\n",
    "      # 클래스 내부 분산 구하기\n",
    "      n_c=X_c.shape[0]\n",
    "      # (4,1) * (4,1).T = (4,4)\n",
    "      mean_diff=(mean_c-mean_overall).reshape(n_features,1)\n",
    "      S_B+=n_c*(mean_diff).dot(mean_diff.T)\n",
    "    \n",
    "    A=np.linalg.inv(S_W).dot(S_B)\n",
    "    eigenvalues,eigenvectors=np.linalg.eig(A)\n",
    "    \n",
    "    idxs=np.argsort(abs(eigenvalues))[::-1]\n",
    "    eigenvalues=eigenvalues[idxs]\n",
    "    eigenvectors=eigenvectors[:,idxs]\n",
    "    self.linear_discriminants=eigenvectors[:,0:self.n_components]\n",
    "  \n",
    "  def transform(self,X):\n",
    "    return np.dot(X,self.linear_discriminants)"
   ]
  },
  {
   "cell_type": "code",
   "execution_count": null,
   "metadata": {
    "colab": {
     "base_uri": "https://localhost:8080/",
     "height": 313
    },
    "executionInfo": {
     "elapsed": 745,
     "status": "ok",
     "timestamp": 1619247256961,
     "user": {
      "displayName": "작은빗방울",
      "photoUrl": "",
      "userId": "04277491561705901693"
     },
     "user_tz": -540
    },
    "id": "4H_nF68BkRw3",
    "outputId": "1c712bce-79d1-4dc8-9bed-a2eb42121342"
   },
   "outputs": [
    {
     "name": "stdout",
     "output_type": "stream",
     "text": [
      "(150, 4)\n",
      "(150, 2)\n"
     ]
    },
    {
     "data": {
      "image/png": "[encoded data removed]",
      "text/plain": [
       "<Figure size 432x288 with 1 Axes>"
      ]
     },
     "metadata": {
      "needs_background": "light",
      "tags": []
     },
     "output_type": "display_data"
    }
   ],
   "source": [
    "from sklearn import datasets\n",
    "import matplotlib.pyplot as plt\n",
    "import numpy as np\n",
    "\n",
    "data=datasets.load_iris()\n",
    "X=data.data\n",
    "y=data.target\n",
    "\n",
    "lda=LDA(2)\n",
    "lda.fit(X,y)\n",
    "X_projected=lda.transform(X)\n",
    "\n",
    "print(X.shape)\n",
    "print(X_projected.shape)\n",
    "\n",
    "z1=X_projected[:,0]\n",
    "z2=X_projected[:,1]\n",
    "\n",
    "plt.scatter(z1,z2,c=y,edgecolor='none',alpha=0.8,\n",
    "              label=iris.target_names[i])\n",
    "\n",
    "plt.xlabel('Linear Discriminant 1')\n",
    "plt.ylabel('Linear Discriminant 2')\n",
    "plt.show()"
   ]
  },
  {
   "cell_type": "code",
   "execution_count": null,
   "metadata": {
    "colab": {
     "base_uri": "https://localhost:8080/"
    },
    "executionInfo": {
     "elapsed": 1108,
     "status": "ok",
     "timestamp": 1619247766424,
     "user": {
      "displayName": "작은빗방울",
      "photoUrl": "",
      "userId": "04277491561705901693"
     },
     "user_tz": -540
    },
    "id": "apWZPAlQqFGq",
    "outputId": "7ebbb665-18f3-4a8b-a426-2b64e1c1dab6"
   },
   "outputs": [
    {
     "name": "stdout",
     "output_type": "stream",
     "text": [
      "(150, 2)\n"
     ]
    }
   ],
   "source": [
    "# 사이킷런의 LDA 사용해보기\n",
    "from sklearn.discriminant_analysis import LinearDiscriminantAnalysis\n",
    "from sklearn.preprocessing import StandardScaler\n",
    "from sklearn.datasets import load_iris\n",
    "\n",
    "iris=load_iris()\n",
    "iris_scaled=StandardScaler().fit_transform(iris.data)\n",
    "\n",
    "lda=LinearDiscriminantAnalysis(n_components=2)\n",
    "lda.fit(iris_scaled,iris.target)\n",
    "iris_lda=lda.transform(iris_scaled)\n",
    "print(iris_lda.shape)"
   ]
  },
  {
   "cell_type": "code",
   "execution_count": null,
   "metadata": {
    "colab": {
     "base_uri": "https://localhost:8080/",
     "height": 284
    },
    "executionInfo": {
     "elapsed": 918,
     "status": "ok",
     "timestamp": 1619248038681,
     "user": {
      "displayName": "작은빗방울",
      "photoUrl": "",
      "userId": "04277491561705901693"
     },
     "user_tz": -540
    },
    "id": "YpMczDRoq7ao",
    "outputId": "45554bfc-b06c-4ce6-ee17-0c4813c31138"
   },
   "outputs": [
    {
     "data": {
      "image/png": "[encoded data removed]",
      "text/plain": [
       "<Figure size 432x288 with 1 Axes>"
      ]
     },
     "metadata": {
      "needs_background": "light",
      "tags": []
     },
     "output_type": "display_data"
    }
   ],
   "source": [
    "import pandas as pd\n",
    "import matplotlib.pyplot as plt\n",
    "\n",
    "lda_columns=['lda_component_1','lda_component_2']\n",
    "irisDF_lda=pd.DataFrame(iris_lda,columns=lda_columns)\n",
    "irisDF_lda['target']=iris.target\n",
    "\n",
    "markers=['^','s','o']\n",
    "\n",
    "for i,marker in enumerate(markers):\n",
    "  x_axis_data=irisDF_lda[irisDF_lda['target']==i]['lda_component_1']\n",
    "  y_axis_data=irisDF_lda[irisDF_lda['target']==i]['lda_component_2']\n",
    "\n",
    "  plt.scatter(x_axis_data,y_axis_data,marker=marker,label=iris.target_names[i])\n",
    "plt.legend(loc='upper right')\n",
    "plt.xlabel('lda_component_1')\n",
    "plt.ylabel('lda_component_2')\n",
    "plt.show()"
   ]
  },
  {
   "cell_type": "markdown",
   "metadata": {
    "id": "HXaHqBUYtRHx"
   },
   "source": [
    "# SVD"
   ]
  },
  {
   "cell_type": "code",
   "execution_count": null,
   "metadata": {
    "colab": {
     "base_uri": "https://localhost:8080/"
    },
    "executionInfo": {
     "elapsed": 860,
     "status": "ok",
     "timestamp": 1619248172389,
     "user": {
      "displayName": "작은빗방울",
      "photoUrl": "",
      "userId": "04277491561705901693"
     },
     "user_tz": -540
    },
    "id": "IylbEkZjtQQv",
    "outputId": "84d41f94-4f7f-41b0-8736-dec0d491b17a"
   },
   "outputs": [
    {
     "name": "stdout",
     "output_type": "stream",
     "text": [
      "[[-0.212 -0.285 -0.574 -0.44 ]\n",
      " [-0.33   1.184  1.615  0.367]\n",
      " [-0.014  0.63   1.71  -1.327]\n",
      " [ 0.402 -0.191  1.404 -1.969]]\n"
     ]
    }
   ],
   "source": [
    "import numpy as np\n",
    "from numpy.linalg import svd\n",
    "\n",
    "# 4x4 random matrix 생성\n",
    "np.random.seed(121)\n",
    "a=np.random.randn(4,4)\n",
    "print(np.round(a,3))"
   ]
  },
  {
   "cell_type": "code",
   "execution_count": null,
   "metadata": {
    "colab": {
     "base_uri": "https://localhost:8080/"
    },
    "executionInfo": {
     "elapsed": 878,
     "status": "ok",
     "timestamp": 1619248384955,
     "user": {
      "displayName": "작은빗방울",
      "photoUrl": "",
      "userId": "04277491561705901693"
     },
     "user_tz": -540
    },
    "id": "M0lTC31zttT3",
    "outputId": "f358bf7d-92ff-4001-89f6-bfa4c4c3f82e"
   },
   "outputs": [
    {
     "name": "stdout",
     "output_type": "stream",
     "text": [
      "(4, 4) (4,) (4, 4) \n",
      "\n",
      "U matrix:\n",
      " [[-0.079 -0.318  0.867  0.376]\n",
      " [ 0.383  0.787  0.12   0.469]\n",
      " [ 0.656  0.022  0.357 -0.664]\n",
      " [ 0.645 -0.529 -0.328  0.444]] \n",
      "\n",
      "Sigma Value:\n",
      " [3.423 2.023 0.463 0.079] \n",
      "\n",
      "V transpose matrix:\n",
      " [[ 0.041  0.224  0.786 -0.574]\n",
      " [-0.2    0.562  0.37   0.712]\n",
      " [-0.778  0.395 -0.333 -0.357]\n",
      " [-0.593 -0.692  0.366  0.189]]\n"
     ]
    }
   ],
   "source": [
    "# SVD 행렬 분해\n",
    "U,Sigma,Vt=svd(a)\n",
    "print(U.shape,Sigma.shape,Vt.shape,'\\n')\n",
    "print('U matrix:\\n',np.round(U,3),'\\n')\n",
    "print('Sigma Value:\\n',np.round(Sigma,3),'\\n')\n",
    "print('V transpose matrix:\\n',np.round(Vt,3))"
   ]
  },
  {
   "cell_type": "code",
   "execution_count": null,
   "metadata": {
    "colab": {
     "base_uri": "https://localhost:8080/"
    },
    "executionInfo": {
     "elapsed": 765,
     "status": "ok",
     "timestamp": 1619248486399,
     "user": {
      "displayName": "작은빗방울",
      "photoUrl": "",
      "userId": "04277491561705901693"
     },
     "user_tz": -540
    },
    "id": "HvA17iAbue1D",
    "outputId": "6ef1ec01-4a77-4aa5-d5b8-2a592e89bb23"
   },
   "outputs": [
    {
     "name": "stdout",
     "output_type": "stream",
     "text": [
      "[[-0.212 -0.285 -0.574 -0.44 ]\n",
      " [-0.33   1.184  1.615  0.367]\n",
      " [-0.014  0.63   1.71  -1.327]\n",
      " [ 0.402 -0.191  1.404 -1.969]]\n"
     ]
    }
   ],
   "source": [
    "# 분해된 행렬 원행렬로 원복\n",
    "## Sigma가 (4,)인 1차원 행렬이기에 (4,4)인 *대각행렬*로 변환 후, 원복하기!\n",
    "Sigma_mat=np.diag(Sigma)\n",
    "a_=np.dot(np.dot(U,Sigma_mat),Vt)\n",
    "print(np.round(a_,3))"
   ]
  },
  {
   "cell_type": "code",
   "execution_count": null,
   "metadata": {
    "colab": {
     "base_uri": "https://localhost:8080/"
    },
    "executionInfo": {
     "elapsed": 1061,
     "status": "ok",
     "timestamp": 1619248649934,
     "user": {
      "displayName": "작은빗방울",
      "photoUrl": "",
      "userId": "04277491561705901693"
     },
     "user_tz": -540
    },
    "id": "CDgK-ESqvLKi",
    "outputId": "36446544-54aa-4e00-d9d2-c40ddccc9e9e"
   },
   "outputs": [
    {
     "name": "stdout",
     "output_type": "stream",
     "text": [
      "[[-0.212 -0.285 -0.574 -0.44 ]\n",
      " [-0.33   1.184  1.615  0.367]\n",
      " [-0.542  0.899  1.041 -0.073]\n",
      " [-0.212 -0.285 -0.574 -0.44 ]]\n"
     ]
    }
   ],
   "source": [
    "# 데이터 의존도가 높은 원본 데이터 행렬 생성\n",
    "a[2]=a[0]+a[1]\n",
    "a[3]=a[0]\n",
    "print(np.round(a,3))"
   ]
  },
  {
   "cell_type": "code",
   "execution_count": null,
   "metadata": {
    "colab": {
     "base_uri": "https://localhost:8080/"
    },
    "executionInfo": {
     "elapsed": 854,
     "status": "ok",
     "timestamp": 1619248778363,
     "user": {
      "displayName": "작은빗방울",
      "photoUrl": "",
      "userId": "04277491561705901693"
     },
     "user_tz": -540
    },
    "id": "MO3IvAyrvjUK",
    "outputId": "73b3e113-1575-49ae-8965-dc63ca4bc43c"
   },
   "outputs": [
    {
     "name": "stdout",
     "output_type": "stream",
     "text": [
      "(4, 4) (4,) (4, 4)\n",
      "sigma value:\n",
      " [2.663 0.807 0.    0.   ]\n"
     ]
    }
   ],
   "source": [
    "# 데이터 의존도가 높은 행렬은 시그마 행렬에서 0값이 생김\n",
    "## 선형 독립인 행 벡터의 개수가 2개라는 의미!\n",
    "u,sigma,vt=svd(a)\n",
    "print(u.shape,sigma.shape,vt.shape)\n",
    "print('sigma value:\\n',np.round(sigma,3))"
   ]
  },
  {
   "cell_type": "code",
   "execution_count": null,
   "metadata": {
    "colab": {
     "base_uri": "https://localhost:8080/"
    },
    "executionInfo": {
     "elapsed": 873,
     "status": "ok",
     "timestamp": 1619248946545,
     "user": {
      "displayName": "작은빗방울",
      "photoUrl": "",
      "userId": "04277491561705901693"
     },
     "user_tz": -540
    },
    "id": "8D0a0gnxwCOP",
    "outputId": "fa17ac32-ad39-4e48-fca6-a6328a40858b"
   },
   "outputs": [
    {
     "name": "stdout",
     "output_type": "stream",
     "text": [
      "(4, 2) (2, 2) (2, 4)\n",
      "[[-0.212 -0.285 -0.574 -0.44 ]\n",
      " [-0.33   1.184  1.615  0.367]\n",
      " [-0.542  0.899  1.041 -0.073]\n",
      " [-0.212 -0.285 -0.574 -0.44 ]]\n"
     ]
    }
   ],
   "source": [
    "# 0제외하고 복원해보기\n",
    "u_=u[:,:2]\n",
    "sigma_=np.diag(sigma[:2])\n",
    "vt_=vt[:2]\n",
    "print(u_.shape,sigma_.shape,vt_.shape)\n",
    "a_=np.dot(np.dot(u_,sigma_),vt_)\n",
    "print(np.round(a_,3))"
   ]
  },
  {
   "cell_type": "code",
   "execution_count": null,
   "metadata": {
    "colab": {
     "base_uri": "https://localhost:8080/"
    },
    "executionInfo": {
     "elapsed": 699,
     "status": "ok",
     "timestamp": 1619260647951,
     "user": {
      "displayName": "작은빗방울",
      "photoUrl": "",
      "userId": "04277491561705901693"
     },
     "user_tz": -540
    },
    "id": "u_8IO3eTw7ja",
    "outputId": "0ddcc039-b44e-431f-cc7f-2f2348f69248"
   },
   "outputs": [
    {
     "name": "stdout",
     "output_type": "stream",
     "text": [
      "원본 행렬:\n",
      " [[0.11133083 0.21076757 0.23296249 0.15194456 0.83017814 0.40791941]\n",
      " [0.5557906  0.74552394 0.24849976 0.9686594  0.95268418 0.48984885]\n",
      " [0.01829731 0.85760612 0.40493829 0.62247394 0.29537149 0.92958852]\n",
      " [0.4056155  0.56730065 0.24575605 0.22573721 0.03827786 0.58098021]\n",
      " [0.82925331 0.77326256 0.94693849 0.73632338 0.67328275 0.74517176]\n",
      " [0.51161442 0.46920965 0.6439515  0.82081228 0.14548493 0.01806415]]\n",
      "\n",
      "분해 행렬 차원: (6, 6) (6,) (6, 6)\n",
      "\n",
      "Sigma값 행렬: [3.2535007  0.88116505 0.83865238 0.55463089 0.35834824 0.0349925 ]\n",
      "\n",
      "Truncated SVD sigma값 행렬: [0.35834824 0.55463089 0.83865238 0.88116505 3.2535007 ]\n",
      "\n",
      "Truncated SVD 분해 후 복원 행렬:\n",
      " [[0.11368271 0.19721195 0.23106956 0.15961551 0.82758207 0.41695496]\n",
      " [0.55500167 0.75007112 0.24913473 0.96608621 0.95355502 0.48681791]\n",
      " [0.01789183 0.85994318 0.40526464 0.62115143 0.29581906 0.92803075]\n",
      " [0.40782587 0.55456069 0.24397702 0.23294659 0.035838   0.58947208]\n",
      " [0.82711496 0.78558742 0.94865955 0.7293489  0.67564311 0.73695659]\n",
      " [0.5136488  0.45748403 0.64231412 0.82744766 0.14323933 0.0258799 ]]\n"
     ]
    }
   ],
   "source": [
    "# Truncated SVD를 이용한 행렬 분해\n",
    "import numpy as np\n",
    "from scipy.sparse.linalg import svds\n",
    "from scipy.linalg import svd\n",
    "\n",
    "np.random.seed(121)\n",
    "matrix=np.random.random((6,6))\n",
    "print('원본 행렬:\\n',matrix)\n",
    "u,sigma,vt=svd(matrix,full_matrices=False)\n",
    "print('\\n분해 행렬 차원:',u.shape,sigma.shape,vt.shape)\n",
    "print('\\nSigma값 행렬:',sigma)\n",
    "\n",
    "# Truncated SVD로 sigma행렬의 특이값을 4개로 하여 Truncated SVD 수행\n",
    "num_components=5\n",
    "u_tr,sigma_tr,vt_tr=svds(matrix,k=num_components)\n",
    "print('\\nTruncated SVD sigma값 행렬:',sigma_tr)\n",
    "matrix_tr=np.dot(np.dot(u_tr,np.diag(sigma_tr)),vt_tr)\n",
    "\n",
    "print('\\nTruncated SVD 분해 후 복원 행렬:\\n',matrix_tr)"
   ]
  },
  {
   "cell_type": "code",
   "execution_count": null,
   "metadata": {
    "colab": {
     "base_uri": "https://localhost:8080/",
     "height": 296
    },
    "executionInfo": {
     "elapsed": 1423,
     "status": "ok",
     "timestamp": 1619261032042,
     "user": {
      "displayName": "작은빗방울",
      "photoUrl": "",
      "userId": "04277491561705901693"
     },
     "user_tz": -540
    },
    "id": "ZMane1VodSMB",
    "outputId": "3dc155b1-82ea-4772-ab16-770a81ae1f8b"
   },
   "outputs": [
    {
     "data": {
      "text/plain": [
       "Text(0, 0.5, 'TruncatedSVD Component 2')"
      ]
     },
     "execution_count": 4,
     "metadata": {
      "tags": []
     },
     "output_type": "execute_result"
    },
    {
     "data": {
      "image/png": "[encoded data removed]",
      "text/plain": [
       "<Figure size 432x288 with 1 Axes>"
      ]
     },
     "metadata": {
      "needs_background": "light",
      "tags": []
     },
     "output_type": "display_data"
    }
   ],
   "source": [
    "# 사이킷런 TruncatedSVD 클래스를 이용한 변환\n",
    "from sklearn.decomposition import TruncatedSVD, PCA\n",
    "from sklearn.datasets import load_iris\n",
    "import matplotlib.pyplot as plt\n",
    "\n",
    "iris=load_iris()\n",
    "iris_ftrs=iris.data\n",
    "tsvd=TruncatedSVD(n_components=2)\n",
    "tsvd.fit(iris_ftrs)\n",
    "iris_tsvd=tsvd.transform(iris_ftrs)\n",
    "\n",
    "plt.scatter(x=iris_tsvd[:,0],y=iris_tsvd[:,1],c=iris.target)\n",
    "plt.xlabel('TruncatedSVD Component 1')\n",
    "plt.ylabel('TruncatedSVD Component 2')"
   ]
  },
  {
   "cell_type": "code",
   "execution_count": null,
   "metadata": {
    "colab": {
     "base_uri": "https://localhost:8080/",
     "height": 461
    },
    "executionInfo": {
     "elapsed": 1644,
     "status": "ok",
     "timestamp": 1619261637390,
     "user": {
      "displayName": "작은빗방울",
      "photoUrl": "",
      "userId": "04277491561705901693"
     },
     "user_tz": -540
    },
    "id": "_WwbPNvLfGFB",
    "outputId": "ba1985d3-5183-4045-f42d-f2082ad1aeef"
   },
   "outputs": [
    {
     "data": {
      "text/plain": [
       "Text(0.5, 1.0, 'PCA Transformed')"
      ]
     },
     "execution_count": 7,
     "metadata": {
      "tags": []
     },
     "output_type": "execute_result"
    },
    {
     "data": {
      "image/png": "[encoded data removed]",
      "text/plain": [
       "<Figure size 1080x504 with 2 Axes>"
      ]
     },
     "metadata": {
      "needs_background": "light",
      "tags": []
     },
     "output_type": "display_data"
    }
   ],
   "source": [
    "# Truncated SVD 와 PCA 비교 (스케일링 이후 거의 동일해짐)\n",
    "from sklearn.preprocessing import StandardScaler\n",
    "\n",
    "# iris 데이터를 StandardScaler로 변환\n",
    "scaler=StandardScaler()\n",
    "iris_scaled=scaler.fit_transform(iris_ftrs)\n",
    "\n",
    "# 스케일링 기반 TruncatedSVD 변환\n",
    "tsvd=TruncatedSVD(n_components=2)\n",
    "tsvd.fit(iris_scaled)\n",
    "iris_tsvd=tsvd.transform(iris_scaled)\n",
    "\n",
    "# 스케일링 기반 PCA 변환\n",
    "pca=PCA(n_components=2)\n",
    "pca.fit(iris_scaled)\n",
    "iris_pca=pca.transform(iris_scaled)\n",
    "\n",
    "# TruncatedSVD와 PCA변환\n",
    "fig,(ax1,ax2)=plt.subplots(figsize=(15,7),ncols=2)\n",
    "ax1.scatter(x=iris_tsvd[:,0],y=iris_tsvd[:,1],c=iris.target)\n",
    "ax2.scatter(x=iris_tsvd[:,0],y=iris_tsvd[:,1],c=iris.target)\n",
    "ax1.set_title('Truncated SVD Transformed')\n",
    "ax2.set_title('PCA Transformed')"
   ]
  },
  {
   "cell_type": "markdown",
   "metadata": {
    "id": "yDQlQWgUzWkj"
   },
   "source": [
    "# NMF"
   ]
  },
  {
   "cell_type": "code",
   "execution_count": null,
   "metadata": {
    "colab": {
     "base_uri": "https://localhost:8080/",
     "height": 296
    },
    "executionInfo": {
     "elapsed": 843,
     "status": "ok",
     "timestamp": 1619267126069,
     "user": {
      "displayName": "작은빗방울",
      "photoUrl": "",
      "userId": "04277491561705901693"
     },
     "user_tz": -540
    },
    "id": "FqdjyOXxg9TI",
    "outputId": "9a68051b-8599-4a13-fd82-9f3c7e08dd70"
   },
   "outputs": [
    {
     "data": {
      "text/plain": [
       "Text(0, 0.5, 'NMF Component 2')"
      ]
     },
     "execution_count": 3,
     "metadata": {
      "tags": []
     },
     "output_type": "execute_result"
    },
    {
     "data": {
      "image/png": "[encoded data removed]",
      "text/plain": [
       "<Figure size 432x288 with 1 Axes>"
      ]
     },
     "metadata": {
      "needs_background": "light",
      "tags": []
     },
     "output_type": "display_data"
    }
   ],
   "source": [
    "from sklearn.decomposition import NMF\n",
    "from sklearn.datasets import load_iris\n",
    "import matplotlib.pyplot as plt\n",
    "\n",
    "iris=load_iris()\n",
    "iris_ftrs=iris.data\n",
    "nmf=NMF(n_components=2)\n",
    "\n",
    "nmf.fit(iris_ftrs)\n",
    "iris_nmf=nmf.transform(iris_ftrs)\n",
    "\n",
    "plt.scatter(x=iris_nmf[:,0],y=iris_nmf[:,1],c=iris.target)\n",
    "plt.xlabel('NMF Component 1')\n",
    "plt.ylabel('NMF Component 2')"
   ]
  }
 ],
 "metadata": {
  "colab": {
   "authorship_tag": "ABX9TyMa3XIJTCCkQHWuxscDapvO",
   "collapsed_sections": [],
   "mount_file_id": "1ipimgX9Ye3Ob4bKOJIeNhMs2D6DovZWz",
   "name": "머신러닝 완벽가이드(6장).ipynb",
   "provenance": []
  },
  "kernelspec": {
   "display_name": "Python 3",
   "language": "python",
   "name": "python3"
  },
  "language_info": {
   "codemirror_mode": {
    "name": "ipython",
    "version": 3
   },
   "file_extension": ".py",
   "mimetype": "text/x-python",
   "name": "python",
   "nbconvert_exporter": "python",
   "pygments_lexer": "ipython3",
   "version": "3.8.8"
  }
 },
 "nbformat": 4,
 "nbformat_minor": 1
}
