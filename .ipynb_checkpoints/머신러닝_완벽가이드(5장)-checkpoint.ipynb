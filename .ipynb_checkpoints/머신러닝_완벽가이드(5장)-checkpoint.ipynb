{
 "cells": [
  {
   "cell_type": "markdown",
   "metadata": {
    "id": "WQJrtqv-BIGb"
   },
   "source": [
    "# **5장. 회귀**"
   ]
  },
  {
   "cell_type": "markdown",
   "metadata": {
    "id": "Z6DpSzO-BRyO"
   },
   "source": [
    "## 5.3 경사하강법 (Gradient Descent)"
   ]
  },
  {
   "cell_type": "code",
   "execution_count": null,
   "metadata": {
    "colab": {
     "base_uri": "https://localhost:8080/"
    },
    "executionInfo": {
     "elapsed": 794,
     "status": "ok",
     "timestamp": 1617945919051,
     "user": {
      "displayName": "작은빗방울",
      "photoUrl": "",
      "userId": "04277491561705901693"
     },
     "user_tz": -540
    },
    "id": "cnJcmaNeEKI-",
    "outputId": "8642c784-eac6-47ac-b796-66ecaefe6ed3"
   },
   "outputs": [
    {
     "name": "stdout",
     "output_type": "stream",
     "text": [
      "0\n",
      "\n",
      "\n",
      "[[0.41049214 0.42822383 0.29784182]\n",
      " [0.40113234 0.12065699 0.98069967]\n",
      " [0.40612049 0.56921076 0.3436055 ]\n",
      " [0.78887278 0.41137241 0.35927142]]\n",
      "\n",
      "\n",
      "[[-1.60638701 -0.81467608  0.3212809 ]\n",
      " [-0.12393044  0.02212126 -0.32128651]]\n"
     ]
    }
   ],
   "source": [
    "## numpy의 random 모듈 소개\n",
    "# np.random.randint(m,n): (시작,n-1) 사이의 랜덤 숫자 1개 추출\n",
    "print(np.random.randint(8)) # 0~7까지 랜덤한 숫자 1개 추출\n",
    "print('\\n')\n",
    "# np.random.rand(m,n): 0~1의 균일분포 표준정규분포 난수를 array(m,n)형태로 생성\n",
    "print(np.random.rand(4,3))\n",
    "print('\\n')\n",
    "# np.random.randn(m,n): 평균0, 표준편차1의 가우시안 표준정규분포 난수를 array(m,n)형태로 생성\n",
    "print(np.random.randn(2,3))"
   ]
  },
  {
   "cell_type": "code",
   "execution_count": null,
   "metadata": {
    "colab": {
     "base_uri": "https://localhost:8080/",
     "height": 282
    },
    "executionInfo": {
     "elapsed": 692,
     "status": "ok",
     "timestamp": 1617945049469,
     "user": {
      "displayName": "작은빗방울",
      "photoUrl": "",
      "userId": "04277491561705901693"
     },
     "user_tz": -540
    },
    "id": "yNwukchCoEGG",
    "outputId": "ebfc3e41-256f-4860-d8eb-5e3d5d79158a"
   },
   "outputs": [
    {
     "data": {
      "text/plain": [
       "<matplotlib.collections.PathCollection at 0x7f2db986f290>"
      ]
     },
     "execution_count": 1,
     "metadata": {
      "tags": []
     },
     "output_type": "execute_result"
    },
    {
     "data": {
      "image/png": "[encoded data removed]",
      "text/plain": [
       "<Figure size 432x288 with 1 Axes>"
      ]
     },
     "metadata": {
      "needs_background": "light",
      "tags": []
     },
     "output_type": "display_data"
    }
   ],
   "source": [
    "# y=4x+6 시뮬레이션하는 데이터 값 생성\n",
    "import numpy as np\n",
    "import matplotlib.pyplot as plt\n",
    "\n",
    "np.random.seed(0)\n",
    "X=2*np.random.rand(100,1)\n",
    "y=6+4*X+np.random.randn(100,1)\n",
    "\n",
    "plt.scatter(X,y)"
   ]
  },
  {
   "cell_type": "code",
   "execution_count": null,
   "metadata": {
    "colab": {
     "base_uri": "https://localhost:8080/"
    },
    "executionInfo": {
     "elapsed": 1075,
     "status": "ok",
     "timestamp": 1617952092393,
     "user": {
      "displayName": "작은빗방울",
      "photoUrl": "",
      "userId": "04277491561705901693"
     },
     "user_tz": -540
    },
    "id": "TXnAbZHSCjX_",
    "outputId": "b160485c-6de7-422b-e84d-1f64212fe747"
   },
   "outputs": [
    {
     "name": "stdout",
     "output_type": "stream",
     "text": [
      "2 2\n"
     ]
    },
    {
     "data": {
      "text/plain": [
       "((1, 100), (100, 1))"
      ]
     },
     "execution_count": 22,
     "metadata": {
      "tags": []
     },
     "output_type": "execute_result"
    }
   ],
   "source": [
    "print(X.ndim, y.ndim)\n",
    "X.T.shape, y.shape"
   ]
  },
  {
   "cell_type": "code",
   "execution_count": null,
   "metadata": {
    "id": "mDZUbfQmGWxT"
   },
   "outputs": [],
   "source": [
    "# w0, w1의 값을 최소화할 수 있도록 업데이트 수행하는 함수 생성\n",
    "## 예측값 w0 + X1*w1 + X2*w1 + X3*w1 +...+ X100*w1은 입력 배열 X와 w1배열의 내적임!\n",
    "\n",
    "def get_weight_updates(w1,w0,X,y,learning_rate=0.01):\n",
    "  N=len(y)\n",
    "  w1_partial_d=np.zeros_like(w1)\n",
    "  w0_partial_d=np.zeros_like(w0)\n",
    "\n",
    "  # 예측 배열 계산하고 예측과 실제값 차이 계산\n",
    "  y_pred=np.dot(X, w1.T)+w0\n",
    "  diff=y-y_pred\n",
    "\n",
    "  # w0_partial_d를 내적 행렬 연산으로 구하기 위해서 모두 1값을 가진 행렬로 할당\n",
    "  w0_factors=np.ones((N,1))\n",
    "\n",
    "  # 업데이트될 w0,w1을 만들기 위해 MSE(mean square error)=RSS(residual sum of square)의\n",
    "  # 편미분 값을 먼저 리턴하는 함수 만드는 중이라 생각하면 됨!\n",
    "  w1_partial_d=-(2/N)*learning_rate*(np.dot(X.T,diff))\n",
    "  w0_partial_d=-(2/N)*learning_rate*(np.dot(w0_factors.T,diff))\n",
    "\n",
    "  return w1_partial_d, w0_partial_d"
   ]
  },
  {
   "cell_type": "code",
   "execution_count": null,
   "metadata": {
    "colab": {
     "base_uri": "https://localhost:8080/"
    },
    "executionInfo": {
     "elapsed": 787,
     "status": "ok",
     "timestamp": 1617951943759,
     "user": {
      "displayName": "작은빗방울",
      "photoUrl": "",
      "userId": "04277491561705901693"
     },
     "user_tz": -540
    },
    "id": "7s8dE8fSWTya",
    "outputId": "67fd148a-0b2e-4544-cfc9-9700d8ae4eb2"
   },
   "outputs": [
    {
     "name": "stdout",
     "output_type": "stream",
     "text": [
      "(100, 1)\n",
      "(1, 1) (1, 1)\n"
     ]
    },
    {
     "data": {
      "text/plain": [
       "(array([[0.]]), array([[0.]]))"
      ]
     },
     "execution_count": 16,
     "metadata": {
      "tags": []
     },
     "output_type": "execute_result"
    }
   ],
   "source": [
    "# 참고용\n",
    "w0 = np.zeros((1,1))\n",
    "w1 = np.zeros((1,1))\n",
    "y_pred = np.dot(X, w1.T) + w0\n",
    "diff = y-y_pred\n",
    "print(diff.shape)\n",
    "w0_factors = np.ones((100,1))\n",
    "w1_partial_d = -(2/100)*0.01*(np.dot(X.T, diff))\n",
    "w0_partial_d = -(2/100)*0.01*(np.dot(w0_factors.T, diff))   \n",
    "print(w1_partial_d.shape, w0_partial_d.shape)\n",
    "w1, w0"
   ]
  },
  {
   "cell_type": "code",
   "execution_count": null,
   "metadata": {
    "id": "NojXdyMZWgOe"
   },
   "outputs": [],
   "source": [
    "# 반복적인 경사하강법으로 get_weight_updates()를 호출해서 w1,w0를 업데이트하는 함수 생성\n",
    "def gradient_descent_steps(X,y,iters=10000):\n",
    "  w0=np.zeros((1,1))\n",
    "  w1=np.zeros((1,1))\n",
    "\n",
    "  for ind in range(iters):\n",
    "    w1_partial_d, w0_partial_d = get_weight_updates(w1,w0,X,y,learning_rate=0.01)\n",
    "    \n",
    "    # **조심할 점!!!: 계속해서 갱신돼야 하기에 이전 w값과 새로운 w값을 받을 변수를 동일하게 해줘야 함!\n",
    "    ## -= 사용\n",
    "    w1-=w1_partial_d\n",
    "    w0-=w0_partial_d\n",
    "\n",
    "  return w1, w0"
   ]
  },
  {
   "cell_type": "code",
   "execution_count": null,
   "metadata": {
    "id": "Xwev_wpHaFuT"
   },
   "outputs": [],
   "source": [
    "# 예측 오차 비용을 계산하는 함수 생성 및 경사하강법 수행\n",
    "def get_cost(y,y_pred):\n",
    "  N=len(y)\n",
    "  # cost = RSS = 잔차제곱합\n",
    "  cost=np.sum(np.square(y-y_pred))/N\n",
    "  return cost"
   ]
  },
  {
   "cell_type": "code",
   "execution_count": null,
   "metadata": {
    "colab": {
     "base_uri": "https://localhost:8080/"
    },
    "executionInfo": {
     "elapsed": 606,
     "status": "ok",
     "timestamp": 1617953219450,
     "user": {
      "displayName": "작은빗방울",
      "photoUrl": "",
      "userId": "04277491561705901693"
     },
     "user_tz": -540
    },
    "id": "vW4KJ6OZblVO",
    "outputId": "bbc2f558-62fa-478f-b079-7b3519543cfb"
   },
   "outputs": [
    {
     "name": "stdout",
     "output_type": "stream",
     "text": [
      "w1:3.971 w0:6.220\n",
      "Gradient Descent Total Cost: 0.9924\n"
     ]
    }
   ],
   "source": [
    "w1,w0=gradient_descent_steps(X,y,iters=2000)\n",
    "print(f'w1:{w1[0,0]:.3f} w0:{w0[0,0]:.3f}')\n",
    "y_pred=w1[0,0] * X + w0\n",
    "print(f'Gradient Descent Total Cost: {get_cost(y,y_pred):.4f}')"
   ]
  },
  {
   "cell_type": "code",
   "execution_count": null,
   "metadata": {
    "colab": {
     "base_uri": "https://localhost:8080/",
     "height": 282
    },
    "executionInfo": {
     "elapsed": 1237,
     "status": "ok",
     "timestamp": 1617953220183,
     "user": {
      "displayName": "작은빗방울",
      "photoUrl": "",
      "userId": "04277491561705901693"
     },
     "user_tz": -540
    },
    "id": "U6xDBkeGc5nU",
    "outputId": "d8c04d50-e902-4504-bf66-caa6e185df4d"
   },
   "outputs": [
    {
     "data": {
      "text/plain": [
       "[<matplotlib.lines.Line2D at 0x7f2db4db36d0>]"
      ]
     },
     "execution_count": 58,
     "metadata": {
      "tags": []
     },
     "output_type": "execute_result"
    },
    {
     "data": {
      "image/png": "[encoded data removed]",
      "text/plain": [
       "<Figure size 432x288 with 1 Axes>"
      ]
     },
     "metadata": {
      "needs_background": "light",
      "tags": []
     },
     "output_type": "display_data"
    }
   ],
   "source": [
    "plt.scatter(X, y)\n",
    "plt.plot(X,y_pred)"
   ]
  },
  {
   "cell_type": "code",
   "execution_count": null,
   "metadata": {
    "id": "6026J48JfYYf"
   },
   "outputs": [],
   "source": [
    "# 미니 배치 확률적 경사 하강법을 이용한 최적 비용함수 도출\n",
    "def stochastic_gradient_descent_steps(X,y,batch_size=10,iters=1000):\n",
    "  w0=np.zeros((1,1))\n",
    "  w1=np.zeros((1,1))\n",
    "\n",
    "  for ind in range(iters):\n",
    "    np.random.seed(ind)\n",
    "    # np.random.permutation(a)는 a를 임의로 섞음. \n",
    "    stochastic_random_index=np.random.permutation(X.shape[0])\n",
    "    sample_X=X[stochastic_random_index[0:batch_size]]\n",
    "    sample_y=y[stochastic_random_index[0:batch_size]]\n",
    "\n",
    "    w1_partial_d, w0_partial_d= get_weight_updates(w1,w0,sample_X,sample_y,\\\n",
    "                                                   learning_rate=0.01)\n",
    "    w1-=w1_partial_d\n",
    "    w0-=w0_partial_d\n",
    "  \n",
    "  return w1,w0"
   ]
  },
  {
   "cell_type": "code",
   "execution_count": null,
   "metadata": {
    "colab": {
     "base_uri": "https://localhost:8080/"
    },
    "executionInfo": {
     "elapsed": 687,
     "status": "ok",
     "timestamp": 1617954862740,
     "user": {
      "displayName": "작은빗방울",
      "photoUrl": "",
      "userId": "04277491561705901693"
     },
     "user_tz": -540
    },
    "id": "zIYYDGNQnrE6",
    "outputId": "95657d4e-828e-4d72-cedc-86951c993cd1"
   },
   "outputs": [
    {
     "data": {
      "text/plain": [
       "array([49, 40,  9, 61, 57, 13, 71,  2, 15, 99, 51, 97, 73, 39,  0, 19, 11,\n",
       "       77, 29, 68, 58, 36, 53, 23, 90, 79, 55, 32, 38, 24, 30, 88, 82, 17,\n",
       "        4, 44, 18, 47, 75, 83, 84, 48, 96, 42, 52,  7, 81, 14, 85, 26, 89,\n",
       "       74,  5,  1, 59, 95, 63, 16, 22, 76, 45, 67, 25, 62,  8, 35, 94, 21,\n",
       "       54, 87, 86, 28,  6, 20, 70, 43, 37, 60,  3, 34, 69, 64, 65, 56, 27,\n",
       "       10, 72, 98, 80, 12, 33, 46, 50, 93, 31, 91, 78, 92, 66, 41])"
      ]
     },
     "execution_count": 62,
     "metadata": {
      "tags": []
     },
     "output_type": "execute_result"
    }
   ],
   "source": [
    "np.random.permutation(X.shape[0])"
   ]
  },
  {
   "cell_type": "code",
   "execution_count": null,
   "metadata": {
    "colab": {
     "base_uri": "https://localhost:8080/"
    },
    "executionInfo": {
     "elapsed": 906,
     "status": "ok",
     "timestamp": 1617954975057,
     "user": {
      "displayName": "작은빗방울",
      "photoUrl": "",
      "userId": "04277491561705901693"
     },
     "user_tz": -540
    },
    "id": "S-rX7IfYnxIF",
    "outputId": "28f3a4f9-d819-4d6e-9d0c-b572b8c98b48"
   },
   "outputs": [
    {
     "name": "stdout",
     "output_type": "stream",
     "text": [
      "w1: 4.028 w0: 6.156\n",
      "Stochastic Gradient Total Cost:0.9937\n"
     ]
    }
   ],
   "source": [
    "w1,w0=stochastic_gradient_descent_steps(X,y,iters=1000)\n",
    "print('w1:',round(w1[0,0],3), 'w0:',round(w0[0,0],3))\n",
    "\n",
    "y_pred=w1[0,0]*X+w0\n",
    "print(f'Stochastic Gradient Total Cost:{get_cost(y,y_pred):.4f}')"
   ]
  },
  {
   "cell_type": "markdown",
   "metadata": {
    "id": "7GC-bOTfo4Rq"
   },
   "source": [
    "## 5.4 사이킷런 LinearRegression을 이용한 보스턴 주택 가격 예측"
   ]
  },
  {
   "cell_type": "code",
   "execution_count": null,
   "metadata": {
    "colab": {
     "base_uri": "https://localhost:8080/",
     "height": 221
    },
    "executionInfo": {
     "elapsed": 878,
     "status": "ok",
     "timestamp": 1618228348469,
     "user": {
      "displayName": "작은빗방울",
      "photoUrl": "",
      "userId": "04277491561705901693"
     },
     "user_tz": -540
    },
    "id": "E3dofkQ_pBIH",
    "outputId": "ca3c3e8d-f5c5-4194-b99e-36e1e4b1fcc0"
   },
   "outputs": [
    {
     "name": "stdout",
     "output_type": "stream",
     "text": [
      "(506, 14)\n"
     ]
    },
    {
     "data": {
      "text/html": [
       "<div>\n",
       "<style scoped>\n",
       "    .dataframe tbody tr th:only-of-type {\n",
       "        vertical-align: middle;\n",
       "    }\n",
       "\n",
       "    .dataframe tbody tr th {\n",
       "        vertical-align: top;\n",
       "    }\n",
       "\n",
       "    .dataframe thead th {\n",
       "        text-align: right;\n",
       "    }\n",
       "</style>\n",
       "<table border=\"1\" class=\"dataframe\">\n",
       "  <thead>\n",
       "    <tr style=\"text-align: right;\">\n",
       "      <th></th>\n",
       "      <th>CRIM</th>\n",
       "      <th>ZN</th>\n",
       "      <th>INDUS</th>\n",
       "      <th>CHAS</th>\n",
       "      <th>NOX</th>\n",
       "      <th>RM</th>\n",
       "      <th>AGE</th>\n",
       "      <th>DIS</th>\n",
       "      <th>RAD</th>\n",
       "      <th>TAX</th>\n",
       "      <th>PTRATIO</th>\n",
       "      <th>B</th>\n",
       "      <th>LSTAT</th>\n",
       "      <th>PRICE</th>\n",
       "    </tr>\n",
       "  </thead>\n",
       "  <tbody>\n",
       "    <tr>\n",
       "      <th>0</th>\n",
       "      <td>0.00632</td>\n",
       "      <td>18.0</td>\n",
       "      <td>2.31</td>\n",
       "      <td>0.0</td>\n",
       "      <td>0.538</td>\n",
       "      <td>6.575</td>\n",
       "      <td>65.2</td>\n",
       "      <td>4.0900</td>\n",
       "      <td>1.0</td>\n",
       "      <td>296.0</td>\n",
       "      <td>15.3</td>\n",
       "      <td>396.90</td>\n",
       "      <td>4.98</td>\n",
       "      <td>24.0</td>\n",
       "    </tr>\n",
       "    <tr>\n",
       "      <th>1</th>\n",
       "      <td>0.02731</td>\n",
       "      <td>0.0</td>\n",
       "      <td>7.07</td>\n",
       "      <td>0.0</td>\n",
       "      <td>0.469</td>\n",
       "      <td>6.421</td>\n",
       "      <td>78.9</td>\n",
       "      <td>4.9671</td>\n",
       "      <td>2.0</td>\n",
       "      <td>242.0</td>\n",
       "      <td>17.8</td>\n",
       "      <td>396.90</td>\n",
       "      <td>9.14</td>\n",
       "      <td>21.6</td>\n",
       "    </tr>\n",
       "    <tr>\n",
       "      <th>2</th>\n",
       "      <td>0.02729</td>\n",
       "      <td>0.0</td>\n",
       "      <td>7.07</td>\n",
       "      <td>0.0</td>\n",
       "      <td>0.469</td>\n",
       "      <td>7.185</td>\n",
       "      <td>61.1</td>\n",
       "      <td>4.9671</td>\n",
       "      <td>2.0</td>\n",
       "      <td>242.0</td>\n",
       "      <td>17.8</td>\n",
       "      <td>392.83</td>\n",
       "      <td>4.03</td>\n",
       "      <td>34.7</td>\n",
       "    </tr>\n",
       "    <tr>\n",
       "      <th>3</th>\n",
       "      <td>0.03237</td>\n",
       "      <td>0.0</td>\n",
       "      <td>2.18</td>\n",
       "      <td>0.0</td>\n",
       "      <td>0.458</td>\n",
       "      <td>6.998</td>\n",
       "      <td>45.8</td>\n",
       "      <td>6.0622</td>\n",
       "      <td>3.0</td>\n",
       "      <td>222.0</td>\n",
       "      <td>18.7</td>\n",
       "      <td>394.63</td>\n",
       "      <td>2.94</td>\n",
       "      <td>33.4</td>\n",
       "    </tr>\n",
       "    <tr>\n",
       "      <th>4</th>\n",
       "      <td>0.06905</td>\n",
       "      <td>0.0</td>\n",
       "      <td>2.18</td>\n",
       "      <td>0.0</td>\n",
       "      <td>0.458</td>\n",
       "      <td>7.147</td>\n",
       "      <td>54.2</td>\n",
       "      <td>6.0622</td>\n",
       "      <td>3.0</td>\n",
       "      <td>222.0</td>\n",
       "      <td>18.7</td>\n",
       "      <td>396.90</td>\n",
       "      <td>5.33</td>\n",
       "      <td>36.2</td>\n",
       "    </tr>\n",
       "  </tbody>\n",
       "</table>\n",
       "</div>"
      ],
      "text/plain": [
       "      CRIM    ZN  INDUS  CHAS    NOX  ...    TAX  PTRATIO       B  LSTAT  PRICE\n",
       "0  0.00632  18.0   2.31   0.0  0.538  ...  296.0     15.3  396.90   4.98   24.0\n",
       "1  0.02731   0.0   7.07   0.0  0.469  ...  242.0     17.8  396.90   9.14   21.6\n",
       "2  0.02729   0.0   7.07   0.0  0.469  ...  242.0     17.8  392.83   4.03   34.7\n",
       "3  0.03237   0.0   2.18   0.0  0.458  ...  222.0     18.7  394.63   2.94   33.4\n",
       "4  0.06905   0.0   2.18   0.0  0.458  ...  222.0     18.7  396.90   5.33   36.2\n",
       "\n",
       "[5 rows x 14 columns]"
      ]
     },
     "execution_count": 59,
     "metadata": {
      "tags": []
     },
     "output_type": "execute_result"
    }
   ],
   "source": [
    "import numpy as np\n",
    "import matplotlib.pyplot as plt\n",
    "import pandas as pd\n",
    "import seaborn as sns\n",
    "from scipy import stats\n",
    "from sklearn.datasets import load_boston\n",
    "\n",
    "boston=load_boston()\n",
    "bostonDF =pd.DataFrame(boston.data, columns=boston.feature_names)\n",
    "\n",
    "bostonDF['PRICE']=boston.target\n",
    "print(bostonDF.shape)\n",
    "bostonDF.head()"
   ]
  },
  {
   "cell_type": "code",
   "execution_count": null,
   "metadata": {
    "colab": {
     "base_uri": "https://localhost:8080/",
     "height": 517
    },
    "executionInfo": {
     "elapsed": 3131,
     "status": "ok",
     "timestamp": 1617961268633,
     "user": {
      "displayName": "작은빗방울",
      "photoUrl": "",
      "userId": "04277491561705901693"
     },
     "user_tz": -540
    },
    "id": "O5PmWfj6p0oN",
    "outputId": "aa9552b2-4544-41a6-96cf-a7cdda9835de"
   },
   "outputs": [
    {
     "data": {
      "image/png": "[encoded data removed]",
      "text/plain": [
       "<Figure size 1152x576 with 8 Axes>"
      ]
     },
     "metadata": {
      "needs_background": "light",
      "tags": []
     },
     "output_type": "display_data"
    }
   ],
   "source": [
    "# seaborn의 regplot을 이용해 산점도와 선형 회귀직선 함께 표현\n",
    "# subplots로 여러 그래프 시각화\n",
    "fig,axs=plt.subplots(figsize=(16,8),ncols=4,nrows=2)\n",
    "lm_features=['RM','ZN','INDUS','NOX','AGE','PTRATIO','LSTAT','RAD']\n",
    "\n",
    "for i,feature in enumerate(lm_features):\n",
    "  if i<=3:\n",
    "    row=0 \n",
    "    col=i\n",
    "  else:\n",
    "    row=1\n",
    "    col=i-4\n",
    "  sns.regplot(x=feature,y='PRICE',data=bostonDF,ax=axs[row][col])"
   ]
  },
  {
   "cell_type": "code",
   "execution_count": null,
   "metadata": {
    "colab": {
     "base_uri": "https://localhost:8080/"
    },
    "executionInfo": {
     "elapsed": 678,
     "status": "ok",
     "timestamp": 1617961723112,
     "user": {
      "displayName": "작은빗방울",
      "photoUrl": "",
      "userId": "04277491561705901693"
     },
     "user_tz": -540
    },
    "id": "GX0ZWd4v_FtP",
    "outputId": "c427cb2a-9377-4d7c-8c58-6139bc8a6830"
   },
   "outputs": [
    {
     "name": "stdout",
     "output_type": "stream",
     "text": [
      "MSE:17.297, RMSE:4.159\n",
      "Variance score: 0.757\n"
     ]
    }
   ],
   "source": [
    "from sklearn.model_selection import train_test_split\n",
    "from sklearn.linear_model import LinearRegression\n",
    "from sklearn.metrics import mean_squared_error, r2_score\n",
    "\n",
    "y_target=bostonDF['PRICE']\n",
    "X_data=bostonDF.drop(['PRICE'],axis=1,inplace=False)\n",
    "X_train, X_test, y_train, y_test = train_test_split(X_data,y_target, test_size=0.3,\\\n",
    "                                                    random_state=156)\n",
    "\n",
    "lr=LinearRegression()\n",
    "lr.fit(X_train,y_train)\n",
    "y_preds=lr.predict(X_test)\n",
    "mse=mean_squared_error(y_test,y_preds)\n",
    "rmse=np.sqrt(mse)\n",
    "\n",
    "print(f'MSE:{mse:.3f}, RMSE:{rmse:.3f}')\n",
    "print(f'Variance score: {r2_score(y_test,y_preds):.3f}')"
   ]
  },
  {
   "cell_type": "code",
   "execution_count": null,
   "metadata": {
    "colab": {
     "base_uri": "https://localhost:8080/"
    },
    "executionInfo": {
     "elapsed": 712,
     "status": "ok",
     "timestamp": 1617961905816,
     "user": {
      "displayName": "작은빗방울",
      "photoUrl": "",
      "userId": "04277491561705901693"
     },
     "user_tz": -540
    },
    "id": "VrfGZKJCCNVd",
    "outputId": "dbfa9a66-b683-49d6-c5c9-92298c36d86c"
   },
   "outputs": [
    {
     "name": "stdout",
     "output_type": "stream",
     "text": [
      "절편 값: 40.995595172164755\n",
      "회귀계수값: [ -0.1   0.1   0.    3.  -19.8   3.4   0.   -1.7   0.4  -0.   -0.9   0.\n",
      "  -0.6]\n"
     ]
    }
   ],
   "source": [
    "print('절편 값:',lr.intercept_)\n",
    "print('회귀계수값:',np.round(lr.coef_,1))"
   ]
  },
  {
   "cell_type": "code",
   "execution_count": null,
   "metadata": {
    "colab": {
     "base_uri": "https://localhost:8080/"
    },
    "executionInfo": {
     "elapsed": 770,
     "status": "ok",
     "timestamp": 1617961975944,
     "user": {
      "displayName": "작은빗방울",
      "photoUrl": "",
      "userId": "04277491561705901693"
     },
     "user_tz": -540
    },
    "id": "GyWXO-BbC3Nu",
    "outputId": "bc1539b2-e955-4c5c-8e9c-f2cb59f3c85f"
   },
   "outputs": [
    {
     "data": {
      "text/plain": [
       "RM          3.4\n",
       "CHAS        3.0\n",
       "RAD         0.4\n",
       "ZN          0.1\n",
       "B           0.0\n",
       "TAX        -0.0\n",
       "AGE         0.0\n",
       "INDUS       0.0\n",
       "CRIM       -0.1\n",
       "LSTAT      -0.6\n",
       "PTRATIO    -0.9\n",
       "DIS        -1.7\n",
       "NOX       -19.8\n",
       "dtype: float64"
      ]
     },
     "execution_count": 20,
     "metadata": {
      "tags": []
     },
     "output_type": "execute_result"
    }
   ],
   "source": [
    "coef=pd.Series(data=np.round(lr.coef_,1), index=X_data.columns)\n",
    "coef.sort_values(ascending=False)"
   ]
  },
  {
   "cell_type": "code",
   "execution_count": null,
   "metadata": {
    "colab": {
     "base_uri": "https://localhost:8080/"
    },
    "executionInfo": {
     "elapsed": 941,
     "status": "ok",
     "timestamp": 1617962439834,
     "user": {
      "displayName": "작은빗방울",
      "photoUrl": "",
      "userId": "04277491561705901693"
     },
     "user_tz": -540
    },
    "id": "c9SBt8nvDY_N",
    "outputId": "808760a9-f51a-4242-aedd-72893549ed11"
   },
   "outputs": [
    {
     "name": "stdout",
     "output_type": "stream",
     "text": [
      "5 folds의 개별 Negative MSE scores: [-12.46 -26.05 -33.07 -80.76 -33.31]\n",
      "5 folds의 개별 RMSE scores: [3.53 5.1  5.75 8.99 5.77]\n",
      "5 folds의 평균 RMSE :5.829\n"
     ]
    }
   ],
   "source": [
    "from sklearn.model_selection import cross_val_score\n",
    "\n",
    "y_target=bostonDF['PRICE']\n",
    "X_data=bostonDF.drop(['PRICE'],axis=1)\n",
    "lr=LinearRegression()\n",
    "\n",
    "neg_mse_scores=cross_val_score(lr,X_data,y_target,scoring='neg_mean_squared_error',\\\n",
    "                               cv=5)\n",
    "rmse_scores=np.sqrt(-1*neg_mse_scores)\n",
    "avg_rmse=np.mean(rmse_scores)\n",
    "\n",
    "print('5 folds의 개별 Negative MSE scores:',np.round(neg_mse_scores,2))\n",
    "print('5 folds의 개별 RMSE scores:',np.round(rmse_scores,2))\n",
    "print(f'5 folds의 평균 RMSE :{avg_rmse:.3f}')"
   ]
  },
  {
   "cell_type": "markdown",
   "metadata": {
    "id": "rAWdTLFk4x6u"
   },
   "source": [
    "## 5.5 Polynomial Regression과 과적합/과소적합의 이해"
   ]
  },
  {
   "cell_type": "code",
   "execution_count": null,
   "metadata": {
    "colab": {
     "base_uri": "https://localhost:8080/"
    },
    "executionInfo": {
     "elapsed": 828,
     "status": "ok",
     "timestamp": 1618128263166,
     "user": {
      "displayName": "작은빗방울",
      "photoUrl": "",
      "userId": "04277491561705901693"
     },
     "user_tz": -540
    },
    "id": "267zLezq5IPk",
    "outputId": "6c6f830e-be2e-4571-bf9d-2f901d60f227"
   },
   "outputs": [
    {
     "name": "stdout",
     "output_type": "stream",
     "text": [
      "[[0 1]\n",
      " [2 3]]\n",
      "변환된 2차 다항식 계수:\n",
      " [[1. 0. 1. 0. 0. 1.]\n",
      " [1. 2. 3. 4. 6. 9.]]\n"
     ]
    }
   ],
   "source": [
    "# Polynomial Regression의 이해\n",
    "## PolynomialFeatures 클래스로 다항식 변환\n",
    "from sklearn.preprocessing import PolynomialFeatures\n",
    "import numpy as np\n",
    "from sklearn.linear_model import LinearRegression\n",
    "\n",
    "X=np.arange(4).reshape(2,2)\n",
    "print(X)\n",
    "\n",
    "poly=PolynomialFeatures(degree=2)\n",
    "poly.fit(X)\n",
    "poly_ftr=poly.transform(X)\n",
    "print('변환된 2차 다항식 계수:\\n', poly_ftr)"
   ]
  },
  {
   "cell_type": "code",
   "execution_count": null,
   "metadata": {
    "colab": {
     "base_uri": "https://localhost:8080/"
    },
    "executionInfo": {
     "elapsed": 674,
     "status": "ok",
     "timestamp": 1618128263169,
     "user": {
      "displayName": "작은빗방울",
      "photoUrl": "",
      "userId": "04277491561705901693"
     },
     "user_tz": -540
    },
    "id": "6jBK1MK96AlB",
    "outputId": "a08d897c-aa5f-42eb-891b-cdee796ce5a2"
   },
   "outputs": [
    {
     "name": "stdout",
     "output_type": "stream",
     "text": [
      "일차 단항식 계수 피처:\n",
      " [[0 1]\n",
      " [2 3]]\n",
      "삼차 다항식 결정값:\n",
      " [  5 125]\n",
      "3타 다항식 계수 feature:\n",
      " [[ 1.  0.  1.  0.  0.  1.  0.  0.  0.  1.]\n",
      " [ 1.  2.  3.  4.  6.  9.  8. 12. 18. 27.]]\n",
      "Polynomial 회귀 계수\n",
      " [0.   0.18 0.18 0.36 0.54 0.72 0.72 1.08 1.62 2.34]\n",
      "Polynomial 회귀 Shape : (10,)\n"
     ]
    }
   ],
   "source": [
    "# 3차 다항식 결정값 구하는 함수 만들기\n",
    "def polynomial_func(X):\n",
    "  y=1+2*X[:,0]+3*X[:,0]**2+4*X[:,1]**3\n",
    "  return y\n",
    "\n",
    "X=np.arange(0,4).reshape(2,2)\n",
    "print('일차 단항식 계수 피처:\\n',X)\n",
    "y=polynomial_func(X)\n",
    "print('삼차 다항식 결정값:\\n',y)\n",
    "\n",
    "poly_ftr=PolynomialFeatures(degree=3).fit_transform(X)\n",
    "print('3타 다항식 계수 feature:\\n',poly_ftr)\n",
    "\n",
    "model=LinearRegression()\n",
    "model.fit(poly_ftr,y)\n",
    "print('Polynomial 회귀 계수\\n',np.round(model.coef_,2))\n",
    "print('Polynomial 회귀 Shape :', model.coef_.shape)"
   ]
  },
  {
   "cell_type": "code",
   "execution_count": null,
   "metadata": {
    "colab": {
     "base_uri": "https://localhost:8080/"
    },
    "executionInfo": {
     "elapsed": 2699,
     "status": "ok",
     "timestamp": 1618308100458,
     "user": {
      "displayName": "작은빗방울",
      "photoUrl": "",
      "userId": "04277491561705901693"
     },
     "user_tz": -540
    },
    "id": "DXZtDskw9WK3",
    "outputId": "3af0b896-bec2-401b-e016-3d0eb7062d7c"
   },
   "outputs": [
    {
     "name": "stdout",
     "output_type": "stream",
     "text": [
      "Polynomial 회귀 계수:\n",
      " [0.   0.28 0.28 0.56 0.85 1.13 1.13 1.69 2.54 3.67]\n"
     ]
    }
   ],
   "source": [
    "# 사이킷런 파이프라인을 이용한 3차 다항회귀 학습\n",
    "from sklearn.preprocessing import PolynomialFeatures\n",
    "from sklearn.linear_model import LinearRegression\n",
    "from sklearn.pipeline import Pipeline\n",
    "import numpy as np\n",
    "\n",
    "def polynomial_func(X):\n",
    "  y=1 + 2*X[:,0] + 3**X[:,0]**2 + 4*X[:,1]**3\n",
    "  return y\n",
    "\n",
    "model=Pipeline([('poly',PolynomialFeatures(degree=3)),\n",
    "                ('linear',LinearRegression())])\n",
    "X=np.arange(4).reshape(2,2)\n",
    "y=polynomial_func(X)\n",
    "\n",
    "model=model.fit(X,y)\n",
    "print('Polynomial 회귀 계수:\\n',np.round(model.named_steps['linear'].coef_,2))"
   ]
  },
  {
   "cell_type": "code",
   "execution_count": null,
   "metadata": {
    "colab": {
     "base_uri": "https://localhost:8080/"
    },
    "executionInfo": {
     "elapsed": 1110,
     "status": "ok",
     "timestamp": 1618308103200,
     "user": {
      "displayName": "작은빗방울",
      "photoUrl": "",
      "userId": "04277491561705901693"
     },
     "user_tz": -540
    },
    "id": "v97bWgjicPbJ",
    "outputId": "a89d5912-6660-45a8-b4ce-ca36eeb2884b"
   },
   "outputs": [
    {
     "name": "stdout",
     "output_type": "stream",
     "text": [
      "MSE:15.556, RMSE:3.944\n",
      "Variance score:0.782.\n"
     ]
    },
    {
     "data": {
      "text/plain": [
       "(2, 1)"
      ]
     },
     "execution_count": 2,
     "metadata": {
      "tags": []
     },
     "output_type": "execute_result"
    }
   ],
   "source": [
    "# 다항회귀를 이용한 보스턴 주택가격 예측\n",
    "from sklearn.model_selection import train_test_split\n",
    "from sklearn.linear_model import LinearRegression\n",
    "from sklearn.metrics import mean_squared_error, r2_score\n",
    "from sklearn.preprocessing import PolynomialFeatures\n",
    "from sklearn.pipeline import Pipeline\n",
    "import numpy as np\n",
    "from sklearn.datasets import load_boston\n",
    "\n",
    "boston=load_boston()\n",
    "\n",
    "X_train,X_test,y_train,y_test=train_test_split(boston.data,boston.target,\n",
    "                                               test_size=0.3,random_state=156)\n",
    "\n",
    "## degree=3 으로 설정하면 급격하게 잔차가 매우 커짐. 과적합으로 판단됨\n",
    "p_model=Pipeline([('poly',PolynomialFeatures(degree=2,include_bias=False)),\n",
    "                  ('linear',LinearRegression())])\n",
    "\n",
    "# 파이프라인으로 연결된 모델 학습 후, 예측\n",
    "p_model.fit(X_train,y_train)\n",
    "y_preds=p_model.predict(X_test)\n",
    "\n",
    "# 잔차평균제곱, 루트 잔차평균제곱 구하기\n",
    "mse=mean_squared_error(y_test,y_preds)\n",
    "rmse=np.sqrt(mse)\n",
    "\n",
    "print(f'MSE:{mse:.3f}, RMSE:{rmse:.3f}')\n",
    "print('Variance score:{0:.3f}.'.format(r2_score(y_test,y_preds)))\n",
    "# 참고\n",
    "X_train.ndim, y_train.ndim"
   ]
  },
  {
   "cell_type": "code",
   "execution_count": null,
   "metadata": {
    "id": "fzuU3YUBdw4c"
   },
   "outputs": [],
   "source": [
    "import numpy as np\n",
    "import matplotlib.pyplot as plt\n",
    "from sklearn.pipeline import Pipeline\n",
    "from sklearn.preprocessing import PolynomialFeatures\n",
    "from sklearn.linear_model import LinearRegression\n",
    "from sklearn.model_selection import cross_val_score\n",
    "\n",
    "def true_func(X):\n",
    "  return np.cos(1.5*np.pi*X)\n",
    "\n",
    "np.random.seed(0)\n",
    "n_samples=30\n",
    "X=np.sort(np.random.rand(n_samples))\n",
    "\n",
    "# y는 코사인함수 true_func()에서 약간의 노이즈 변동값을 더한 값!\n",
    "y=true_func(X)+np.random.randn(n_samples)*0.1"
   ]
  },
  {
   "cell_type": "code",
   "execution_count": null,
   "metadata": {
    "colab": {
     "base_uri": "https://localhost:8080/",
     "height": 282
    },
    "executionInfo": {
     "elapsed": 989,
     "status": "ok",
     "timestamp": 1618231076932,
     "user": {
      "displayName": "작은빗방울",
      "photoUrl": "",
      "userId": "04277491561705901693"
     },
     "user_tz": -540
    },
    "id": "m4_LpIdni6JU",
    "outputId": "ab612ba0-7b8d-4dbb-cccd-169ef7bfbcd3"
   },
   "outputs": [
    {
     "data": {
      "text/plain": [
       "<matplotlib.collections.PathCollection at 0x7f619c152e50>"
      ]
     },
     "execution_count": 5,
     "metadata": {
      "tags": []
     },
     "output_type": "execute_result"
    },
    {
     "data": {
      "image/png": "[encoded data removed]",
      "text/plain": [
       "<Figure size 432x288 with 1 Axes>"
      ]
     },
     "metadata": {
      "needs_background": "light",
      "tags": []
     },
     "output_type": "display_data"
    }
   ],
   "source": [
    "plt.scatter(X,y)"
   ]
  },
  {
   "cell_type": "code",
   "execution_count": null,
   "metadata": {
    "colab": {
     "base_uri": "https://localhost:8080/",
     "height": 552
    },
    "executionInfo": {
     "elapsed": 1199,
     "status": "ok",
     "timestamp": 1618231079117,
     "user": {
      "displayName": "작은빗방울",
      "photoUrl": "",
      "userId": "04277491561705901693"
     },
     "user_tz": -540
    },
    "id": "t1QBf_BQjBXY",
    "outputId": "be60a3c0-9e5e-4b28-c39a-45fc9eebfa03"
   },
   "outputs": [
    {
     "name": "stdout",
     "output_type": "stream",
     "text": [
      "\n",
      "Degree 1 회귀 계수는 [-1.61]\n",
      "Degree 1 MSE는 0.408\n",
      "\n",
      "Degree 4 회귀 계수는 [  0.47 -17.79  23.59  -7.26]\n",
      "Degree 4 MSE는 0.043\n",
      "\n",
      "Degree 15 회귀 계수는 [-2.98291000e+03  1.03898770e+05 -1.87415056e+06  2.03715126e+07\n",
      " -1.44872551e+08  7.09311979e+08 -2.47064676e+09  6.24558367e+09\n",
      " -1.15676035e+10  1.56894317e+10 -1.54005437e+10  1.06456871e+10\n",
      " -4.91375763e+09  1.35919168e+09 -1.70380199e+08]\n",
      "Degree 15 MSE는 180526263.294\n"
     ]
    },
    {
     "data": {
      "image/png": "[encoded data removed]",
      "text/plain": [
       "<Figure size 1008x360 with 3 Axes>"
      ]
     },
     "metadata": {
      "tags": []
     },
     "output_type": "display_data"
    }
   ],
   "source": [
    "# 고차원으로 갈수록 과적합이 심해짐을 시각화!\n",
    "plt.figure(figsize=(14, 5))\n",
    "degrees=[1,4,15]\n",
    "\n",
    "for i in range(len(degrees)):\n",
    "  ax=plt.subplot(1,len(degrees),i+1)\n",
    "  plt.setp(ax, xticks=(), yticks=())\n",
    "\n",
    "  polynomial_features=PolynomialFeatures(degree=degrees[i],include_bias=False)\n",
    "  \n",
    "  linear_regression=LinearRegression()\n",
    "  pipeline=Pipeline([('poly_f',polynomial_features),('linear_r',linear_regression)])\n",
    "\n",
    "  # fit()은 X는 2차원이길 바람!! Thus, reshape로 차원 변경해줘야함!\n",
    "  pipeline.fit(X.reshape(-1,1),y)\n",
    "\n",
    "  # 교차검증으로 다항 회귀 평가\n",
    "  ## 차수가 15일 때 mse가 큰 이유는 30개의 X데이터를 학습에 쓰는게 아니기 때문!!\n",
    "  scores=cross_val_score(pipeline,X.reshape(-1,1),y,scoring='neg_mean_squared_error'\n",
    "                         ,cv=10)\n",
    "  coefficients=pipeline.named_steps['linear_r'].coef_\n",
    "  print(f'\\nDegree {degrees[i]} 회귀 계수는 {np.round(coefficients,2)}')\n",
    "  print(f'Degree {degrees[i]} MSE는 {-1*np.mean(scores):.3f}')\n",
    "\n",
    "  X_test=np.linspace(0,1,100)\n",
    "\n",
    "  # 예측값 곡선\n",
    "  plt.plot(X_test,pipeline.predict(X_test.reshape(-1,1)),label='Model')\n",
    "\n",
    "  # 실제값 곡선\n",
    "  plt.plot(X_test,true_func(X_test),'--',label='True function')\n",
    "  plt.scatter(X,y,edgecolor='b',s=20,label='Samples')\n",
    "\n",
    "  plt.xlabel('x');plt.ylabel('y');plt.xlim((0,1));plt.ylim((-2,2))\n",
    "  plt.legend(loc='best')\n",
    "  plt.title(f'Degree {degrees[i]}\\n MSE={-scores.mean():.2e}(+/- {scores.std():.2e})')\n",
    "\n",
    "## plt.show()는 반드시 for문 밖에서!\n",
    "plt.show()"
   ]
  },
  {
   "cell_type": "markdown",
   "metadata": {
    "id": "nNpAoG5G7h_D"
   },
   "source": [
    "## 5.6 Regularized Linear Models- Ridge, Lasso"
   ]
  },
  {
   "cell_type": "code",
   "execution_count": null,
   "metadata": {
    "colab": {
     "base_uri": "https://localhost:8080/"
    },
    "executionInfo": {
     "elapsed": 1572,
     "status": "ok",
     "timestamp": 1618308113390,
     "user": {
      "displayName": "작은빗방울",
      "photoUrl": "",
      "userId": "04277491561705901693"
     },
     "user_tz": -540
    },
    "id": "vQqYFe_O3N2q",
    "outputId": "55d2ac5e-9d22-4c59-a6d9-cf9a95093899"
   },
   "outputs": [
    {
     "name": "stdout",
     "output_type": "stream",
     "text": [
      "폴드별 Negative MSE scores: [-11.422 -24.294 -28.144 -74.599 -28.517]\n",
      "폴드별 RMSE scores: [3.38  4.929 5.305 8.637 5.34 ]\n",
      "평균 RMSE: 5.518\n"
     ]
    }
   ],
   "source": [
    "# 릿지\n",
    "from sklearn.linear_model import Ridge\n",
    "from sklearn.model_selection import cross_val_score\n",
    "\n",
    "boston=load_boston()\n",
    "\n",
    "ridge=Ridge(alpha=10)\n",
    "\n",
    "neg_mse_scores=cross_val_score(ridge,boston.data,boston.target,\n",
    "                               scoring='neg_mean_squared_error',cv=5)\n",
    "rmse_scores=np.sqrt(-1*neg_mse_scores)\n",
    "avg_rmse=np.mean(rmse_scores)\n",
    "\n",
    "print('폴드별 Negative MSE scores:', np.round(neg_mse_scores,3))\n",
    "print('폴드별 RMSE scores:', np.round(rmse_scores,3))\n",
    "print('평균 RMSE:', round(avg_rmse,3))"
   ]
  },
  {
   "cell_type": "code",
   "execution_count": null,
   "metadata": {
    "colab": {
     "base_uri": "https://localhost:8080/"
    },
    "executionInfo": {
     "elapsed": 1179,
     "status": "ok",
     "timestamp": 1618308115424,
     "user": {
      "displayName": "작은빗방울",
      "photoUrl": "",
      "userId": "04277491561705901693"
     },
     "user_tz": -540
    },
    "id": "LY3mUXa29cp7",
    "outputId": "ee9f57b4-dcd8-41cf-c78b-54069507c3bf"
   },
   "outputs": [
    {
     "name": "stdout",
     "output_type": "stream",
     "text": [
      "alpha 0일 때, 평균 RMSE:5.829\n",
      "alpha 0.1일 때, 평균 RMSE:5.788\n",
      "alpha 1일 때, 평균 RMSE:5.653\n",
      "alpha 10일 때, 평균 RMSE:5.518\n",
      "alpha 100일 때, 평균 RMSE:5.330\n"
     ]
    }
   ],
   "source": [
    "# alpha값을 변경하며 RMSE 측정\n",
    "alphas=[0,0.1,1,10,100]\n",
    "\n",
    "for alpha in alphas:\n",
    "  ridge=Ridge(alpha=alpha)\n",
    "\n",
    "  neg_mse_scores=cross_val_score(ridge,boston.data,boston.target,\n",
    "                                 scoring='neg_mean_squared_error',cv=5)\n",
    "  rmse_scores=np.sqrt(-1*neg_mse_scores)\n",
    "  avg_rmse=np.mean(rmse_scores)\n",
    "  print(f'alpha {alpha}일 때, 평균 RMSE:{avg_rmse:.3f}')"
   ]
  },
  {
   "cell_type": "code",
   "execution_count": null,
   "metadata": {
    "colab": {
     "base_uri": "https://localhost:8080/",
     "height": 645
    },
    "executionInfo": {
     "elapsed": 2517,
     "status": "ok",
     "timestamp": 1618308122647,
     "user": {
      "displayName": "작은빗방울",
      "photoUrl": "",
      "userId": "04277491561705901693"
     },
     "user_tz": -540
    },
    "id": "XSDEm9x9-J0v",
    "outputId": "3a4e9439-f50a-4289-8ea2-fdfd5b13a719"
   },
   "outputs": [
    {
     "data": {
      "image/png": "[encoded data removed]",
      "text/plain": [
       "<Figure size 1296x432 with 5 Axes>"
      ]
     },
     "metadata": {
      "needs_background": "light",
      "tags": []
     },
     "output_type": "display_data"
    },
    {
     "name": "stdout",
     "output_type": "stream",
     "text": [
      "##alpha=100일 때 각 독립변수들의 회귀계수## \n",
      " RM         2.334536\n",
      "CHAS       0.638335\n",
      "RAD        0.315358\n",
      "ZN         0.054496\n",
      "B          0.009393\n",
      "AGE        0.001212\n",
      "TAX       -0.015856\n",
      "INDUS     -0.052826\n",
      "CRIM      -0.102202\n",
      "NOX       -0.262847\n",
      "LSTAT     -0.660764\n",
      "PTRATIO   -0.829218\n",
      "DIS       -1.153390\n",
      "dtype: float64\n"
     ]
    }
   ],
   "source": [
    "# 각 알파값에 따른 회귀계수 값을 시각화\n",
    "import pandas as pd\n",
    "import seaborn as sns\n",
    "\n",
    "fig,axs=plt.subplots(figsize=(18,6),nrows=1,ncols=5)\n",
    "coeff_df=pd.DataFrame()\n",
    "\n",
    "for pos,alpha in enumerate(alphas):\n",
    "  ridge=Ridge(alpha=alpha)\n",
    "  ridge.fit(boston.data,boston.target)\n",
    "\n",
    "  coeff=pd.Series(data=ridge.coef_,index=boston.feature_names)\n",
    "  colname='alpha:'+str(alpha)\n",
    "  coeff_df[colname]=coeff\n",
    "\n",
    "  coeff=coeff.sort_values(ascending=False)\n",
    "  axs[pos].set_title(colname)\n",
    "  axs[pos].set_xlim(-5,6)\n",
    "  sns.barplot(x=coeff.values,y=coeff.index,ax=axs[pos])\n",
    "\n",
    "plt.show()\n",
    "print('##alpha=100일 때 각 독립변수들의 회귀계수##','\\n',coeff)"
   ]
  },
  {
   "cell_type": "code",
   "execution_count": null,
   "metadata": {
    "id": "TW2WBpsfIGw2"
   },
   "outputs": [],
   "source": [
    "# alpha값에 따라 회귀모델의 평균 RMSE를 출력하고 회귀계수들을 데이터프레임으로 반환하는 함수 생성\n",
    "from sklearn.linear_model import Ridge,Lasso,ElasticNet\n",
    "def get_linear_reg_eval(model_name, params=None, X_data_n=None, \n",
    "                        y_target_n=None, verbose=True):\n",
    "  coeff_df=pd.DataFrame()\n",
    "  if verbose: print('######',model_name,'######')\n",
    "  for param in params:\n",
    "    if model_name=='Ridge': model=Ridge(alpha=param)\n",
    "    elif model_name=='Lasso': model=Lasso(alpha=param)\n",
    "    elif model_name=='ElasticNet': model=ElasticNet(alpha=param,l1_ratio=0.7)\n",
    "    \n",
    "    neg_mse_scores=cross_val_score(model,X_data_n,y_target_n,\n",
    "                                   scoring='neg_mean_squared_error',cv=5)\n",
    "    avg_rmse=np.mean(np.sqrt(-1*neg_mse_scores))\n",
    "    print(f'alpha {param}일 때, 폴드세트의 평균 RMSE:{avg_rmse:.3f}')\n",
    "    \n",
    "    # cross_val_score는 evaluation metrcs만 반환하기에 모델을 다시 학습하여 회귀계수 추출\n",
    "    # X_data_n, y_target_n으로 해놓으면 다항회귀에서 오류생김!\n",
    "    model.fit(boston.data, boston.target)\n",
    "\n",
    "    coeff=pd.Series(data=model.coef_, index=boston.feature_names)\n",
    "    colname='alpha:'+str(param)\n",
    "    coeff_df[colname]=coeff\n",
    "\n",
    "  return coeff_df"
   ]
  },
  {
   "cell_type": "code",
   "execution_count": null,
   "metadata": {
    "colab": {
     "base_uri": "https://localhost:8080/"
    },
    "executionInfo": {
     "elapsed": 762,
     "status": "ok",
     "timestamp": 1618230269823,
     "user": {
      "displayName": "작은빗방울",
      "photoUrl": "",
      "userId": "04277491561705901693"
     },
     "user_tz": -540
    },
    "id": "5obruo1h53uf",
    "outputId": "1bfc4b6d-aaf4-4b58-c2aa-cc876d9bf896"
   },
   "outputs": [
    {
     "data": {
      "text/plain": [
       "CRIM      -0.102202\n",
       "ZN         0.054496\n",
       "INDUS     -0.052826\n",
       "CHAS       0.638335\n",
       "NOX       -0.262847\n",
       "RM         2.334536\n",
       "AGE        0.001212\n",
       "DIS       -1.153390\n",
       "RAD        0.315358\n",
       "TAX       -0.015856\n",
       "PTRATIO   -0.829218\n",
       "B          0.009393\n",
       "LSTAT     -0.660764\n",
       "dtype: float64"
      ]
     },
     "execution_count": 107,
     "metadata": {
      "tags": []
     },
     "output_type": "execute_result"
    }
   ],
   "source": [
    "coeff=pd.Series(data=ridge.coef_,index=boston.feature_names)\n",
    "coeff"
   ]
  },
  {
   "cell_type": "markdown",
   "metadata": {
    "id": "jMdfYRSSrqU_"
   },
   "source": [
    "**알파값 변화에 따른 릿지 모델의 회귀계수 변화**"
   ]
  },
  {
   "cell_type": "code",
   "execution_count": null,
   "metadata": {
    "colab": {
     "base_uri": "https://localhost:8080/",
     "height": 554
    },
    "executionInfo": {
     "elapsed": 795,
     "status": "ok",
     "timestamp": 1618230271161,
     "user": {
      "displayName": "작은빗방울",
      "photoUrl": "",
      "userId": "04277491561705901693"
     },
     "user_tz": -540
    },
    "id": "nHEfwFDWmaWG",
    "outputId": "bbcc2861-a233-4738-dd5c-20d663262af5"
   },
   "outputs": [
    {
     "name": "stdout",
     "output_type": "stream",
     "text": [
      "###### Ridge ######\n",
      "alpha 0일 때, 폴드세트의 평균 RMSE:5.829\n",
      "alpha 0.1일 때, 폴드세트의 평균 RMSE:5.788\n",
      "alpha 1일 때, 폴드세트의 평균 RMSE:5.653\n",
      "alpha 10일 때, 폴드세트의 평균 RMSE:5.518\n",
      "alpha 100일 때, 폴드세트의 평균 RMSE:5.330\n"
     ]
    },
    {
     "data": {
      "text/html": [
       "<div>\n",
       "<style scoped>\n",
       "    .dataframe tbody tr th:only-of-type {\n",
       "        vertical-align: middle;\n",
       "    }\n",
       "\n",
       "    .dataframe tbody tr th {\n",
       "        vertical-align: top;\n",
       "    }\n",
       "\n",
       "    .dataframe thead th {\n",
       "        text-align: right;\n",
       "    }\n",
       "</style>\n",
       "<table border=\"1\" class=\"dataframe\">\n",
       "  <thead>\n",
       "    <tr style=\"text-align: right;\">\n",
       "      <th></th>\n",
       "      <th>alpha:0</th>\n",
       "      <th>alpha:0.1</th>\n",
       "      <th>alpha:1</th>\n",
       "      <th>alpha:10</th>\n",
       "      <th>alpha:100</th>\n",
       "    </tr>\n",
       "  </thead>\n",
       "  <tbody>\n",
       "    <tr>\n",
       "      <th>RM</th>\n",
       "      <td>3.809865</td>\n",
       "      <td>3.818233</td>\n",
       "      <td>3.854000</td>\n",
       "      <td>3.702272</td>\n",
       "      <td>2.334536</td>\n",
       "    </tr>\n",
       "    <tr>\n",
       "      <th>CHAS</th>\n",
       "      <td>2.686734</td>\n",
       "      <td>2.670019</td>\n",
       "      <td>2.552393</td>\n",
       "      <td>1.952021</td>\n",
       "      <td>0.638335</td>\n",
       "    </tr>\n",
       "    <tr>\n",
       "      <th>RAD</th>\n",
       "      <td>0.306049</td>\n",
       "      <td>0.303515</td>\n",
       "      <td>0.290142</td>\n",
       "      <td>0.279596</td>\n",
       "      <td>0.315358</td>\n",
       "    </tr>\n",
       "    <tr>\n",
       "      <th>ZN</th>\n",
       "      <td>0.046420</td>\n",
       "      <td>0.046572</td>\n",
       "      <td>0.047443</td>\n",
       "      <td>0.049579</td>\n",
       "      <td>0.054496</td>\n",
       "    </tr>\n",
       "    <tr>\n",
       "      <th>INDUS</th>\n",
       "      <td>0.020559</td>\n",
       "      <td>0.015999</td>\n",
       "      <td>-0.008805</td>\n",
       "      <td>-0.042962</td>\n",
       "      <td>-0.052826</td>\n",
       "    </tr>\n",
       "    <tr>\n",
       "      <th>B</th>\n",
       "      <td>0.009312</td>\n",
       "      <td>0.009368</td>\n",
       "      <td>0.009673</td>\n",
       "      <td>0.010037</td>\n",
       "      <td>0.009393</td>\n",
       "    </tr>\n",
       "    <tr>\n",
       "      <th>AGE</th>\n",
       "      <td>0.000692</td>\n",
       "      <td>-0.000269</td>\n",
       "      <td>-0.005415</td>\n",
       "      <td>-0.010707</td>\n",
       "      <td>0.001212</td>\n",
       "    </tr>\n",
       "    <tr>\n",
       "      <th>TAX</th>\n",
       "      <td>-0.012335</td>\n",
       "      <td>-0.012421</td>\n",
       "      <td>-0.012912</td>\n",
       "      <td>-0.013993</td>\n",
       "      <td>-0.015856</td>\n",
       "    </tr>\n",
       "    <tr>\n",
       "      <th>CRIM</th>\n",
       "      <td>-0.108011</td>\n",
       "      <td>-0.107474</td>\n",
       "      <td>-0.104595</td>\n",
       "      <td>-0.101435</td>\n",
       "      <td>-0.102202</td>\n",
       "    </tr>\n",
       "    <tr>\n",
       "      <th>LSTAT</th>\n",
       "      <td>-0.524758</td>\n",
       "      <td>-0.525966</td>\n",
       "      <td>-0.533343</td>\n",
       "      <td>-0.559366</td>\n",
       "      <td>-0.660764</td>\n",
       "    </tr>\n",
       "    <tr>\n",
       "      <th>PTRATIO</th>\n",
       "      <td>-0.952747</td>\n",
       "      <td>-0.940759</td>\n",
       "      <td>-0.876074</td>\n",
       "      <td>-0.797945</td>\n",
       "      <td>-0.829218</td>\n",
       "    </tr>\n",
       "    <tr>\n",
       "      <th>DIS</th>\n",
       "      <td>-1.475567</td>\n",
       "      <td>-1.459626</td>\n",
       "      <td>-1.372654</td>\n",
       "      <td>-1.248808</td>\n",
       "      <td>-1.153390</td>\n",
       "    </tr>\n",
       "    <tr>\n",
       "      <th>NOX</th>\n",
       "      <td>-17.766611</td>\n",
       "      <td>-16.684645</td>\n",
       "      <td>-10.777015</td>\n",
       "      <td>-2.371619</td>\n",
       "      <td>-0.262847</td>\n",
       "    </tr>\n",
       "  </tbody>\n",
       "</table>\n",
       "</div>"
      ],
      "text/plain": [
       "           alpha:0  alpha:0.1    alpha:1  alpha:10  alpha:100\n",
       "RM        3.809865   3.818233   3.854000  3.702272   2.334536\n",
       "CHAS      2.686734   2.670019   2.552393  1.952021   0.638335\n",
       "RAD       0.306049   0.303515   0.290142  0.279596   0.315358\n",
       "ZN        0.046420   0.046572   0.047443  0.049579   0.054496\n",
       "INDUS     0.020559   0.015999  -0.008805 -0.042962  -0.052826\n",
       "B         0.009312   0.009368   0.009673  0.010037   0.009393\n",
       "AGE       0.000692  -0.000269  -0.005415 -0.010707   0.001212\n",
       "TAX      -0.012335  -0.012421  -0.012912 -0.013993  -0.015856\n",
       "CRIM     -0.108011  -0.107474  -0.104595 -0.101435  -0.102202\n",
       "LSTAT    -0.524758  -0.525966  -0.533343 -0.559366  -0.660764\n",
       "PTRATIO  -0.952747  -0.940759  -0.876074 -0.797945  -0.829218\n",
       "DIS      -1.475567  -1.459626  -1.372654 -1.248808  -1.153390\n",
       "NOX     -17.766611 -16.684645 -10.777015 -2.371619  -0.262847"
      ]
     },
     "execution_count": 108,
     "metadata": {
      "tags": []
     },
     "output_type": "execute_result"
    }
   ],
   "source": [
    "# 알파값 변화에 따른 릿지 모델의 회귀계수 변화\n",
    "ridge_alphas=[0,0.1,1,10,100]\n",
    "coeff_ridge_df=get_linear_reg_eval('Ridge',params=ridge_alphas,X_data_n=boston.data,\n",
    "                             y_target_n=boston.target)\n",
    "coeff_ridge_df.sort_values(by='alpha:'+str(ridge_alphas[0]),ascending=False)"
   ]
  },
  {
   "cell_type": "markdown",
   "metadata": {
    "id": "HGaNpkTwr4iF"
   },
   "source": [
    "**알파값 변화에 따른 라쏘 모델의 회귀계수 변화**\n",
    "\n"
   ]
  },
  {
   "cell_type": "code",
   "execution_count": null,
   "metadata": {
    "colab": {
     "base_uri": "https://localhost:8080/",
     "height": 554
    },
    "executionInfo": {
     "elapsed": 464,
     "status": "ok",
     "timestamp": 1618230272322,
     "user": {
      "displayName": "작은빗방울",
      "photoUrl": "",
      "userId": "04277491561705901693"
     },
     "user_tz": -540
    },
    "id": "2MoMxnv6pNM7",
    "outputId": "52d2fe50-58d0-415e-b97d-aabadc5f3ef9"
   },
   "outputs": [
    {
     "name": "stdout",
     "output_type": "stream",
     "text": [
      "###### Lasso ######\n",
      "alpha 0.07일 때, 폴드세트의 평균 RMSE:5.612\n",
      "alpha 0.1일 때, 폴드세트의 평균 RMSE:5.615\n",
      "alpha 0.5일 때, 폴드세트의 평균 RMSE:5.669\n",
      "alpha 1일 때, 폴드세트의 평균 RMSE:5.776\n",
      "alpha 3일 때, 폴드세트의 평균 RMSE:6.189\n"
     ]
    },
    {
     "data": {
      "text/html": [
       "<div>\n",
       "<style scoped>\n",
       "    .dataframe tbody tr th:only-of-type {\n",
       "        vertical-align: middle;\n",
       "    }\n",
       "\n",
       "    .dataframe tbody tr th {\n",
       "        vertical-align: top;\n",
       "    }\n",
       "\n",
       "    .dataframe thead th {\n",
       "        text-align: right;\n",
       "    }\n",
       "</style>\n",
       "<table border=\"1\" class=\"dataframe\">\n",
       "  <thead>\n",
       "    <tr style=\"text-align: right;\">\n",
       "      <th></th>\n",
       "      <th>alpha:0.07</th>\n",
       "      <th>alpha:0.1</th>\n",
       "      <th>alpha:0.5</th>\n",
       "      <th>alpha:1</th>\n",
       "      <th>alpha:3</th>\n",
       "    </tr>\n",
       "  </thead>\n",
       "  <tbody>\n",
       "    <tr>\n",
       "      <th>RM</th>\n",
       "      <td>3.789725</td>\n",
       "      <td>3.703202</td>\n",
       "      <td>2.498212</td>\n",
       "      <td>0.949811</td>\n",
       "      <td>0.000000</td>\n",
       "    </tr>\n",
       "    <tr>\n",
       "      <th>CHAS</th>\n",
       "      <td>1.434343</td>\n",
       "      <td>0.955190</td>\n",
       "      <td>0.000000</td>\n",
       "      <td>0.000000</td>\n",
       "      <td>0.000000</td>\n",
       "    </tr>\n",
       "    <tr>\n",
       "      <th>RAD</th>\n",
       "      <td>0.270936</td>\n",
       "      <td>0.274707</td>\n",
       "      <td>0.277451</td>\n",
       "      <td>0.264206</td>\n",
       "      <td>0.061864</td>\n",
       "    </tr>\n",
       "    <tr>\n",
       "      <th>ZN</th>\n",
       "      <td>0.049059</td>\n",
       "      <td>0.049211</td>\n",
       "      <td>0.049544</td>\n",
       "      <td>0.049165</td>\n",
       "      <td>0.037231</td>\n",
       "    </tr>\n",
       "    <tr>\n",
       "      <th>B</th>\n",
       "      <td>0.010248</td>\n",
       "      <td>0.010249</td>\n",
       "      <td>0.009469</td>\n",
       "      <td>0.008247</td>\n",
       "      <td>0.006510</td>\n",
       "    </tr>\n",
       "    <tr>\n",
       "      <th>NOX</th>\n",
       "      <td>-0.000000</td>\n",
       "      <td>-0.000000</td>\n",
       "      <td>-0.000000</td>\n",
       "      <td>-0.000000</td>\n",
       "      <td>0.000000</td>\n",
       "    </tr>\n",
       "    <tr>\n",
       "      <th>AGE</th>\n",
       "      <td>-0.011706</td>\n",
       "      <td>-0.010037</td>\n",
       "      <td>0.003604</td>\n",
       "      <td>0.020910</td>\n",
       "      <td>0.042495</td>\n",
       "    </tr>\n",
       "    <tr>\n",
       "      <th>TAX</th>\n",
       "      <td>-0.014290</td>\n",
       "      <td>-0.014570</td>\n",
       "      <td>-0.015442</td>\n",
       "      <td>-0.015212</td>\n",
       "      <td>-0.008602</td>\n",
       "    </tr>\n",
       "    <tr>\n",
       "      <th>INDUS</th>\n",
       "      <td>-0.042120</td>\n",
       "      <td>-0.036619</td>\n",
       "      <td>-0.005253</td>\n",
       "      <td>-0.000000</td>\n",
       "      <td>-0.000000</td>\n",
       "    </tr>\n",
       "    <tr>\n",
       "      <th>CRIM</th>\n",
       "      <td>-0.098193</td>\n",
       "      <td>-0.097894</td>\n",
       "      <td>-0.083289</td>\n",
       "      <td>-0.063437</td>\n",
       "      <td>-0.000000</td>\n",
       "    </tr>\n",
       "    <tr>\n",
       "      <th>LSTAT</th>\n",
       "      <td>-0.560431</td>\n",
       "      <td>-0.568769</td>\n",
       "      <td>-0.656290</td>\n",
       "      <td>-0.761115</td>\n",
       "      <td>-0.807679</td>\n",
       "    </tr>\n",
       "    <tr>\n",
       "      <th>PTRATIO</th>\n",
       "      <td>-0.765107</td>\n",
       "      <td>-0.770654</td>\n",
       "      <td>-0.758752</td>\n",
       "      <td>-0.722966</td>\n",
       "      <td>-0.265072</td>\n",
       "    </tr>\n",
       "    <tr>\n",
       "      <th>DIS</th>\n",
       "      <td>-1.176583</td>\n",
       "      <td>-1.160538</td>\n",
       "      <td>-0.936605</td>\n",
       "      <td>-0.668790</td>\n",
       "      <td>-0.000000</td>\n",
       "    </tr>\n",
       "  </tbody>\n",
       "</table>\n",
       "</div>"
      ],
      "text/plain": [
       "         alpha:0.07  alpha:0.1  alpha:0.5   alpha:1   alpha:3\n",
       "RM         3.789725   3.703202   2.498212  0.949811  0.000000\n",
       "CHAS       1.434343   0.955190   0.000000  0.000000  0.000000\n",
       "RAD        0.270936   0.274707   0.277451  0.264206  0.061864\n",
       "ZN         0.049059   0.049211   0.049544  0.049165  0.037231\n",
       "B          0.010248   0.010249   0.009469  0.008247  0.006510\n",
       "NOX       -0.000000  -0.000000  -0.000000 -0.000000  0.000000\n",
       "AGE       -0.011706  -0.010037   0.003604  0.020910  0.042495\n",
       "TAX       -0.014290  -0.014570  -0.015442 -0.015212 -0.008602\n",
       "INDUS     -0.042120  -0.036619  -0.005253 -0.000000 -0.000000\n",
       "CRIM      -0.098193  -0.097894  -0.083289 -0.063437 -0.000000\n",
       "LSTAT     -0.560431  -0.568769  -0.656290 -0.761115 -0.807679\n",
       "PTRATIO   -0.765107  -0.770654  -0.758752 -0.722966 -0.265072\n",
       "DIS       -1.176583  -1.160538  -0.936605 -0.668790 -0.000000"
      ]
     },
     "execution_count": 109,
     "metadata": {
      "tags": []
     },
     "output_type": "execute_result"
    }
   ],
   "source": [
    "# 알파값 변화에 따른 라쏘 모델의 회귀계수 변화\n",
    "import warnings\n",
    "warnings.filterwarnings('ignore')\n",
    "\n",
    "lasso_alphas=[0.07,0.1,0.5,1,3]\n",
    "coeff_lasso_df=get_linear_reg_eval('Lasso',params=lasso_alphas,X_data_n=boston.data,\n",
    "                             y_target_n=boston.target)\n",
    "coeff_lasso_df.sort_values(by='alpha:'+str(lasso_alphas[0]),ascending=False)"
   ]
  },
  {
   "cell_type": "markdown",
   "metadata": {
    "id": "Eg3jO4Tur-Xa"
   },
   "source": [
    "**알파값 변화에 따른 엘라스틱넷 모델의 회귀계수 변화**"
   ]
  },
  {
   "cell_type": "code",
   "execution_count": null,
   "metadata": {
    "colab": {
     "base_uri": "https://localhost:8080/",
     "height": 554
    },
    "executionInfo": {
     "elapsed": 1085,
     "status": "ok",
     "timestamp": 1618308860769,
     "user": {
      "displayName": "작은빗방울",
      "photoUrl": "",
      "userId": "04277491561705901693"
     },
     "user_tz": -540
    },
    "id": "hNBgu2QVr_uN",
    "outputId": "c5f449b7-b4c8-44bf-d3cc-22877c5d6d7d"
   },
   "outputs": [
    {
     "name": "stdout",
     "output_type": "stream",
     "text": [
      "###### ElasticNet ######\n",
      "alpha 0.07일 때, 폴드세트의 평균 RMSE:5.542\n",
      "alpha 0.1일 때, 폴드세트의 평균 RMSE:5.526\n",
      "alpha 0.5일 때, 폴드세트의 평균 RMSE:5.467\n",
      "alpha 1일 때, 폴드세트의 평균 RMSE:5.597\n",
      "alpha 3일 때, 폴드세트의 평균 RMSE:6.068\n"
     ]
    },
    {
     "data": {
      "text/html": [
       "<div>\n",
       "<style scoped>\n",
       "    .dataframe tbody tr th:only-of-type {\n",
       "        vertical-align: middle;\n",
       "    }\n",
       "\n",
       "    .dataframe tbody tr th {\n",
       "        vertical-align: top;\n",
       "    }\n",
       "\n",
       "    .dataframe thead th {\n",
       "        text-align: right;\n",
       "    }\n",
       "</style>\n",
       "<table border=\"1\" class=\"dataframe\">\n",
       "  <thead>\n",
       "    <tr style=\"text-align: right;\">\n",
       "      <th></th>\n",
       "      <th>alpha:0.07</th>\n",
       "      <th>alpha:0.1</th>\n",
       "      <th>alpha:0.5</th>\n",
       "      <th>alpha:1</th>\n",
       "      <th>alpha:3</th>\n",
       "    </tr>\n",
       "  </thead>\n",
       "  <tbody>\n",
       "    <tr>\n",
       "      <th>RM</th>\n",
       "      <td>3.574162</td>\n",
       "      <td>3.414154</td>\n",
       "      <td>1.918419</td>\n",
       "      <td>0.938789</td>\n",
       "      <td>0.000000</td>\n",
       "    </tr>\n",
       "    <tr>\n",
       "      <th>CHAS</th>\n",
       "      <td>1.330724</td>\n",
       "      <td>0.979706</td>\n",
       "      <td>0.000000</td>\n",
       "      <td>0.000000</td>\n",
       "      <td>0.000000</td>\n",
       "    </tr>\n",
       "    <tr>\n",
       "      <th>RAD</th>\n",
       "      <td>0.278880</td>\n",
       "      <td>0.283443</td>\n",
       "      <td>0.300761</td>\n",
       "      <td>0.289299</td>\n",
       "      <td>0.146846</td>\n",
       "    </tr>\n",
       "    <tr>\n",
       "      <th>ZN</th>\n",
       "      <td>0.050107</td>\n",
       "      <td>0.050617</td>\n",
       "      <td>0.052878</td>\n",
       "      <td>0.052136</td>\n",
       "      <td>0.038268</td>\n",
       "    </tr>\n",
       "    <tr>\n",
       "      <th>B</th>\n",
       "      <td>0.010122</td>\n",
       "      <td>0.010067</td>\n",
       "      <td>0.009114</td>\n",
       "      <td>0.008320</td>\n",
       "      <td>0.007020</td>\n",
       "    </tr>\n",
       "    <tr>\n",
       "      <th>AGE</th>\n",
       "      <td>-0.010116</td>\n",
       "      <td>-0.008276</td>\n",
       "      <td>0.007760</td>\n",
       "      <td>0.020348</td>\n",
       "      <td>0.043446</td>\n",
       "    </tr>\n",
       "    <tr>\n",
       "      <th>TAX</th>\n",
       "      <td>-0.014522</td>\n",
       "      <td>-0.014814</td>\n",
       "      <td>-0.016046</td>\n",
       "      <td>-0.016218</td>\n",
       "      <td>-0.011417</td>\n",
       "    </tr>\n",
       "    <tr>\n",
       "      <th>INDUS</th>\n",
       "      <td>-0.044855</td>\n",
       "      <td>-0.042719</td>\n",
       "      <td>-0.023252</td>\n",
       "      <td>-0.000000</td>\n",
       "      <td>-0.000000</td>\n",
       "    </tr>\n",
       "    <tr>\n",
       "      <th>CRIM</th>\n",
       "      <td>-0.099468</td>\n",
       "      <td>-0.099213</td>\n",
       "      <td>-0.089070</td>\n",
       "      <td>-0.073577</td>\n",
       "      <td>-0.019058</td>\n",
       "    </tr>\n",
       "    <tr>\n",
       "      <th>NOX</th>\n",
       "      <td>-0.175072</td>\n",
       "      <td>-0.000000</td>\n",
       "      <td>-0.000000</td>\n",
       "      <td>-0.000000</td>\n",
       "      <td>-0.000000</td>\n",
       "    </tr>\n",
       "    <tr>\n",
       "      <th>LSTAT</th>\n",
       "      <td>-0.574822</td>\n",
       "      <td>-0.587702</td>\n",
       "      <td>-0.693861</td>\n",
       "      <td>-0.760457</td>\n",
       "      <td>-0.800368</td>\n",
       "    </tr>\n",
       "    <tr>\n",
       "      <th>PTRATIO</th>\n",
       "      <td>-0.779498</td>\n",
       "      <td>-0.784725</td>\n",
       "      <td>-0.790969</td>\n",
       "      <td>-0.738672</td>\n",
       "      <td>-0.423065</td>\n",
       "    </tr>\n",
       "    <tr>\n",
       "      <th>DIS</th>\n",
       "      <td>-1.189438</td>\n",
       "      <td>-1.173647</td>\n",
       "      <td>-0.975902</td>\n",
       "      <td>-0.725174</td>\n",
       "      <td>-0.031208</td>\n",
       "    </tr>\n",
       "  </tbody>\n",
       "</table>\n",
       "</div>"
      ],
      "text/plain": [
       "         alpha:0.07  alpha:0.1  alpha:0.5   alpha:1   alpha:3\n",
       "RM         3.574162   3.414154   1.918419  0.938789  0.000000\n",
       "CHAS       1.330724   0.979706   0.000000  0.000000  0.000000\n",
       "RAD        0.278880   0.283443   0.300761  0.289299  0.146846\n",
       "ZN         0.050107   0.050617   0.052878  0.052136  0.038268\n",
       "B          0.010122   0.010067   0.009114  0.008320  0.007020\n",
       "AGE       -0.010116  -0.008276   0.007760  0.020348  0.043446\n",
       "TAX       -0.014522  -0.014814  -0.016046 -0.016218 -0.011417\n",
       "INDUS     -0.044855  -0.042719  -0.023252 -0.000000 -0.000000\n",
       "CRIM      -0.099468  -0.099213  -0.089070 -0.073577 -0.019058\n",
       "NOX       -0.175072  -0.000000  -0.000000 -0.000000 -0.000000\n",
       "LSTAT     -0.574822  -0.587702  -0.693861 -0.760457 -0.800368\n",
       "PTRATIO   -0.779498  -0.784725  -0.790969 -0.738672 -0.423065\n",
       "DIS       -1.189438  -1.173647  -0.975902 -0.725174 -0.031208"
      ]
     },
     "execution_count": 12,
     "metadata": {
      "tags": []
     },
     "output_type": "execute_result"
    }
   ],
   "source": [
    "# 알파값 변화에 따른 엘라스틱넷 모델의 회귀계수 변화\n",
    "elastic_alphas=[0.07,0.1,0.5,1,3]\n",
    "coeff_elastic_df=get_linear_reg_eval('ElasticNet',params=elastic_alphas,\n",
    "                                     X_data_n=boston.data, y_target_n=boston.target)\n",
    "coeff_elastic_df.sort_values(by='alpha:'+str(elastic_alphas[0]),ascending=False)"
   ]
  },
  {
   "cell_type": "code",
   "execution_count": null,
   "metadata": {
    "colab": {
     "base_uri": "https://localhost:8080/"
    },
    "executionInfo": {
     "elapsed": 1665,
     "status": "ok",
     "timestamp": 1618310838336,
     "user": {
      "displayName": "작은빗방울",
      "photoUrl": "",
      "userId": "04277491561705901693"
     },
     "user_tz": -540
    },
    "id": "TrKqUj4nuQnU",
    "outputId": "cb74b2c4-0ca7-4eab-e885-afdc2e1aa312"
   },
   "outputs": [
    {
     "name": "stdout",
     "output_type": "stream",
     "text": [
      "{'alpha': 0.4, 'l1_ratio': 0.07} \n",
      " 5.432\n"
     ]
    }
   ],
   "source": [
    "# 엘라스틱넷에 GridSearchCV 적용하여 최적의 파라미터 찾기!\n",
    "from sklearn.model_selection import GridSearchCV\n",
    "\n",
    "el_reg=ElasticNet()\n",
    "d_params={'alpha':[0.1,0.4,0.45,0.5,0.55,0.6,1,3],'l1_ratio':[0.07,0.1,0.2,0.4,0.5,0.7]}\n",
    "\n",
    "grid_el=GridSearchCV(el_reg,param_grid=d_params,scoring='neg_mean_squared_error',cv=10)\n",
    "grid_el.fit(boston.data,boston.target)\n",
    "print(grid_el.best_params_,'\\n',round(np.sqrt(-1*grid_el.best_score_),3))"
   ]
  },
  {
   "cell_type": "markdown",
   "metadata": {
    "id": "tu003l_st_jg"
   },
   "source": [
    "### 선형 회귀 모델을 위한  데이터 변환"
   ]
  },
  {
   "cell_type": "code",
   "execution_count": null,
   "metadata": {
    "colab": {
     "base_uri": "https://localhost:8080/",
     "height": 335
    },
    "executionInfo": {
     "elapsed": 913,
     "status": "ok",
     "timestamp": 1618230279802,
     "user": {
      "displayName": "작은빗방울",
      "photoUrl": "",
      "userId": "04277491561705901693"
     },
     "user_tz": -540
    },
    "id": "17HCVuRltEAm",
    "outputId": "7f55110a-a1dc-4f9b-d816-16fba49689b2"
   },
   "outputs": [
    {
     "name": "stdout",
     "output_type": "stream",
     "text": [
      "(506,)\n"
     ]
    },
    {
     "data": {
      "text/plain": [
       "(array([ 21.,  55.,  82., 154.,  84.,  41.,  30.,   8.,  10.,  21.]),\n",
       " array([ 5. ,  9.5, 14. , 18.5, 23. , 27.5, 32. , 36.5, 41. , 45.5, 50. ]),\n",
       " <a list of 10 Patch objects>)"
      ]
     },
     "execution_count": 111,
     "metadata": {
      "tags": []
     },
     "output_type": "execute_result"
    },
    {
     "data": {
      "image/png": "[encoded data removed]",
      "text/plain": [
       "<Figure size 432x288 with 1 Axes>"
      ]
     },
     "metadata": {
      "needs_background": "light",
      "tags": []
     },
     "output_type": "display_data"
    }
   ],
   "source": [
    "print(boston.target.shape)\n",
    "plt.hist(boston.target,bins=10)\n",
    "# 타겟값은 비교적 정규분포를 그리고 있으므로 피처데이터셋만 작업하겠음"
   ]
  },
  {
   "cell_type": "code",
   "execution_count": null,
   "metadata": {
    "id": "sHtRMEGduUow"
   },
   "outputs": [],
   "source": [
    "from sklearn.preprocessing import StandardScaler,MinMaxScaler,PolynomialFeatures\n",
    "import numpy as np\n",
    "\n",
    "def get_scaled_data(method='None',p_degree=None, input_data=None):\n",
    "  if method=='Standard':\n",
    "    scaled_data=StandardScaler().fit_transform(input_data)\n",
    "  elif method=='MinMax':\n",
    "    scaled_data=MinMaxScaler().fit_transform(input_data)\n",
    "  elif method=='Log':\n",
    "    scaled_data=np.log1p(input_data)\n",
    "  else: scaled_data=input_data\n",
    "\n",
    "  # 위에서 일차적으로 스케일링을 한 후, 스케일링한 데이터를 다항회귀식으로 변환\n",
    "  if p_degree!=None:\n",
    "    scaled_data=PolynomialFeatures(degree=p_degree,include_bias=False).fit_transform(scaled_data)\n",
    "\n",
    "  return scaled_data"
   ]
  },
  {
   "cell_type": "code",
   "execution_count": null,
   "metadata": {
    "colab": {
     "base_uri": "https://localhost:8080/"
    },
    "executionInfo": {
     "elapsed": 1289,
     "status": "ok",
     "timestamp": 1618308281914,
     "user": {
      "displayName": "작은빗방울",
      "photoUrl": "",
      "userId": "04277491561705901693"
     },
     "user_tz": -540
    },
    "id": "kb5S1huJxYc1",
    "outputId": "f015a070-ec89-468c-fa01-06e5a8ca8797"
   },
   "outputs": [
    {
     "name": "stdout",
     "output_type": "stream",
     "text": [
      "\n",
      "## 변환 유형:None, Polynomial Degree:None\n",
      "alpha 0.1일 때, 폴드세트의 평균 RMSE:5.788\n",
      "alpha 1일 때, 폴드세트의 평균 RMSE:5.653\n",
      "alpha 10일 때, 폴드세트의 평균 RMSE:5.518\n",
      "alpha 100일 때, 폴드세트의 평균 RMSE:5.330\n",
      "\n",
      "## 변환 유형:Standard, Polynomial Degree:None\n",
      "alpha 0.1일 때, 폴드세트의 평균 RMSE:5.826\n",
      "alpha 1일 때, 폴드세트의 평균 RMSE:5.803\n",
      "alpha 10일 때, 폴드세트의 평균 RMSE:5.637\n",
      "alpha 100일 때, 폴드세트의 평균 RMSE:5.421\n",
      "\n",
      "## 변환 유형:Standard, Polynomial Degree:2\n",
      "alpha 0.1일 때, 폴드세트의 평균 RMSE:8.827\n",
      "alpha 1일 때, 폴드세트의 평균 RMSE:6.871\n",
      "alpha 10일 때, 폴드세트의 평균 RMSE:5.485\n",
      "alpha 100일 때, 폴드세트의 평균 RMSE:4.634\n",
      "\n",
      "## 변환 유형:MinMax, Polynomial Degree:None\n",
      "alpha 0.1일 때, 폴드세트의 평균 RMSE:5.764\n",
      "alpha 1일 때, 폴드세트의 평균 RMSE:5.465\n",
      "alpha 10일 때, 폴드세트의 평균 RMSE:5.754\n",
      "alpha 100일 때, 폴드세트의 평균 RMSE:7.635\n",
      "\n",
      "## 변환 유형:MinMax, Polynomial Degree:2\n",
      "alpha 0.1일 때, 폴드세트의 평균 RMSE:5.298\n",
      "alpha 1일 때, 폴드세트의 평균 RMSE:4.323\n",
      "alpha 10일 때, 폴드세트의 평균 RMSE:5.185\n",
      "alpha 100일 때, 폴드세트의 평균 RMSE:6.538\n",
      "\n",
      "## 변환 유형:Log, Polynomial Degree:None\n",
      "alpha 0.1일 때, 폴드세트의 평균 RMSE:4.770\n",
      "alpha 1일 때, 폴드세트의 평균 RMSE:4.676\n",
      "alpha 10일 때, 폴드세트의 평균 RMSE:4.836\n",
      "alpha 100일 때, 폴드세트의 평균 RMSE:6.241\n"
     ]
    }
   ],
   "source": [
    "# 변환 유형에 따른 평균 RMSE값의 변화\n",
    "alphas=[0.1,1,10,100]\n",
    "\n",
    "scale_methods=[(None,None),('Standard',None),('Standard',2),('MinMax',None),\n",
    "               ('MinMax',2),('Log',None)]\n",
    "\n",
    "for method in scale_methods:\n",
    "  X_data_scaled=get_scaled_data(method=method[0],p_degree=method[1],\n",
    "                                input_data=boston.data)\n",
    "  print(f'\\n## 변환 유형:{method[0]}, Polynomial Degree:{method[1]}')\n",
    "\n",
    "  a=get_linear_reg_eval('Ridge',params=alphas,X_data_n=X_data_scaled,\n",
    "                      y_target_n=boston.target,verbose=False)"
   ]
  },
  {
   "cell_type": "code",
   "execution_count": null,
   "metadata": {
    "id": "jwuqkVOYANju"
   },
   "outputs": [],
   "source": [
    "from sklearn.linear_model import Ridge,Lasso,ElasticNet\n",
    "def get_linear_reg_eval2(model_name, params=None, X_data_n=None, \n",
    "                        y_target_n=None, verbose=True):\n",
    "  coeff_df=pd.DataFrame()\n",
    "  if verbose: print('######',model_name,'######')\n",
    "  for param in params:\n",
    "    if model_name=='Ridge': model=Ridge(alpha=param)\n",
    "    elif model_name=='Lasso': model=Lasso(alpha=param)\n",
    "    elif model_name=='ElasticNet': model=ElasticNet(alpha=param,l1_ratio=0.7)\n",
    "    \n",
    "    # cross_val_score는 evaluation metrcs만 반환하기에 모델을 다시 학습하여 회귀계수 추출\n",
    "    ## fit을 X_data_n로 하면 문제 생기는 이유가 2차 다항식 변환할 경우,\n",
    "    ## 회귀계수가 104개로 늘어나 pd.Series()에서 지정한 컬럼(13개)와 맞지 않음!!\n",
    "    model.fit(X_data_n,y_target_n)\n",
    "\n",
    "    # 시리즈에서 index 지정X (오류방지)\n",
    "    coeff=pd.Series(data=model.coef_)\n",
    "    colname='alpha:'+str(param)\n",
    "    coeff_df[colname]=coeff\n",
    "\n",
    "  return coeff_df"
   ]
  },
  {
   "cell_type": "code",
   "execution_count": null,
   "metadata": {
    "colab": {
     "base_uri": "https://localhost:8080/"
    },
    "executionInfo": {
     "elapsed": 803,
     "status": "ok",
     "timestamp": 1618230593926,
     "user": {
      "displayName": "작은빗방울",
      "photoUrl": "",
      "userId": "04277491561705901693"
     },
     "user_tz": -540
    },
    "id": "gWGq9rWnB9jz",
    "outputId": "e6f3a35a-38db-4685-dd18-4ddfad1aa814"
   },
   "outputs": [
    {
     "name": "stdout",
     "output_type": "stream",
     "text": [
      "\n",
      "## 변환 유형:None, Polynomial Degree:None\n",
      "    alpha:0.1    alpha:1  alpha:10  alpha:100\n",
      "0   -0.107474  -0.104595 -0.101435  -0.102202\n",
      "1    0.046572   0.047443  0.049579   0.054496\n",
      "2    0.015999  -0.008805 -0.042962  -0.052826\n",
      "3    2.670019   2.552393  1.952021   0.638335\n",
      "4  -16.684645 -10.777015 -2.371619  -0.262847\n",
      "5    3.818233   3.854000  3.702272   2.334536\n",
      "6   -0.000269  -0.005415 -0.010707   0.001212\n",
      "7   -1.459626  -1.372654 -1.248808  -1.153390\n",
      "8    0.303515   0.290142  0.279596   0.315358\n",
      "9   -0.012421  -0.012912 -0.013993  -0.015856\n",
      "10  -0.940759  -0.876074 -0.797945  -0.829218\n",
      "11   0.009368   0.009673  0.010037   0.009393\n",
      "12  -0.525966  -0.533343 -0.559366  -0.660764\n",
      "\n",
      "## 변환 유형:Standard, Polynomial Degree:None\n",
      "    alpha:0.1   alpha:1  alpha:10  alpha:100\n",
      "0   -0.927301 -0.919871 -0.859051  -0.652004\n",
      "1    1.080027  1.066461  0.954975   0.578885\n",
      "2    0.138479  0.117385 -0.041327  -0.402318\n",
      "3    0.682089  0.685127  0.707780   0.739944\n",
      "4   -2.053909 -2.029010 -1.812611  -0.925045\n",
      "5    2.675104  2.682754  2.742344   2.777933\n",
      "6    0.018821  0.013158 -0.032383  -0.172802\n",
      "7   -3.101353 -3.077340 -2.856756  -1.688537\n",
      "8    2.654964  2.591538  2.097823   0.699906\n",
      "9   -2.069961 -2.010558 -1.565395  -0.608373\n",
      "10  -2.059773 -2.052385 -1.987751  -1.661424\n",
      "11   0.849227  0.848848  0.844709   0.778625\n",
      "12  -3.742319 -3.730666 -3.623942  -2.961415\n",
      "\n",
      "## 변환 유형:Standard, Polynomial Degree:2\n",
      "     alpha:0.1   alpha:1  alpha:10  alpha:100\n",
      "0     1.105842  0.426768 -0.090759  -0.170930\n",
      "1    -1.147818 -0.502793 -0.032059   0.084140\n",
      "2     2.922818  1.742094  0.177456  -0.293498\n",
      "3     0.147163  0.141585  0.106653   0.085448\n",
      "4    -1.869141 -1.618539 -1.093114  -0.536794\n",
      "..         ...       ...       ...        ...\n",
      "99    0.346363  0.215750  0.116181  -0.055762\n",
      "100   0.095276  0.124915  0.029160  -0.015866\n",
      "101  -0.308042 -0.309224 -0.358512  -0.341647\n",
      "102  -0.279348 -0.274523 -0.377169  -0.466333\n",
      "103   0.679358  0.683822  0.790668   0.523261\n",
      "\n",
      "[104 rows x 4 columns]\n",
      "\n",
      "## 변환 유형:MinMax, Polynomial Degree:None\n",
      "    alpha:0.1    alpha:1   alpha:10  alpha:100\n",
      "0   -9.237636  -6.921322  -2.490397  -0.725526\n",
      "1    4.534399   3.814397   2.307180   1.428063\n",
      "2    0.460168  -0.271238  -2.308171  -1.919370\n",
      "3    2.711592   2.888588   3.251237   1.466221\n",
      "4   -8.431588  -7.001142  -3.068143  -1.444301\n",
      "5   19.760562  18.672241  12.010241   2.998631\n",
      "6    0.069628   0.052251  -0.649183  -1.393080\n",
      "7  -15.875517 -13.370594  -5.411458  -0.108508\n",
      "8    6.859049   5.624727   1.849343  -1.295021\n",
      "9   -6.314470  -5.310455  -3.028429  -2.080179\n",
      "10  -8.933345  -8.751793  -7.312209  -2.842744\n",
      "11   3.699626   3.718253   3.236975   1.463157\n",
      "12 -18.976299 -18.482351 -13.254800  -3.866451\n",
      "\n",
      "## 변환 유형:MinMax, Polynomial Degree:2\n",
      "     alpha:0.1    alpha:1  alpha:10  alpha:100\n",
      "0    -3.841763  -1.664663 -0.909213  -0.315294\n",
      "1    -5.560337  -1.645272  0.622240   0.630850\n",
      "2    -6.185677  -0.778202 -0.612300  -0.630172\n",
      "3     5.510630   0.614843  0.362950   0.582251\n",
      "4     6.639457   0.904021 -0.870203  -0.473237\n",
      "..         ...        ...       ...        ...\n",
      "99   -0.591574  -1.720400 -1.581774  -0.893841\n",
      "100   2.431011  -0.376379 -2.175966  -1.499584\n",
      "101  -1.213064  -0.408701  0.597062   0.761283\n",
      "102  -8.506021  -6.233714 -4.215402  -1.722442\n",
      "103  24.990351  12.364728  0.725067  -1.128565\n",
      "\n",
      "[104 rows x 4 columns]\n",
      "\n",
      "## 변환 유형:Log, Polynomial Degree:None\n",
      "    alpha:0.1    alpha:1   alpha:10  alpha:100\n",
      "0   -1.296691  -1.442582  -1.380538  -1.171898\n",
      "1    0.128030   0.220103   0.381591   0.563000\n",
      "2   -1.066109  -1.457843  -1.784708  -1.550747\n",
      "3    3.572495   3.485729   2.883550   1.014620\n",
      "4  -23.517743  -8.891680  -0.773088  -0.055273\n",
      "5   15.310936  11.969733   4.720935   1.319014\n",
      "6    0.555070   0.509511   0.799403   0.192562\n",
      "7   -8.395087  -7.407767  -5.731318  -1.676037\n",
      "8    3.275440   3.125647   2.298445   0.528455\n",
      "9   -3.615267  -3.862674  -3.035279  -1.108379\n",
      "10 -14.455055 -11.092651  -4.819869  -1.083016\n",
      "11   0.921100   0.880218   0.841102   0.893086\n",
      "12 -10.483541 -11.081652 -11.334441  -6.339825\n"
     ]
    }
   ],
   "source": [
    "## 2차 다항 회귀로 변환할 때, 다항계수가 104개로 늘어남!\n",
    "## => 위 함수에서 coeff시리즈의 인덱스이름을 지정하면 오류 발생함!\n",
    "alphas=[0.1,1,10,100]\n",
    "\n",
    "scale_methods=[(None,None),('Standard',None),('Standard',2),('MinMax',None),\n",
    "               ('MinMax',2),('Log',None)]\n",
    "\n",
    "for method in scale_methods:\n",
    "  X_data_scaled=get_scaled_data(method=method[0],p_degree=method[1],\n",
    "                                input_data=boston.data)\n",
    "  print(f'\\n## 변환 유형:{method[0]}, Polynomial Degree:{method[1]}')\n",
    "\n",
    "  ## degree가 2일 때, 104개의 회귀계수 확인 가능!! \n",
    "  a= get_linear_reg_eval2('Ridge',params=alphas,X_data_n=X_data_scaled,\n",
    "                      y_target_n=boston.target,verbose=False)\n",
    "  print(a)"
   ]
  },
  {
   "cell_type": "markdown",
   "metadata": {
    "id": "6dqH348qHkZo"
   },
   "source": [
    "##5.7 로지스틱 회귀"
   ]
  },
  {
   "cell_type": "code",
   "execution_count": null,
   "metadata": {
    "colab": {
     "base_uri": "https://localhost:8080/"
    },
    "executionInfo": {
     "elapsed": 1166,
     "status": "ok",
     "timestamp": 1618387601339,
     "user": {
      "displayName": "작은빗방울",
      "photoUrl": "",
      "userId": "04277491561705901693"
     },
     "user_tz": -540
    },
    "id": "ACnix5XLIlqj",
    "outputId": "14afe186-d82e-4a4c-af79-0c920abe4ac4"
   },
   "outputs": [
    {
     "name": "stdout",
     "output_type": "stream",
     "text": [
      "accuracy:0.977\n",
      "roc_auc:0.972\n"
     ]
    }
   ],
   "source": [
    "import pandas as pd\n",
    "import matplotlib.pyplot as plt\n",
    "from sklearn.datasets import load_breast_cancer\n",
    "from sklearn.linear_model import LogisticRegression\n",
    "from sklearn.preprocessing import StandardScaler\n",
    "from sklearn.model_selection import train_test_split\n",
    "from sklearn.metrics import accuracy_score,roc_auc_score\n",
    "\n",
    "cancer=load_breast_cancer()\n",
    "scaler=StandardScaler()\n",
    "data_scaled=scaler.fit_transform(cancer.data)\n",
    "\n",
    "X_train,X_test,y_train,y_test=train_test_split(data_scaled,cancer.target,test_size=0.3,\n",
    "                                               random_state=0)\n",
    "lr_clf=LogisticRegression()\n",
    "lr_clf.fit(X_train,y_train)\n",
    "lr_preds=lr_clf.predict(X_test)\n",
    "\n",
    "print(f'accuracy:{accuracy_score(y_test,lr_preds):.3f}')\n",
    "print(f'roc_auc:{roc_auc_score(y_test,lr_preds):.3f}')"
   ]
  },
  {
   "cell_type": "code",
   "execution_count": null,
   "metadata": {
    "colab": {
     "base_uri": "https://localhost:8080/"
    },
    "executionInfo": {
     "elapsed": 741,
     "status": "ok",
     "timestamp": 1618388246668,
     "user": {
      "displayName": "작은빗방울",
      "photoUrl": "",
      "userId": "04277491561705901693"
     },
     "user_tz": -540
    },
    "id": "Ff5_1DbBxKSV",
    "outputId": "664e47c3-70bc-4514-fbbd-61a64e8eadb7"
   },
   "outputs": [
    {
     "name": "stderr",
     "output_type": "stream",
     "text": [
      "/usr/local/lib/python3.7/dist-packages/sklearn/model_selection/_validation.py:536: FitFailedWarning: Estimator fit failed. The score on this train-test partition for these parameters will be set to nan. Details: \n",
      "ValueError: Solver lbfgs supports only 'l2' or 'none' penalties, got l1 penalty.\n",
      "\n",
      "  FitFailedWarning)\n",
      "/usr/local/lib/python3.7/dist-packages/sklearn/model_selection/_validation.py:536: FitFailedWarning: Estimator fit failed. The score on this train-test partition for these parameters will be set to nan. Details: \n",
      "ValueError: Solver lbfgs supports only 'l2' or 'none' penalties, got l1 penalty.\n",
      "\n",
      "  FitFailedWarning)\n",
      "/usr/local/lib/python3.7/dist-packages/sklearn/model_selection/_validation.py:536: FitFailedWarning: Estimator fit failed. The score on this train-test partition for these parameters will be set to nan. Details: \n",
      "ValueError: Solver lbfgs supports only 'l2' or 'none' penalties, got l1 penalty.\n",
      "\n",
      "  FitFailedWarning)\n",
      "/usr/local/lib/python3.7/dist-packages/sklearn/model_selection/_validation.py:536: FitFailedWarning: Estimator fit failed. The score on this train-test partition for these parameters will be set to nan. Details: \n",
      "ValueError: Solver lbfgs supports only 'l2' or 'none' penalties, got l1 penalty.\n",
      "\n",
      "  FitFailedWarning)\n",
      "/usr/local/lib/python3.7/dist-packages/sklearn/model_selection/_validation.py:536: FitFailedWarning: Estimator fit failed. The score on this train-test partition for these parameters will be set to nan. Details: \n",
      "ValueError: Solver lbfgs supports only 'l2' or 'none' penalties, got l1 penalty.\n",
      "\n",
      "  FitFailedWarning)\n"
     ]
    },
    {
     "name": "stdout",
     "output_type": "stream",
     "text": [
      "최적 하이퍼 파라미터:{'C': 1, 'penalty': 'l2'},최적 평균 정확도:0.975\n"
     ]
    }
   ],
   "source": [
    "from sklearn.model_selection import GridSearchCV\n",
    "\n",
    "params={'penalty':['l1','l2'], 'C':[0.01,0.1,1,5,10]}\n",
    "\n",
    "grid_clf=GridSearchCV(lr_clf,param_grid=params,scoring='accuracy',cv=3)\n",
    "grid_clf.fit(data_scaled,cancer.target)\n",
    "\n",
    "print(f'최적 하이퍼 파라미터:{grid_clf.best_params_},최적 평균 정확도:{grid_clf.best_score_:.3f}')"
   ]
  },
  {
   "cell_type": "markdown",
   "metadata": {
    "id": "IgoIYYRGYS0i"
   },
   "source": [
    "## 5.8 회귀 트리"
   ]
  },
  {
   "cell_type": "code",
   "execution_count": null,
   "metadata": {
    "colab": {
     "base_uri": "https://localhost:8080/"
    },
    "executionInfo": {
     "elapsed": 17752,
     "status": "ok",
     "timestamp": 1618398312192,
     "user": {
      "displayName": "작은빗방울",
      "photoUrl": "",
      "userId": "04277491561705901693"
     },
     "user_tz": -540
    },
    "id": "t8an6i3sYPR-",
    "outputId": "4c3e5463-38ee-4035-a957-525a02da408b"
   },
   "outputs": [
    {
     "name": "stdout",
     "output_type": "stream",
     "text": [
      "5 교차 검증의 Negative MSE scores: [ -7.93 -13.06 -20.53 -46.31 -18.8 ]\n",
      "5 교차 검증의 RMSE scores: [2.82 3.61 4.53 6.8  4.34]\n",
      "5 교차 검증의 평균 RMSE:4.420\n"
     ]
    }
   ],
   "source": [
    "from sklearn.datasets import load_boston\n",
    "from sklearn.model_selection import cross_val_score\n",
    "from sklearn.ensemble import RandomForestRegressor\n",
    "import pandas as pd\n",
    "import numpy as np\n",
    "\n",
    "boston=load_boston()\n",
    "bostonDF=pd.DataFrame(boston.data,columns=boston.feature_names)\n",
    "bostonDF['PRICE']=boston.target\n",
    "y_target=bostonDF['PRICE']\n",
    "X_data=bostonDF.drop(['PRICE'],axis=1,inplace=False)\n",
    "\n",
    "rf=RandomForestRegressor(random_state=0, n_estimators=1000)\n",
    "neg_mse_scores=cross_val_score(rf,X_data,y_target,scoring='neg_mean_squared_error',\n",
    "                               cv=5)\n",
    "rmse_scores=np.sqrt(-1*neg_mse_scores)\n",
    "avg_rmse=np.mean(rmse_scores)\n",
    "\n",
    "print('5 교차 검증의 Negative MSE scores:',np.round(neg_mse_scores,2))\n",
    "print('5 교차 검증의 RMSE scores:',np.round(rmse_scores,2))\n",
    "print(f'5 교차 검증의 평균 RMSE:{avg_rmse:.3f}')"
   ]
  },
  {
   "cell_type": "code",
   "execution_count": null,
   "metadata": {
    "id": "GtiFPotoDh8Z"
   },
   "outputs": [],
   "source": [
    "## 평균 RMSE 반환하는 함수 만들기\n",
    "def get_model_cv_prediction(model,X_data,y_target):\n",
    "  neg_mse_scores=cross_val_score(model,X_data,y_target,\n",
    "                                 scoring='neg_mean_squared_error',cv=5)\n",
    "  rmse_scores=np.sqrt(-1*neg_mse_scores)\n",
    "  avg_rmse=np.mean(rmse_scores)\n",
    "  print('#####',model.__class__.__name__,'#####')\n",
    "  print(f'5 교차 검증의 평균 RMSE:{avg_rmse:.3f}')"
   ]
  },
  {
   "cell_type": "code",
   "execution_count": null,
   "metadata": {
    "colab": {
     "base_uri": "https://localhost:8080/"
    },
    "executionInfo": {
     "elapsed": 28542,
     "status": "ok",
     "timestamp": 1618400381249,
     "user": {
      "displayName": "작은빗방울",
      "photoUrl": "",
      "userId": "04277491561705901693"
     },
     "user_tz": -540
    },
    "id": "YCkWUrgkEl4q",
    "outputId": "6148ef1b-55d2-4f15-8a95-ed89a1a7d643"
   },
   "outputs": [
    {
     "name": "stdout",
     "output_type": "stream",
     "text": [
      "##### DecisionTreeRegressor #####\n",
      "5 교차 검증의 평균 RMSE:5.978\n",
      "##### RandomForestRegressor #####\n",
      "5 교차 검증의 평균 RMSE:4.420\n",
      "##### GradientBoostingRegressor #####\n",
      "5 교차 검증의 평균 RMSE:4.269\n",
      "[11:39:35] WARNING: /workspace/src/objective/regression_obj.cu:152: reg:linear is now deprecated in favor of reg:squarederror.\n",
      "[11:39:35] WARNING: /workspace/src/objective/regression_obj.cu:152: reg:linear is now deprecated in favor of reg:squarederror.\n",
      "[11:39:35] WARNING: /workspace/src/objective/regression_obj.cu:152: reg:linear is now deprecated in favor of reg:squarederror.\n",
      "[11:39:36] WARNING: /workspace/src/objective/regression_obj.cu:152: reg:linear is now deprecated in favor of reg:squarederror.\n",
      "[11:39:36] WARNING: /workspace/src/objective/regression_obj.cu:152: reg:linear is now deprecated in favor of reg:squarederror.\n",
      "##### XGBRegressor #####\n",
      "5 교차 검증의 평균 RMSE:4.089\n",
      "##### LGBMRegressor #####\n",
      "5 교차 검증의 평균 RMSE:4.646\n"
     ]
    }
   ],
   "source": [
    "# 사이킷런의 여러 회귀 트리 클래스를 이용하여 회귀 예측\n",
    "from sklearn.tree import DecisionTreeRegressor\n",
    "from sklearn.ensemble import GradientBoostingRegressor\n",
    "from xgboost import XGBRegressor\n",
    "from lightgbm import LGBMRegressor\n",
    "\n",
    "dt_reg=DecisionTreeRegressor(random_state=0,max_depth=4)\n",
    "rf_reg=RandomForestRegressor(random_state=0,n_estimators=1000)\n",
    "gb_reg=GradientBoostingRegressor(random_state=0,n_estimators=1000)\n",
    "xgb_reg=XGBRegressor(n_estimators=1000)\n",
    "lgb_reg=LGBMRegressor(n_estimators=1000)\n",
    "\n",
    "models=[dt_reg,rf_reg,gb_reg,xgb_reg,lgb_reg]\n",
    "for model in models:\n",
    "  get_model_cv_prediction(model,X_data,y_target)"
   ]
  },
  {
   "cell_type": "code",
   "execution_count": null,
   "metadata": {
    "colab": {
     "base_uri": "https://localhost:8080/",
     "height": 282
    },
    "executionInfo": {
     "elapsed": 4895,
     "status": "ok",
     "timestamp": 1618400659522,
     "user": {
      "displayName": "작은빗방울",
      "photoUrl": "",
      "userId": "04277491561705901693"
     },
     "user_tz": -540
    },
    "id": "yXApawe6LP4J",
    "outputId": "0d2041df-ade2-4112-c87a-06339bb1c3c3"
   },
   "outputs": [
    {
     "data": {
      "text/plain": [
       "<matplotlib.axes._subplots.AxesSubplot at 0x7f4f45d36950>"
      ]
     },
     "execution_count": 6,
     "metadata": {
      "tags": []
     },
     "output_type": "execute_result"
    },
    {
     "data": {
      "image/png": "[encoded data removed]",
      "text/plain": [
       "<Figure size 432x288 with 1 Axes>"
      ]
     },
     "metadata": {
      "needs_background": "light",
      "tags": []
     },
     "output_type": "display_data"
    }
   ],
   "source": [
    "# 회귀트리는 선형 회귀 계수 대신, 피처 중요도로 피처의 상대적 중요도를 알 수 있음!\n",
    "import seaborn as sns\n",
    "\n",
    "rf_reg=RandomForestRegressor(n_estimators=1000)\n",
    "\n",
    "rf_reg.fit(X_data,y_target)\n",
    "\n",
    "feature_series=pd.Series(data=rf_reg.feature_importances_,index=X_data.columns)\n",
    "feature_series=feature_series.sort_values(ascending=False)\n",
    "sns.barplot(x=feature_series,y=feature_series.index)"
   ]
  },
  {
   "cell_type": "code",
   "execution_count": null,
   "metadata": {
    "colab": {
     "base_uri": "https://localhost:8080/",
     "height": 299
    },
    "executionInfo": {
     "elapsed": 756,
     "status": "ok",
     "timestamp": 1618400871900,
     "user": {
      "displayName": "작은빗방울",
      "photoUrl": "",
      "userId": "04277491561705901693"
     },
     "user_tz": -540
    },
    "id": "17sj7R_qMmdi",
    "outputId": "b45b1328-2212-4dc0-b8db-3477d65d3ab4"
   },
   "outputs": [
    {
     "name": "stdout",
     "output_type": "stream",
     "text": [
      "(100, 2)\n"
     ]
    },
    {
     "data": {
      "text/plain": [
       "<matplotlib.collections.PathCollection at 0x7f4f45232310>"
      ]
     },
     "execution_count": 7,
     "metadata": {
      "tags": []
     },
     "output_type": "execute_result"
    },
    {
     "data": {
      "image/png": "[encoded data removed]",
      "text/plain": [
       "<Figure size 432x288 with 1 Axes>"
      ]
     },
     "metadata": {
      "needs_background": "light",
      "tags": []
     },
     "output_type": "display_data"
    }
   ],
   "source": [
    "# 회귀트리의 오버피팅 시각화 (RM피처와 PRICE기반)\n",
    "import matplotlib.pyplot as plt\n",
    "\n",
    "bostonDF_sample=bostonDF[['RM','PRICE']]\n",
    "bostonDF_sample=bostonDF_sample.sample(n=100,random_state=0)\n",
    "print(bostonDF_sample.shape)\n",
    "plt.figure()\n",
    "plt.scatter(bostonDF_sample.RM,bostonDF_sample.PRICE,c='darkorange')"
   ]
  },
  {
   "cell_type": "code",
   "execution_count": null,
   "metadata": {
    "id": "EcJzCj_9NYHt"
   },
   "outputs": [],
   "source": [
    "import numpy as np\n",
    "from sklearn.linear_model import LinearRegression\n",
    "\n",
    "lr_reg=LinearRegression()\n",
    "rf_reg2=DecisionTreeRegressor(max_depth=2)\n",
    "rf_reg7=DecisionTreeRegressor(max_depth=7)\n",
    "\n",
    "X_test=np.arange(4.5,8.5,0.01).reshape(-1,1)\n",
    "\n",
    "X_feature=bostonDF_sample['RM'].values.reshape(-1,1)\n",
    "y_target=bostonDF_sample['PRICE'].values.reshape(-1,1)\n",
    "\n",
    "lr_reg.fit(X_feature,y_target)\n",
    "rf_reg2.fit(X_feature,y_target)\n",
    "rf_reg7.fit(X_feature,y_target)\n",
    "\n",
    "pred_lr=lr_reg.predict(X_test)\n",
    "pred_rf2=rf_reg2.predict(X_test)\n",
    "pred_rf7=rf_reg7.predict(X_test)"
   ]
  },
  {
   "cell_type": "code",
   "execution_count": null,
   "metadata": {
    "colab": {
     "base_uri": "https://localhost:8080/",
     "height": 313
    },
    "executionInfo": {
     "elapsed": 1417,
     "status": "ok",
     "timestamp": 1618401485180,
     "user": {
      "displayName": "작은빗방울",
      "photoUrl": "",
      "userId": "04277491561705901693"
     },
     "user_tz": -540
    },
    "id": "GhiaX2CrOhbP",
    "outputId": "5b0db224-7893-4df6-d3b0-03b5f855fad1"
   },
   "outputs": [
    {
     "data": {
      "text/plain": [
       "[<matplotlib.lines.Line2D at 0x7f4f443e8210>]"
      ]
     },
     "execution_count": 18,
     "metadata": {
      "tags": []
     },
     "output_type": "execute_result"
    },
    {
     "data": {
      "image/png": "[encoded data removed]",
      "text/plain": [
       "<Figure size 1008x288 with 3 Axes>"
      ]
     },
     "metadata": {
      "needs_background": "light",
      "tags": []
     },
     "output_type": "display_data"
    }
   ],
   "source": [
    "fig,(ax1,ax2,ax3)=plt.subplots(figsize=(14,4),ncols=3)\n",
    "\n",
    "ax1.set_title('Linear Regression')\n",
    "ax1.scatter(bostonDF_sample.RM,bostonDF_sample.PRICE,c='darkorange')\n",
    "ax1.plot(X_test,pred_lr,label='linear',linewidth=2)\n",
    "\n",
    "ax2.set_title('Decision Tree Regression: \\n max_depth=2')\n",
    "ax2.scatter(bostonDF_sample.RM,bostonDF_sample.PRICE,c='darkorange')\n",
    "ax2.plot(X_test,pred_rf2,label='max_depth:3',linewidth=2)\n",
    "\n",
    "# 이상치까지 모두 반영해버려 과적합되었음을 보여주고 있음!\n",
    "ax3.set_title('Decision Tree Regression: \\n max_depth=7')\n",
    "ax3.scatter(bostonDF_sample.RM,bostonDF_sample.PRICE,c='darkorange')\n",
    "ax3.plot(X_test,pred_rf7,label='max_depth:7',linewidth=2)"
   ]
  },
  {
   "cell_type": "markdown",
   "metadata": {
    "id": "VnIzPw2DP963"
   },
   "source": [
    "## 5.9 Regression 실습- Bike Sharing Demand"
   ]
  },
  {
   "cell_type": "code",
   "execution_count": null,
   "metadata": {
    "colab": {
     "base_uri": "https://localhost:8080/",
     "height": 281
    },
    "executionInfo": {
     "elapsed": 2194,
     "status": "ok",
     "timestamp": 1618465781891,
     "user": {
      "displayName": "작은빗방울",
      "photoUrl": "",
      "userId": "04277491561705901693"
     },
     "user_tz": -540
    },
    "id": "yoIC-Y3-Plzy",
    "outputId": "92101438-4b17-41f4-93a8-445218060eb3"
   },
   "outputs": [
    {
     "name": "stdout",
     "output_type": "stream",
     "text": [
      "(10886, 12)\n"
     ]
    },
    {
     "data": {
      "text/html": [
       "<div>\n",
       "<style scoped>\n",
       "    .dataframe tbody tr th:only-of-type {\n",
       "        vertical-align: middle;\n",
       "    }\n",
       "\n",
       "    .dataframe tbody tr th {\n",
       "        vertical-align: top;\n",
       "    }\n",
       "\n",
       "    .dataframe thead th {\n",
       "        text-align: right;\n",
       "    }\n",
       "</style>\n",
       "<table border=\"1\" class=\"dataframe\">\n",
       "  <thead>\n",
       "    <tr style=\"text-align: right;\">\n",
       "      <th></th>\n",
       "      <th>datetime</th>\n",
       "      <th>season</th>\n",
       "      <th>holiday</th>\n",
       "      <th>workingday</th>\n",
       "      <th>weather</th>\n",
       "      <th>temp</th>\n",
       "      <th>atemp</th>\n",
       "      <th>humidity</th>\n",
       "      <th>windspeed</th>\n",
       "      <th>casual</th>\n",
       "      <th>registered</th>\n",
       "      <th>count</th>\n",
       "    </tr>\n",
       "  </thead>\n",
       "  <tbody>\n",
       "    <tr>\n",
       "      <th>0</th>\n",
       "      <td>2011-01-01 00:00:00</td>\n",
       "      <td>1</td>\n",
       "      <td>0</td>\n",
       "      <td>0</td>\n",
       "      <td>1</td>\n",
       "      <td>9.84</td>\n",
       "      <td>14.395</td>\n",
       "      <td>81</td>\n",
       "      <td>0.0</td>\n",
       "      <td>3</td>\n",
       "      <td>13</td>\n",
       "      <td>16</td>\n",
       "    </tr>\n",
       "    <tr>\n",
       "      <th>1</th>\n",
       "      <td>2011-01-01 01:00:00</td>\n",
       "      <td>1</td>\n",
       "      <td>0</td>\n",
       "      <td>0</td>\n",
       "      <td>1</td>\n",
       "      <td>9.02</td>\n",
       "      <td>13.635</td>\n",
       "      <td>80</td>\n",
       "      <td>0.0</td>\n",
       "      <td>8</td>\n",
       "      <td>32</td>\n",
       "      <td>40</td>\n",
       "    </tr>\n",
       "    <tr>\n",
       "      <th>2</th>\n",
       "      <td>2011-01-01 02:00:00</td>\n",
       "      <td>1</td>\n",
       "      <td>0</td>\n",
       "      <td>0</td>\n",
       "      <td>1</td>\n",
       "      <td>9.02</td>\n",
       "      <td>13.635</td>\n",
       "      <td>80</td>\n",
       "      <td>0.0</td>\n",
       "      <td>5</td>\n",
       "      <td>27</td>\n",
       "      <td>32</td>\n",
       "    </tr>\n",
       "  </tbody>\n",
       "</table>\n",
       "</div>"
      ],
      "text/plain": [
       "              datetime  season  holiday  ...  casual  registered  count\n",
       "0  2011-01-01 00:00:00       1        0  ...       3          13     16\n",
       "1  2011-01-01 01:00:00       1        0  ...       8          32     40\n",
       "2  2011-01-01 02:00:00       1        0  ...       5          27     32\n",
       "\n",
       "[3 rows x 12 columns]"
      ]
     },
     "execution_count": 2,
     "metadata": {
      "tags": []
     },
     "output_type": "execute_result"
    }
   ],
   "source": [
    "# 데이터 클랜징 및 가공\n",
    "import numpy as np\n",
    "import pandas as pd\n",
    "import seaborn as sns\n",
    "import matplotlib.pyplot as plt\n",
    "\n",
    "import warnings\n",
    "warnings.filterwarnings('ignore',category=RuntimeWarning)\n",
    "\n",
    "bike_df=pd.read_csv('/content/drive/MyDrive/bike_train.csv')\n",
    "print(bike_df.shape)\n",
    "bike_df.head(3)"
   ]
  },
  {
   "cell_type": "code",
   "execution_count": null,
   "metadata": {
    "colab": {
     "base_uri": "https://localhost:8080/"
    },
    "executionInfo": {
     "elapsed": 1972,
     "status": "ok",
     "timestamp": 1618465781895,
     "user": {
      "displayName": "작은빗방울",
      "photoUrl": "",
      "userId": "04277491561705901693"
     },
     "user_tz": -540
    },
    "id": "W2DJzIaPRKpO",
    "outputId": "196178cd-c6c8-46c3-a757-65c5528a33b8"
   },
   "outputs": [
    {
     "name": "stdout",
     "output_type": "stream",
     "text": [
      "<class 'pandas.core.frame.DataFrame'>\n",
      "RangeIndex: 10886 entries, 0 to 10885\n",
      "Data columns (total 12 columns):\n",
      " #   Column      Non-Null Count  Dtype  \n",
      "---  ------      --------------  -----  \n",
      " 0   datetime    10886 non-null  object \n",
      " 1   season      10886 non-null  int64  \n",
      " 2   holiday     10886 non-null  int64  \n",
      " 3   workingday  10886 non-null  int64  \n",
      " 4   weather     10886 non-null  int64  \n",
      " 5   temp        10886 non-null  float64\n",
      " 6   atemp       10886 non-null  float64\n",
      " 7   humidity    10886 non-null  int64  \n",
      " 8   windspeed   10886 non-null  float64\n",
      " 9   casual      10886 non-null  int64  \n",
      " 10  registered  10886 non-null  int64  \n",
      " 11  count       10886 non-null  int64  \n",
      "dtypes: float64(3), int64(8), object(1)\n",
      "memory usage: 1020.7+ KB\n"
     ]
    }
   ],
   "source": [
    "bike_df.info()"
   ]
  },
  {
   "cell_type": "code",
   "execution_count": null,
   "metadata": {
    "colab": {
     "base_uri": "https://localhost:8080/"
    },
    "executionInfo": {
     "elapsed": 3287,
     "status": "ok",
     "timestamp": 1618465783507,
     "user": {
      "displayName": "작은빗방울",
      "photoUrl": "",
      "userId": "04277491561705901693"
     },
     "user_tz": -540
    },
    "id": "b-SIDJ1LR5lB",
    "outputId": "a8ec52d7-f1dc-4f05-ff75-50b64c5bce35"
   },
   "outputs": [
    {
     "name": "stdout",
     "output_type": "stream",
     "text": [
      "<class 'pandas.core.frame.DataFrame'>\n",
      "RangeIndex: 10886 entries, 0 to 10885\n",
      "Data columns (total 12 columns):\n",
      " #   Column      Non-Null Count  Dtype         \n",
      "---  ------      --------------  -----         \n",
      " 0   datetime    10886 non-null  datetime64[ns]\n",
      " 1   season      10886 non-null  int64         \n",
      " 2   holiday     10886 non-null  int64         \n",
      " 3   workingday  10886 non-null  int64         \n",
      " 4   weather     10886 non-null  int64         \n",
      " 5   temp        10886 non-null  float64       \n",
      " 6   atemp       10886 non-null  float64       \n",
      " 7   humidity    10886 non-null  int64         \n",
      " 8   windspeed   10886 non-null  float64       \n",
      " 9   casual      10886 non-null  int64         \n",
      " 10  registered  10886 non-null  int64         \n",
      " 11  count       10886 non-null  int64         \n",
      "dtypes: datetime64[ns](1), float64(3), int64(8)\n",
      "memory usage: 1020.7 KB\n"
     ]
    }
   ],
   "source": [
    "# object형 데이터 타입을 변경해줘야 함.\n",
    "bike_df['datetime']=bike_df['datetime'].apply(pd.to_datetime)\n",
    "bike_df.info()"
   ]
  },
  {
   "cell_type": "code",
   "execution_count": null,
   "metadata": {
    "colab": {
     "base_uri": "https://localhost:8080/"
    },
    "executionInfo": {
     "elapsed": 3163,
     "status": "ok",
     "timestamp": 1618465783509,
     "user": {
      "displayName": "작은빗방울",
      "photoUrl": "",
      "userId": "04277491561705901693"
     },
     "user_tz": -540
    },
    "id": "mNGvwdWASVjZ",
    "outputId": "8e042dd5-a4e6-4728-b60e-c855bf37b7d2"
   },
   "outputs": [
    {
     "name": "stdout",
     "output_type": "stream",
     "text": [
      "<class 'pandas.core.frame.DataFrame'>\n",
      "RangeIndex: 10886 entries, 0 to 10885\n",
      "Data columns (total 13 columns):\n",
      " #   Column      Non-Null Count  Dtype  \n",
      "---  ------      --------------  -----  \n",
      " 0   season      10886 non-null  int64  \n",
      " 1   holiday     10886 non-null  int64  \n",
      " 2   workingday  10886 non-null  int64  \n",
      " 3   weather     10886 non-null  int64  \n",
      " 4   temp        10886 non-null  float64\n",
      " 5   atemp       10886 non-null  float64\n",
      " 6   humidity    10886 non-null  int64  \n",
      " 7   windspeed   10886 non-null  float64\n",
      " 8   count       10886 non-null  int64  \n",
      " 9   year        10886 non-null  int64  \n",
      " 10  month       10886 non-null  int64  \n",
      " 11  day         10886 non-null  int64  \n",
      " 12  hour        10886 non-null  int64  \n",
      "dtypes: float64(3), int64(10)\n",
      "memory usage: 1.1 MB\n"
     ]
    }
   ],
   "source": [
    "# datetime 타입에서 연,월,일 뽑아서 int타입으로 만들기\n",
    "bike_df['year']=bike_df.datetime.apply(lambda x: x.year)\n",
    "bike_df['month']=bike_df.datetime.apply(lambda x: x.month)\n",
    "bike_df['day']=bike_df.datetime.apply(lambda x:x.day)\n",
    "bike_df['hour']=bike_df.datetime.apply(lambda x: x.hour)\n",
    "\n",
    "# 필요없는 컬럼 제거 \n",
    "drop_columns=['datetime','casual','registered']\n",
    "bike_df.drop(drop_columns,axis=1,inplace=True)\n",
    "bike_df.info()"
   ]
  },
  {
   "cell_type": "code",
   "execution_count": null,
   "metadata": {
    "id": "tH_sulq_UFDQ"
   },
   "outputs": [],
   "source": [
    "# 평가지표 반환하는 함수 생성\n",
    "from sklearn.metrics import mean_squared_error, mean_absolute_error\n",
    "\n",
    "## log 값 변환 시 언더플로우 영향으로 log() 가 아닌 log1p() 를 이용하여 RMSLE 계산\n",
    "def rmsle(y, pred):\n",
    "    log_y = np.log1p(y)\n",
    "    log_pred = np.log1p(pred)\n",
    "    squared_error = (log_y - log_pred) ** 2\n",
    "    rmsle = np.sqrt(np.mean(squared_error))\n",
    "    return rmsle\n",
    "\n",
    "## 사이킷런의 mean_square_error() 를 이용하여 RMSE 계산\n",
    "def rmse(y,pred):\n",
    "    return np.sqrt(mean_squared_error(y,pred))\n",
    "\n",
    "## MAE, RMSE, RMSLE 를 모두 계산 \n",
    "def evaluate_regr(y,pred):\n",
    "    rmsle_val = rmsle(y,pred)\n",
    "    rmse_val = rmse(y,pred)\n",
    "    # MAE 는 scikit learn의 mean_absolute_error() 로 계산\n",
    "    mae_val = mean_absolute_error(y,pred)\n",
    "    print('RMSLE: {0:.3f}, RMSE: {1:.3F}, MAE: {2:.3F}'.format(rmsle_val, rmse_val, mae_val))"
   ]
  },
  {
   "cell_type": "code",
   "execution_count": null,
   "metadata": {
    "colab": {
     "base_uri": "https://localhost:8080/"
    },
    "executionInfo": {
     "elapsed": 3362,
     "status": "ok",
     "timestamp": 1618465784046,
     "user": {
      "displayName": "작은빗방울",
      "photoUrl": "",
      "userId": "04277491561705901693"
     },
     "user_tz": -540
    },
    "id": "7tgQRSo1ZFaD",
    "outputId": "a9580ad1-f836-4fc7-fa43-900b4b535822"
   },
   "outputs": [
    {
     "name": "stdout",
     "output_type": "stream",
     "text": [
      "RMSLE: 1.165, RMSE: 140.900, MAE: 105.924\n"
     ]
    }
   ],
   "source": [
    "from sklearn.model_selection import train_test_split,GridSearchCV\n",
    "from sklearn.linear_model import LinearRegression,Ridge,Lasso\n",
    "\n",
    "y_target=bike_df['count']\n",
    "X_features=bike_df.drop(['count'],axis=1)\n",
    "\n",
    "X_train,X_test,y_train,y_test=train_test_split(X_features,y_target,test_size=0.3,random_state=0)\n",
    "\n",
    "lr_reg=LinearRegression()\n",
    "lr_reg.fit(X_train,y_train)\n",
    "pred=lr_reg.predict(X_test)\n",
    "\n",
    "evaluate_regr(y_test,pred)"
   ]
  },
  {
   "cell_type": "markdown",
   "metadata": {
    "id": "xXkezHzoUGly"
   },
   "source": [
    "### 회귀모델 적용 전 유의사항\n",
    "- **타겟값이 정규분포로 되어있는가? => 로그변환**\n",
    "- **카테고리형 피처는 원-핫 인코딩으로 인코딩!**"
   ]
  },
  {
   "cell_type": "code",
   "execution_count": null,
   "metadata": {
    "colab": {
     "base_uri": "https://localhost:8080/"
    },
    "executionInfo": {
     "elapsed": 621,
     "status": "ok",
     "timestamp": 1618404374429,
     "user": {
      "displayName": "작은빗방울",
      "photoUrl": "",
      "userId": "04277491561705901693"
     },
     "user_tz": -540
    },
    "id": "AOuz4yagZ_qg",
    "outputId": "7d49f195-999a-4bed-b97e-fb408205c243"
   },
   "outputs": [
    {
     "name": "stdout",
     "output_type": "stream",
     "text": [
      "      real_count  predicted_count   diff\n",
      "1618         890            322.0  568.0\n",
      "3151         798            241.0  557.0\n",
      "966          884            327.0  557.0\n",
      "412          745            194.0  551.0\n",
      "2817         856            310.0  546.0\n",
      "2277         813            267.0  546.0\n",
      "2314         766            222.0  544.0\n",
      "454          721            177.0  544.0\n",
      "1003         713            171.0  542.0\n",
      "2394         684            142.0  542.0\n",
      "1181         891            357.0  534.0\n",
      "1379         745            212.0  533.0\n",
      "2003         770            241.0  529.0\n",
      "1029         901            378.0  523.0\n",
      "3227         724            202.0  522.0\n",
      "1038         873            353.0  520.0\n",
      "3197         694            176.0  518.0\n",
      "507          688            174.0  514.0\n",
      "637          900            393.0  507.0\n",
      "87           594             95.0  499.0\n"
     ]
    }
   ],
   "source": [
    "# 오류가 많이 난 피처 확인\n",
    "def get_top_error_data(y_test,pred,n_tops=5):\n",
    "  result_df=pd.DataFrame(y_test.values,columns=['real_count'])\n",
    "  result_df['predicted_count']=np.round(pred)\n",
    "  result_df['diff']=np.abs(result_df['real_count']-result_df['predicted_count'])\n",
    "  print(result_df.sort_values('diff',ascending=False)[:n_tops])\n",
    "\n",
    "get_top_error_data(y_test,pred,n_tops=20)"
   ]
  },
  {
   "cell_type": "code",
   "execution_count": null,
   "metadata": {
    "colab": {
     "base_uri": "https://localhost:8080/",
     "height": 282
    },
    "executionInfo": {
     "elapsed": 1223,
     "status": "ok",
     "timestamp": 1618465792153,
     "user": {
      "displayName": "작은빗방울",
      "photoUrl": "",
      "userId": "04277491561705901693"
     },
     "user_tz": -540
    },
    "id": "TW-ottdrbuhY",
    "outputId": "7bc8208b-a4aa-4659-92f5-9d78befc9f49"
   },
   "outputs": [
    {
     "data": {
      "text/plain": [
       "<matplotlib.axes._subplots.AxesSubplot at 0x7efd46616490>"
      ]
     },
     "execution_count": 8,
     "metadata": {
      "tags": []
     },
     "output_type": "execute_result"
    },
    {
     "data": {
      "image/png": "[encoded data removed]",
      "text/plain": [
       "<Figure size 432x288 with 1 Axes>"
      ]
     },
     "metadata": {
      "needs_background": "light",
      "tags": []
     },
     "output_type": "display_data"
    }
   ],
   "source": [
    "y_target.hist()"
   ]
  },
  {
   "cell_type": "code",
   "execution_count": null,
   "metadata": {
    "colab": {
     "base_uri": "https://localhost:8080/",
     "height": 282
    },
    "executionInfo": {
     "elapsed": 889,
     "status": "ok",
     "timestamp": 1618468664412,
     "user": {
      "displayName": "작은빗방울",
      "photoUrl": "",
      "userId": "04277491561705901693"
     },
     "user_tz": -540
    },
    "id": "9g0_en2LNzDJ",
    "outputId": "42a2fb80-82b3-4c0c-d8c2-d1c8285a03d8"
   },
   "outputs": [
    {
     "data": {
      "text/plain": [
       "<matplotlib.axes._subplots.AxesSubplot at 0x7efd359ba450>"
      ]
     },
     "execution_count": 33,
     "metadata": {
      "tags": []
     },
     "output_type": "execute_result"
    },
    {
     "data": {
      "image/png": "[encoded data removed]",
      "text/plain": [
       "<Figure size 432x288 with 1 Axes>"
      ]
     },
     "metadata": {
      "needs_background": "light",
      "tags": []
     },
     "output_type": "display_data"
    }
   ],
   "source": [
    "# standardscaler가 정규분포 만드는 데에 약하다는 것을 보여줌\n",
    "from sklearn.preprocessing import StandardScaler\n",
    "scaler=StandardScaler()\n",
    "a=np.array(y_target)\n",
    "b=scaler.fit_transform(a.reshape(-1,1))\n",
    "c=b.reshape(-1,)\n",
    "d=pd.Series(data=c)\n",
    "d.hist()"
   ]
  },
  {
   "cell_type": "code",
   "execution_count": null,
   "metadata": {
    "colab": {
     "base_uri": "https://localhost:8080/",
     "height": 282
    },
    "executionInfo": {
     "elapsed": 744,
     "status": "ok",
     "timestamp": 1618465948916,
     "user": {
      "displayName": "작은빗방울",
      "photoUrl": "",
      "userId": "04277491561705901693"
     },
     "user_tz": -540
    },
    "id": "F5RhLm07E5AO",
    "outputId": "ea610b7f-764e-47ac-e737-0b6d26450c66"
   },
   "outputs": [
    {
     "data": {
      "text/plain": [
       "<matplotlib.axes._subplots.AxesSubplot at 0x7efd45d7ac10>"
      ]
     },
     "execution_count": 11,
     "metadata": {
      "tags": []
     },
     "output_type": "execute_result"
    },
    {
     "data": {
      "image/png": "[encoded data removed]",
      "text/plain": [
       "<Figure size 432x288 with 1 Axes>"
      ]
     },
     "metadata": {
      "needs_background": "light",
      "tags": []
     },
     "output_type": "display_data"
    }
   ],
   "source": [
    "y_target_log= np.log1p(y_target)\n",
    "y_target_log.hist()"
   ]
  },
  {
   "cell_type": "code",
   "execution_count": null,
   "metadata": {
    "colab": {
     "base_uri": "https://localhost:8080/"
    },
    "executionInfo": {
     "elapsed": 764,
     "status": "ok",
     "timestamp": 1618466496246,
     "user": {
      "displayName": "작은빗방울",
      "photoUrl": "",
      "userId": "04277491561705901693"
     },
     "user_tz": -540
    },
    "id": "IHvRvE-cFJni",
    "outputId": "f3f8b54e-e8a3-498b-e71a-4bc2a81fd183"
   },
   "outputs": [
    {
     "name": "stdout",
     "output_type": "stream",
     "text": [
      "RMSLE: 1.017, RMSE: 162.594, MAE: 109.286\n"
     ]
    }
   ],
   "source": [
    "# 로그변환된 y_target_log를 반영하여 학습/테스트 데이터 셋 분할\n",
    "X_train,X_test,y_train,y_test=train_test_split(X_features,y_target_log,test_size=0.3,\n",
    "                                               random_state=0)\n",
    "lr_reg=LinearRegression()\n",
    "lr_reg.fit(X_train,y_train)\n",
    "pred=lr_reg.predict(X_test)\n",
    "\n",
    "# 테스트 데이터 셋과 예측 값이 이미 로그변환되어 있으므로 다시 원래 스케일로 변환 \n",
    "# (예측값도 log변환된 타겟값을 기반으로 학습되어 예측되었으므로)\n",
    "y_test_exp=np.expm1(y_test)\n",
    "pred_exp=np.expm1(pred)\n",
    "\n",
    "evaluate_regr(y_test_exp,pred_exp)"
   ]
  },
  {
   "cell_type": "code",
   "execution_count": null,
   "metadata": {
    "id": "ubSCx27pHsvz"
   },
   "outputs": [],
   "source": [
    "# => 오히려 RMSE가 늘어남. 다음으로는 카테고리형 피처를 원핫인코딩하기!"
   ]
  },
  {
   "cell_type": "code",
   "execution_count": null,
   "metadata": {
    "colab": {
     "base_uri": "https://localhost:8080/",
     "height": 282
    },
    "executionInfo": {
     "elapsed": 862,
     "status": "ok",
     "timestamp": 1618404540068,
     "user": {
      "displayName": "작은빗방울",
      "photoUrl": "",
      "userId": "04277491561705901693"
     },
     "user_tz": -540
    },
    "id": "8n66iOpZa1cA",
    "outputId": "e3bb4fea-27d6-4e7e-94fd-1b62d7174921"
   },
   "outputs": [
    {
     "data": {
      "text/plain": [
       "<matplotlib.axes._subplots.AxesSubplot at 0x7f4f446f8350>"
      ]
     },
     "execution_count": 30,
     "metadata": {
      "tags": []
     },
     "output_type": "execute_result"
    },
    {
     "data": {
      "image/png": "[encoded data removed]",
      "text/plain": [
       "<Figure size 432x288 with 1 Axes>"
      ]
     },
     "metadata": {
      "needs_background": "light",
      "tags": []
     },
     "output_type": "display_data"
    }
   ],
   "source": [
    "# 각 피처의 회귀계수 시각화\n",
    "coef=pd.Series(lr_reg.coef_,index=X_features.columns)\n",
    "coef_sort=coef.sort_values(ascending=False)\n",
    "sns.barplot(x=coef_sort.values,y=coef_sort.index)\n",
    "# year 값이 합당하지 않게 지나치게 큼=> 카테고리형 피처지만 숫자형으로 됨 + 2011,2012처럼 큰 수"
   ]
  },
  {
   "cell_type": "code",
   "execution_count": null,
   "metadata": {
    "colab": {
     "base_uri": "https://localhost:8080/"
    },
    "executionInfo": {
     "elapsed": 595,
     "status": "ok",
     "timestamp": 1618468801071,
     "user": {
      "displayName": "작은빗방울",
      "photoUrl": "",
      "userId": "04277491561705901693"
     },
     "user_tz": -540
    },
    "id": "GN1CPoZPIDZC",
    "outputId": "6c4b2e11-98e7-46e3-e1bc-80146f2b05b0"
   },
   "outputs": [
    {
     "name": "stdout",
     "output_type": "stream",
     "text": [
      "2012    5464\n",
      "2011    5422\n",
      "Name: year, dtype: int64\n",
      "7     912\n",
      "6     912\n",
      "5     912\n",
      "12    912\n",
      "8     912\n",
      "11    911\n",
      "10    911\n",
      "4     909\n",
      "9     909\n",
      "3     901\n",
      "2     901\n",
      "1     884\n",
      "Name: month, dtype: int64\n",
      "23    456\n",
      "20    456\n",
      "16    456\n",
      "17    456\n",
      "18    456\n",
      "15    456\n",
      "12    456\n",
      "19    456\n",
      "13    456\n",
      "21    456\n",
      "14    456\n",
      "22    456\n",
      "6     455\n",
      "11    455\n",
      "10    455\n",
      "9     455\n",
      "7     455\n",
      "8     455\n",
      "0     455\n",
      "1     454\n",
      "5     452\n",
      "2     448\n",
      "4     442\n",
      "3     433\n",
      "Name: hour, dtype: int64\n",
      "4    2734\n",
      "3    2733\n",
      "2    2733\n",
      "1    2686\n",
      "Name: season, dtype: int64\n",
      "1    7192\n",
      "2    2834\n",
      "3     859\n",
      "4       1\n",
      "Name: weather, dtype: int64\n"
     ]
    }
   ],
   "source": [
    "# 카테고리형 피처 원-핫 인코딩\n",
    "# workingday, holiday는 이미 이진카테고리라서 안해도 예측 성능에는 별 차이 없음.\n",
    "columns=['year','month','hour','season','weather']\n",
    "\n",
    "for i in columns:\n",
    "  print(X_features[i].value_counts())"
   ]
  },
  {
   "cell_type": "code",
   "execution_count": null,
   "metadata": {
    "colab": {
     "base_uri": "https://localhost:8080/",
     "height": 439
    },
    "executionInfo": {
     "elapsed": 813,
     "status": "ok",
     "timestamp": 1618468802751,
     "user": {
      "displayName": "작은빗방울",
      "photoUrl": "",
      "userId": "04277491561705901693"
     },
     "user_tz": -540
    },
    "id": "7wpQXL8rJkEK",
    "outputId": "0af24aba-ecd1-4d6e-ee97-9edbff98f352"
   },
   "outputs": [
    {
     "data": {
      "text/html": [
       "<div>\n",
       "<style scoped>\n",
       "    .dataframe tbody tr th:only-of-type {\n",
       "        vertical-align: middle;\n",
       "    }\n",
       "\n",
       "    .dataframe tbody tr th {\n",
       "        vertical-align: top;\n",
       "    }\n",
       "\n",
       "    .dataframe thead th {\n",
       "        text-align: right;\n",
       "    }\n",
       "</style>\n",
       "<table border=\"1\" class=\"dataframe\">\n",
       "  <thead>\n",
       "    <tr style=\"text-align: right;\">\n",
       "      <th></th>\n",
       "      <th>holiday</th>\n",
       "      <th>workingday</th>\n",
       "      <th>temp</th>\n",
       "      <th>atemp</th>\n",
       "      <th>humidity</th>\n",
       "      <th>windspeed</th>\n",
       "      <th>day</th>\n",
       "      <th>year_2011</th>\n",
       "      <th>year_2012</th>\n",
       "      <th>month_1</th>\n",
       "      <th>month_2</th>\n",
       "      <th>month_3</th>\n",
       "      <th>month_4</th>\n",
       "      <th>month_5</th>\n",
       "      <th>month_6</th>\n",
       "      <th>month_7</th>\n",
       "      <th>month_8</th>\n",
       "      <th>month_9</th>\n",
       "      <th>month_10</th>\n",
       "      <th>month_11</th>\n",
       "      <th>month_12</th>\n",
       "      <th>hour_0</th>\n",
       "      <th>hour_1</th>\n",
       "      <th>hour_2</th>\n",
       "      <th>hour_3</th>\n",
       "      <th>hour_4</th>\n",
       "      <th>hour_5</th>\n",
       "      <th>hour_6</th>\n",
       "      <th>hour_7</th>\n",
       "      <th>hour_8</th>\n",
       "      <th>hour_9</th>\n",
       "      <th>hour_10</th>\n",
       "      <th>hour_11</th>\n",
       "      <th>hour_12</th>\n",
       "      <th>hour_13</th>\n",
       "      <th>hour_14</th>\n",
       "      <th>hour_15</th>\n",
       "      <th>hour_16</th>\n",
       "      <th>hour_17</th>\n",
       "      <th>hour_18</th>\n",
       "      <th>hour_19</th>\n",
       "      <th>hour_20</th>\n",
       "      <th>hour_21</th>\n",
       "      <th>hour_22</th>\n",
       "      <th>hour_23</th>\n",
       "      <th>season_1</th>\n",
       "      <th>season_2</th>\n",
       "      <th>season_3</th>\n",
       "      <th>season_4</th>\n",
       "      <th>weather_1</th>\n",
       "      <th>weather_2</th>\n",
       "      <th>weather_3</th>\n",
       "      <th>weather_4</th>\n",
       "    </tr>\n",
       "  </thead>\n",
       "  <tbody>\n",
       "    <tr>\n",
       "      <th>0</th>\n",
       "      <td>0</td>\n",
       "      <td>0</td>\n",
       "      <td>9.84</td>\n",
       "      <td>14.395</td>\n",
       "      <td>81</td>\n",
       "      <td>0.0000</td>\n",
       "      <td>1</td>\n",
       "      <td>1</td>\n",
       "      <td>0</td>\n",
       "      <td>1</td>\n",
       "      <td>0</td>\n",
       "      <td>0</td>\n",
       "      <td>0</td>\n",
       "      <td>0</td>\n",
       "      <td>0</td>\n",
       "      <td>0</td>\n",
       "      <td>0</td>\n",
       "      <td>0</td>\n",
       "      <td>0</td>\n",
       "      <td>0</td>\n",
       "      <td>0</td>\n",
       "      <td>1</td>\n",
       "      <td>0</td>\n",
       "      <td>0</td>\n",
       "      <td>0</td>\n",
       "      <td>0</td>\n",
       "      <td>0</td>\n",
       "      <td>0</td>\n",
       "      <td>0</td>\n",
       "      <td>0</td>\n",
       "      <td>0</td>\n",
       "      <td>0</td>\n",
       "      <td>0</td>\n",
       "      <td>0</td>\n",
       "      <td>0</td>\n",
       "      <td>0</td>\n",
       "      <td>0</td>\n",
       "      <td>0</td>\n",
       "      <td>0</td>\n",
       "      <td>0</td>\n",
       "      <td>0</td>\n",
       "      <td>0</td>\n",
       "      <td>0</td>\n",
       "      <td>0</td>\n",
       "      <td>0</td>\n",
       "      <td>1</td>\n",
       "      <td>0</td>\n",
       "      <td>0</td>\n",
       "      <td>0</td>\n",
       "      <td>1</td>\n",
       "      <td>0</td>\n",
       "      <td>0</td>\n",
       "      <td>0</td>\n",
       "    </tr>\n",
       "    <tr>\n",
       "      <th>1</th>\n",
       "      <td>0</td>\n",
       "      <td>0</td>\n",
       "      <td>9.02</td>\n",
       "      <td>13.635</td>\n",
       "      <td>80</td>\n",
       "      <td>0.0000</td>\n",
       "      <td>1</td>\n",
       "      <td>1</td>\n",
       "      <td>0</td>\n",
       "      <td>1</td>\n",
       "      <td>0</td>\n",
       "      <td>0</td>\n",
       "      <td>0</td>\n",
       "      <td>0</td>\n",
       "      <td>0</td>\n",
       "      <td>0</td>\n",
       "      <td>0</td>\n",
       "      <td>0</td>\n",
       "      <td>0</td>\n",
       "      <td>0</td>\n",
       "      <td>0</td>\n",
       "      <td>0</td>\n",
       "      <td>1</td>\n",
       "      <td>0</td>\n",
       "      <td>0</td>\n",
       "      <td>0</td>\n",
       "      <td>0</td>\n",
       "      <td>0</td>\n",
       "      <td>0</td>\n",
       "      <td>0</td>\n",
       "      <td>0</td>\n",
       "      <td>0</td>\n",
       "      <td>0</td>\n",
       "      <td>0</td>\n",
       "      <td>0</td>\n",
       "      <td>0</td>\n",
       "      <td>0</td>\n",
       "      <td>0</td>\n",
       "      <td>0</td>\n",
       "      <td>0</td>\n",
       "      <td>0</td>\n",
       "      <td>0</td>\n",
       "      <td>0</td>\n",
       "      <td>0</td>\n",
       "      <td>0</td>\n",
       "      <td>1</td>\n",
       "      <td>0</td>\n",
       "      <td>0</td>\n",
       "      <td>0</td>\n",
       "      <td>1</td>\n",
       "      <td>0</td>\n",
       "      <td>0</td>\n",
       "      <td>0</td>\n",
       "    </tr>\n",
       "    <tr>\n",
       "      <th>2</th>\n",
       "      <td>0</td>\n",
       "      <td>0</td>\n",
       "      <td>9.02</td>\n",
       "      <td>13.635</td>\n",
       "      <td>80</td>\n",
       "      <td>0.0000</td>\n",
       "      <td>1</td>\n",
       "      <td>1</td>\n",
       "      <td>0</td>\n",
       "      <td>1</td>\n",
       "      <td>0</td>\n",
       "      <td>0</td>\n",
       "      <td>0</td>\n",
       "      <td>0</td>\n",
       "      <td>0</td>\n",
       "      <td>0</td>\n",
       "      <td>0</td>\n",
       "      <td>0</td>\n",
       "      <td>0</td>\n",
       "      <td>0</td>\n",
       "      <td>0</td>\n",
       "      <td>0</td>\n",
       "      <td>0</td>\n",
       "      <td>1</td>\n",
       "      <td>0</td>\n",
       "      <td>0</td>\n",
       "      <td>0</td>\n",
       "      <td>0</td>\n",
       "      <td>0</td>\n",
       "      <td>0</td>\n",
       "      <td>0</td>\n",
       "      <td>0</td>\n",
       "      <td>0</td>\n",
       "      <td>0</td>\n",
       "      <td>0</td>\n",
       "      <td>0</td>\n",
       "      <td>0</td>\n",
       "      <td>0</td>\n",
       "      <td>0</td>\n",
       "      <td>0</td>\n",
       "      <td>0</td>\n",
       "      <td>0</td>\n",
       "      <td>0</td>\n",
       "      <td>0</td>\n",
       "      <td>0</td>\n",
       "      <td>1</td>\n",
       "      <td>0</td>\n",
       "      <td>0</td>\n",
       "      <td>0</td>\n",
       "      <td>1</td>\n",
       "      <td>0</td>\n",
       "      <td>0</td>\n",
       "      <td>0</td>\n",
       "    </tr>\n",
       "    <tr>\n",
       "      <th>3</th>\n",
       "      <td>0</td>\n",
       "      <td>0</td>\n",
       "      <td>9.84</td>\n",
       "      <td>14.395</td>\n",
       "      <td>75</td>\n",
       "      <td>0.0000</td>\n",
       "      <td>1</td>\n",
       "      <td>1</td>\n",
       "      <td>0</td>\n",
       "      <td>1</td>\n",
       "      <td>0</td>\n",
       "      <td>0</td>\n",
       "      <td>0</td>\n",
       "      <td>0</td>\n",
       "      <td>0</td>\n",
       "      <td>0</td>\n",
       "      <td>0</td>\n",
       "      <td>0</td>\n",
       "      <td>0</td>\n",
       "      <td>0</td>\n",
       "      <td>0</td>\n",
       "      <td>0</td>\n",
       "      <td>0</td>\n",
       "      <td>0</td>\n",
       "      <td>1</td>\n",
       "      <td>0</td>\n",
       "      <td>0</td>\n",
       "      <td>0</td>\n",
       "      <td>0</td>\n",
       "      <td>0</td>\n",
       "      <td>0</td>\n",
       "      <td>0</td>\n",
       "      <td>0</td>\n",
       "      <td>0</td>\n",
       "      <td>0</td>\n",
       "      <td>0</td>\n",
       "      <td>0</td>\n",
       "      <td>0</td>\n",
       "      <td>0</td>\n",
       "      <td>0</td>\n",
       "      <td>0</td>\n",
       "      <td>0</td>\n",
       "      <td>0</td>\n",
       "      <td>0</td>\n",
       "      <td>0</td>\n",
       "      <td>1</td>\n",
       "      <td>0</td>\n",
       "      <td>0</td>\n",
       "      <td>0</td>\n",
       "      <td>1</td>\n",
       "      <td>0</td>\n",
       "      <td>0</td>\n",
       "      <td>0</td>\n",
       "    </tr>\n",
       "    <tr>\n",
       "      <th>4</th>\n",
       "      <td>0</td>\n",
       "      <td>0</td>\n",
       "      <td>9.84</td>\n",
       "      <td>14.395</td>\n",
       "      <td>75</td>\n",
       "      <td>0.0000</td>\n",
       "      <td>1</td>\n",
       "      <td>1</td>\n",
       "      <td>0</td>\n",
       "      <td>1</td>\n",
       "      <td>0</td>\n",
       "      <td>0</td>\n",
       "      <td>0</td>\n",
       "      <td>0</td>\n",
       "      <td>0</td>\n",
       "      <td>0</td>\n",
       "      <td>0</td>\n",
       "      <td>0</td>\n",
       "      <td>0</td>\n",
       "      <td>0</td>\n",
       "      <td>0</td>\n",
       "      <td>0</td>\n",
       "      <td>0</td>\n",
       "      <td>0</td>\n",
       "      <td>0</td>\n",
       "      <td>1</td>\n",
       "      <td>0</td>\n",
       "      <td>0</td>\n",
       "      <td>0</td>\n",
       "      <td>0</td>\n",
       "      <td>0</td>\n",
       "      <td>0</td>\n",
       "      <td>0</td>\n",
       "      <td>0</td>\n",
       "      <td>0</td>\n",
       "      <td>0</td>\n",
       "      <td>0</td>\n",
       "      <td>0</td>\n",
       "      <td>0</td>\n",
       "      <td>0</td>\n",
       "      <td>0</td>\n",
       "      <td>0</td>\n",
       "      <td>0</td>\n",
       "      <td>0</td>\n",
       "      <td>0</td>\n",
       "      <td>1</td>\n",
       "      <td>0</td>\n",
       "      <td>0</td>\n",
       "      <td>0</td>\n",
       "      <td>1</td>\n",
       "      <td>0</td>\n",
       "      <td>0</td>\n",
       "      <td>0</td>\n",
       "    </tr>\n",
       "    <tr>\n",
       "      <th>...</th>\n",
       "      <td>...</td>\n",
       "      <td>...</td>\n",
       "      <td>...</td>\n",
       "      <td>...</td>\n",
       "      <td>...</td>\n",
       "      <td>...</td>\n",
       "      <td>...</td>\n",
       "      <td>...</td>\n",
       "      <td>...</td>\n",
       "      <td>...</td>\n",
       "      <td>...</td>\n",
       "      <td>...</td>\n",
       "      <td>...</td>\n",
       "      <td>...</td>\n",
       "      <td>...</td>\n",
       "      <td>...</td>\n",
       "      <td>...</td>\n",
       "      <td>...</td>\n",
       "      <td>...</td>\n",
       "      <td>...</td>\n",
       "      <td>...</td>\n",
       "      <td>...</td>\n",
       "      <td>...</td>\n",
       "      <td>...</td>\n",
       "      <td>...</td>\n",
       "      <td>...</td>\n",
       "      <td>...</td>\n",
       "      <td>...</td>\n",
       "      <td>...</td>\n",
       "      <td>...</td>\n",
       "      <td>...</td>\n",
       "      <td>...</td>\n",
       "      <td>...</td>\n",
       "      <td>...</td>\n",
       "      <td>...</td>\n",
       "      <td>...</td>\n",
       "      <td>...</td>\n",
       "      <td>...</td>\n",
       "      <td>...</td>\n",
       "      <td>...</td>\n",
       "      <td>...</td>\n",
       "      <td>...</td>\n",
       "      <td>...</td>\n",
       "      <td>...</td>\n",
       "      <td>...</td>\n",
       "      <td>...</td>\n",
       "      <td>...</td>\n",
       "      <td>...</td>\n",
       "      <td>...</td>\n",
       "      <td>...</td>\n",
       "      <td>...</td>\n",
       "      <td>...</td>\n",
       "      <td>...</td>\n",
       "    </tr>\n",
       "    <tr>\n",
       "      <th>10881</th>\n",
       "      <td>0</td>\n",
       "      <td>1</td>\n",
       "      <td>15.58</td>\n",
       "      <td>19.695</td>\n",
       "      <td>50</td>\n",
       "      <td>26.0027</td>\n",
       "      <td>19</td>\n",
       "      <td>0</td>\n",
       "      <td>1</td>\n",
       "      <td>0</td>\n",
       "      <td>0</td>\n",
       "      <td>0</td>\n",
       "      <td>0</td>\n",
       "      <td>0</td>\n",
       "      <td>0</td>\n",
       "      <td>0</td>\n",
       "      <td>0</td>\n",
       "      <td>0</td>\n",
       "      <td>0</td>\n",
       "      <td>0</td>\n",
       "      <td>1</td>\n",
       "      <td>0</td>\n",
       "      <td>0</td>\n",
       "      <td>0</td>\n",
       "      <td>0</td>\n",
       "      <td>0</td>\n",
       "      <td>0</td>\n",
       "      <td>0</td>\n",
       "      <td>0</td>\n",
       "      <td>0</td>\n",
       "      <td>0</td>\n",
       "      <td>0</td>\n",
       "      <td>0</td>\n",
       "      <td>0</td>\n",
       "      <td>0</td>\n",
       "      <td>0</td>\n",
       "      <td>0</td>\n",
       "      <td>0</td>\n",
       "      <td>0</td>\n",
       "      <td>0</td>\n",
       "      <td>1</td>\n",
       "      <td>0</td>\n",
       "      <td>0</td>\n",
       "      <td>0</td>\n",
       "      <td>0</td>\n",
       "      <td>0</td>\n",
       "      <td>0</td>\n",
       "      <td>0</td>\n",
       "      <td>1</td>\n",
       "      <td>1</td>\n",
       "      <td>0</td>\n",
       "      <td>0</td>\n",
       "      <td>0</td>\n",
       "    </tr>\n",
       "    <tr>\n",
       "      <th>10882</th>\n",
       "      <td>0</td>\n",
       "      <td>1</td>\n",
       "      <td>14.76</td>\n",
       "      <td>17.425</td>\n",
       "      <td>57</td>\n",
       "      <td>15.0013</td>\n",
       "      <td>19</td>\n",
       "      <td>0</td>\n",
       "      <td>1</td>\n",
       "      <td>0</td>\n",
       "      <td>0</td>\n",
       "      <td>0</td>\n",
       "      <td>0</td>\n",
       "      <td>0</td>\n",
       "      <td>0</td>\n",
       "      <td>0</td>\n",
       "      <td>0</td>\n",
       "      <td>0</td>\n",
       "      <td>0</td>\n",
       "      <td>0</td>\n",
       "      <td>1</td>\n",
       "      <td>0</td>\n",
       "      <td>0</td>\n",
       "      <td>0</td>\n",
       "      <td>0</td>\n",
       "      <td>0</td>\n",
       "      <td>0</td>\n",
       "      <td>0</td>\n",
       "      <td>0</td>\n",
       "      <td>0</td>\n",
       "      <td>0</td>\n",
       "      <td>0</td>\n",
       "      <td>0</td>\n",
       "      <td>0</td>\n",
       "      <td>0</td>\n",
       "      <td>0</td>\n",
       "      <td>0</td>\n",
       "      <td>0</td>\n",
       "      <td>0</td>\n",
       "      <td>0</td>\n",
       "      <td>0</td>\n",
       "      <td>1</td>\n",
       "      <td>0</td>\n",
       "      <td>0</td>\n",
       "      <td>0</td>\n",
       "      <td>0</td>\n",
       "      <td>0</td>\n",
       "      <td>0</td>\n",
       "      <td>1</td>\n",
       "      <td>1</td>\n",
       "      <td>0</td>\n",
       "      <td>0</td>\n",
       "      <td>0</td>\n",
       "    </tr>\n",
       "    <tr>\n",
       "      <th>10883</th>\n",
       "      <td>0</td>\n",
       "      <td>1</td>\n",
       "      <td>13.94</td>\n",
       "      <td>15.910</td>\n",
       "      <td>61</td>\n",
       "      <td>15.0013</td>\n",
       "      <td>19</td>\n",
       "      <td>0</td>\n",
       "      <td>1</td>\n",
       "      <td>0</td>\n",
       "      <td>0</td>\n",
       "      <td>0</td>\n",
       "      <td>0</td>\n",
       "      <td>0</td>\n",
       "      <td>0</td>\n",
       "      <td>0</td>\n",
       "      <td>0</td>\n",
       "      <td>0</td>\n",
       "      <td>0</td>\n",
       "      <td>0</td>\n",
       "      <td>1</td>\n",
       "      <td>0</td>\n",
       "      <td>0</td>\n",
       "      <td>0</td>\n",
       "      <td>0</td>\n",
       "      <td>0</td>\n",
       "      <td>0</td>\n",
       "      <td>0</td>\n",
       "      <td>0</td>\n",
       "      <td>0</td>\n",
       "      <td>0</td>\n",
       "      <td>0</td>\n",
       "      <td>0</td>\n",
       "      <td>0</td>\n",
       "      <td>0</td>\n",
       "      <td>0</td>\n",
       "      <td>0</td>\n",
       "      <td>0</td>\n",
       "      <td>0</td>\n",
       "      <td>0</td>\n",
       "      <td>0</td>\n",
       "      <td>0</td>\n",
       "      <td>1</td>\n",
       "      <td>0</td>\n",
       "      <td>0</td>\n",
       "      <td>0</td>\n",
       "      <td>0</td>\n",
       "      <td>0</td>\n",
       "      <td>1</td>\n",
       "      <td>1</td>\n",
       "      <td>0</td>\n",
       "      <td>0</td>\n",
       "      <td>0</td>\n",
       "    </tr>\n",
       "    <tr>\n",
       "      <th>10884</th>\n",
       "      <td>0</td>\n",
       "      <td>1</td>\n",
       "      <td>13.94</td>\n",
       "      <td>17.425</td>\n",
       "      <td>61</td>\n",
       "      <td>6.0032</td>\n",
       "      <td>19</td>\n",
       "      <td>0</td>\n",
       "      <td>1</td>\n",
       "      <td>0</td>\n",
       "      <td>0</td>\n",
       "      <td>0</td>\n",
       "      <td>0</td>\n",
       "      <td>0</td>\n",
       "      <td>0</td>\n",
       "      <td>0</td>\n",
       "      <td>0</td>\n",
       "      <td>0</td>\n",
       "      <td>0</td>\n",
       "      <td>0</td>\n",
       "      <td>1</td>\n",
       "      <td>0</td>\n",
       "      <td>0</td>\n",
       "      <td>0</td>\n",
       "      <td>0</td>\n",
       "      <td>0</td>\n",
       "      <td>0</td>\n",
       "      <td>0</td>\n",
       "      <td>0</td>\n",
       "      <td>0</td>\n",
       "      <td>0</td>\n",
       "      <td>0</td>\n",
       "      <td>0</td>\n",
       "      <td>0</td>\n",
       "      <td>0</td>\n",
       "      <td>0</td>\n",
       "      <td>0</td>\n",
       "      <td>0</td>\n",
       "      <td>0</td>\n",
       "      <td>0</td>\n",
       "      <td>0</td>\n",
       "      <td>0</td>\n",
       "      <td>0</td>\n",
       "      <td>1</td>\n",
       "      <td>0</td>\n",
       "      <td>0</td>\n",
       "      <td>0</td>\n",
       "      <td>0</td>\n",
       "      <td>1</td>\n",
       "      <td>1</td>\n",
       "      <td>0</td>\n",
       "      <td>0</td>\n",
       "      <td>0</td>\n",
       "    </tr>\n",
       "    <tr>\n",
       "      <th>10885</th>\n",
       "      <td>0</td>\n",
       "      <td>1</td>\n",
       "      <td>13.12</td>\n",
       "      <td>16.665</td>\n",
       "      <td>66</td>\n",
       "      <td>8.9981</td>\n",
       "      <td>19</td>\n",
       "      <td>0</td>\n",
       "      <td>1</td>\n",
       "      <td>0</td>\n",
       "      <td>0</td>\n",
       "      <td>0</td>\n",
       "      <td>0</td>\n",
       "      <td>0</td>\n",
       "      <td>0</td>\n",
       "      <td>0</td>\n",
       "      <td>0</td>\n",
       "      <td>0</td>\n",
       "      <td>0</td>\n",
       "      <td>0</td>\n",
       "      <td>1</td>\n",
       "      <td>0</td>\n",
       "      <td>0</td>\n",
       "      <td>0</td>\n",
       "      <td>0</td>\n",
       "      <td>0</td>\n",
       "      <td>0</td>\n",
       "      <td>0</td>\n",
       "      <td>0</td>\n",
       "      <td>0</td>\n",
       "      <td>0</td>\n",
       "      <td>0</td>\n",
       "      <td>0</td>\n",
       "      <td>0</td>\n",
       "      <td>0</td>\n",
       "      <td>0</td>\n",
       "      <td>0</td>\n",
       "      <td>0</td>\n",
       "      <td>0</td>\n",
       "      <td>0</td>\n",
       "      <td>0</td>\n",
       "      <td>0</td>\n",
       "      <td>0</td>\n",
       "      <td>0</td>\n",
       "      <td>1</td>\n",
       "      <td>0</td>\n",
       "      <td>0</td>\n",
       "      <td>0</td>\n",
       "      <td>1</td>\n",
       "      <td>1</td>\n",
       "      <td>0</td>\n",
       "      <td>0</td>\n",
       "      <td>0</td>\n",
       "    </tr>\n",
       "  </tbody>\n",
       "</table>\n",
       "<p>10886 rows × 53 columns</p>\n",
       "</div>"
      ],
      "text/plain": [
       "       holiday  workingday   temp  ...  weather_2  weather_3  weather_4\n",
       "0            0           0   9.84  ...          0          0          0\n",
       "1            0           0   9.02  ...          0          0          0\n",
       "2            0           0   9.02  ...          0          0          0\n",
       "3            0           0   9.84  ...          0          0          0\n",
       "4            0           0   9.84  ...          0          0          0\n",
       "...        ...         ...    ...  ...        ...        ...        ...\n",
       "10881        0           1  15.58  ...          0          0          0\n",
       "10882        0           1  14.76  ...          0          0          0\n",
       "10883        0           1  13.94  ...          0          0          0\n",
       "10884        0           1  13.94  ...          0          0          0\n",
       "10885        0           1  13.12  ...          0          0          0\n",
       "\n",
       "[10886 rows x 53 columns]"
      ]
     },
     "execution_count": 38,
     "metadata": {
      "tags": []
     },
     "output_type": "execute_result"
    }
   ],
   "source": [
    "# 원-핫 인코딩한 결과 출력!\n",
    "X_features_ohe=pd.get_dummies(X_features,columns=columns)\n",
    "X_features_ohe"
   ]
  },
  {
   "cell_type": "code",
   "execution_count": null,
   "metadata": {
    "colab": {
     "base_uri": "https://localhost:8080/"
    },
    "executionInfo": {
     "elapsed": 606,
     "status": "ok",
     "timestamp": 1618468806989,
     "user": {
      "displayName": "작은빗방울",
      "photoUrl": "",
      "userId": "04277491561705901693"
     },
     "user_tz": -540
    },
    "id": "N9to0XyfJ2q-",
    "outputId": "d08bff1c-d6f3-4a41-93cf-11bf882d0d47"
   },
   "outputs": [
    {
     "name": "stdout",
     "output_type": "stream",
     "text": [
      "### LinearRegression ###\n",
      "RMSLE: 0.589, RMSE: 97.484, MAE: 63.106\n",
      "### Ridge ###\n",
      "RMSLE: 0.589, RMSE: 98.403, MAE: 63.646\n",
      "### Lasso ###\n",
      "RMSLE: 0.634, RMSE: 113.031, MAE: 72.658\n"
     ]
    }
   ],
   "source": [
    "# 원핫인코딩된 피처데이터셋과 로그변환된 타겟값으로 학습/예측\n",
    "X_train,X_test,y_train,y_test=train_test_split(X_features_ohe,y_target_log,\n",
    "                                               test_size=0.3,random_state=0)\n",
    "\n",
    "def get_model_predict(model,X_train,X_test,y_train,y_test,is_expm1=False):\n",
    "  model.fit(X_train,y_train)\n",
    "  pred=model.predict(X_test)\n",
    "  if is_expm1:\n",
    "    y_test=np.expm1(y_test)\n",
    "    pred=np.expm1(pred)\n",
    "  print('###',model.__class__.__name__,'###')\n",
    "  evaluate_regr(y_test,pred)\n",
    "\n",
    "lr_reg=LinearRegression()\n",
    "ridge=Ridge(alpha=10)\n",
    "lasso=Lasso(alpha=0.01)\n",
    "\n",
    "for model in [lr_reg,ridge,lasso]:\n",
    "  get_model_predict(model,X_train,X_test,y_train,y_test,is_expm1=True)"
   ]
  },
  {
   "cell_type": "code",
   "execution_count": null,
   "metadata": {
    "colab": {
     "base_uri": "https://localhost:8080/",
     "height": 295
    },
    "executionInfo": {
     "elapsed": 1166,
     "status": "ok",
     "timestamp": 1618468814545,
     "user": {
      "displayName": "작은빗방울",
      "photoUrl": "",
      "userId": "04277491561705901693"
     },
     "user_tz": -540
    },
    "id": "rr1hOeQZL2dL",
    "outputId": "7f336912-c880-4f85-c9dd-e5066cbeaa9c"
   },
   "outputs": [
    {
     "data": {
      "text/plain": [
       "<matplotlib.axes._subplots.AxesSubplot at 0x7efd35920e10>"
      ]
     },
     "execution_count": 40,
     "metadata": {
      "tags": []
     },
     "output_type": "execute_result"
    },
    {
     "data": {
      "image/png": "[encoded data removed]",
      "text/plain": [
       "<Figure size 432x288 with 1 Axes>"
      ]
     },
     "metadata": {
      "needs_background": "light",
      "tags": []
     },
     "output_type": "display_data"
    }
   ],
   "source": [
    "import seaborn as sns\n",
    "\n",
    "coef=pd.Series(lr_reg.coef_,index=X_features_ohe.columns)\n",
    "coef_sort=coef.sort_values(ascending=False)[:10]\n",
    "sns.barplot(x=coef_sort.values,y=coef_sort.index)"
   ]
  },
  {
   "cell_type": "code",
   "execution_count": null,
   "metadata": {
    "colab": {
     "base_uri": "https://localhost:8080/"
    },
    "executionInfo": {
     "elapsed": 43014,
     "status": "ok",
     "timestamp": 1618468920478,
     "user": {
      "displayName": "작은빗방울",
      "photoUrl": "",
      "userId": "04277491561705901693"
     },
     "user_tz": -540
    },
    "id": "5qq-k7MgM05Z",
    "outputId": "55d06533-e40e-4d5b-8067-b4f2798c92e6"
   },
   "outputs": [
    {
     "name": "stdout",
     "output_type": "stream",
     "text": [
      "### RandomForestRegressor ###\n",
      "RMSLE: 0.354, RMSE: 50.816, MAE: 31.476\n",
      "### GradientBoostingRegressor ###\n",
      "RMSLE: 0.341, RMSE: 55.778, MAE: 34.334\n",
      "[06:41:54] WARNING: /workspace/src/objective/regression_obj.cu:152: reg:linear is now deprecated in favor of reg:squarederror.\n",
      "### XGBRegressor ###\n",
      "RMSLE: 0.346, RMSE: 56.474, MAE: 34.917\n",
      "### LGBMRegressor ###\n",
      "RMSLE: 0.316, RMSE: 46.473, MAE: 28.777\n"
     ]
    }
   ],
   "source": [
    "from sklearn.ensemble import RandomForestRegressor,GradientBoostingRegressor\n",
    "from xgboost import XGBRegressor\n",
    "from lightgbm import LGBMRegressor\n",
    "\n",
    "rf_reg = RandomForestRegressor(n_estimators=500)\n",
    "gbm_reg = GradientBoostingRegressor(n_estimators=500)\n",
    "xgb_reg = XGBRegressor(n_estimators=500)\n",
    "lgbm_reg = LGBMRegressor(n_estimators=500)\n",
    "\n",
    "for model in [rf_reg,gbm_reg,xgb_reg,lgbm_reg]:\n",
    "  get_model_predict(model,X_train,X_test,y_train,y_test,is_expm1=True)"
   ]
  }
 ],
 "metadata": {
  "colab": {
   "authorship_tag": "ABX9TyMpjsvvAgJN/wzHfIhkV4Kf",
   "collapsed_sections": [],
   "mount_file_id": "1E3ZkXZILaNLZIQiWfiukj5WwIZ0PVcXn",
   "name": "머신러닝_완벽가이드(5장).ipynb",
   "provenance": []
  },
  "kernelspec": {
   "display_name": "Python 3",
   "language": "python",
   "name": "python3"
  },
  "language_info": {
   "codemirror_mode": {
    "name": "ipython",
    "version": 3
   },
   "file_extension": ".py",
   "mimetype": "text/x-python",
   "name": "python",
   "nbconvert_exporter": "python",
   "pygments_lexer": "ipython3",
   "version": "3.8.8"
  }
 },
 "nbformat": 4,
 "nbformat_minor": 1
}
